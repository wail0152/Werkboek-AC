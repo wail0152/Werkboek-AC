{
 "cells": [
  {
   "cell_type": "markdown",
   "metadata": {
    "deletable": false,
    "editable": false
   },
   "source": [
    "# Werkboek Analytical Computing\n",
    "\n",
    "De inleveropdracht bestaat uit vier onderdelen, die allemaal in deze Jupyter Notebook zitten. Per week lever je een deel in, waarop je vervolgens feedback krijgt. Je kan deze feedback gebruiken om je werk te verbeteren, aan het einde van het blok wordt deze Notebook als portfolio beoordeeld voor je uiteindelijke cijfer.\n",
    "\n",
    "Iedere weekopdracht is verdeeld in een aantal deelopdrachten, dit kunnen zowel code-opdrachten (programmeer iets) als oefen-opdrachten (werk iets met de hand uit) zijn. Voor de oefen-opdrachten is een invul-cell beschikbaar die geel gemarkeerd is. Bij de code-opdrachten zal in de meeste gevallen aan het einde een test staan waarmee je kan zien of je code doet wat het moet doen. Iedere weekopdracht wordt afgesloten met een checkpoint, waar alle testen nog een keer herhaald worden. Als dit allemaal goed gaat kun je je werk op Canvas inleveren door een link naar je repository bij de juiste weekopdracht in te leveren. Ondanks de de naam \"oefen-opdracht\" zijn alle opdrachten summatief, en tellen alle opdrachten dus mee voor het eindcijfer.\n",
    "\n",
    "Voor je begint: voer het eerste code-blok uit voor alle imports. In dit blok moet je ook je studentnummer invullen.\n",
    "\n",
    "## Gebruik\n",
    "In Jupyter kan je code per cel uitvoeren. Deze cel is een tekstcel, als je deze uitvoert gebeurt er in principe niets. Je kunt wel dubbelklikken op de cell om de tekst aan te kunnen passen (dit zul je moeten doen bij de opdrachten waarbij je geen code maar tekst/formules moet schrijven). Als je de cel vervolgens uitvoert komt deze er weer als opgemaakte tekst uit te zien.\n",
    "\n",
    "Als je een code-cell uitvoert krijg je de uitvoer eronder te zien. Soms kan het zijn dat code niet uit wil voeren, zelfs code die al gegeven is. De meest gebruikelijke oorzaak is dat je een eerder code blok niet hebt uitgevoerd, waardoor Python functies of variabelen niet kan vinden. Loop de Notebook altijd van boven naar beneden door en voer in principe alles uit. Als je Jupyter afsluit en later verder gaat zal de uitvoer nog zichtbaar zijn, maar het effect van de code is niet bewaard gebleven. Je zal dan dus alle codeblokken tot waar je gebleven was opnieuw uit moeten voeren, van boven naar beneden. Gebruik de Run-knop in de toolbar of shift+enter om een blok uit te voeren.\n",
    "\n",
    "## Good Practice (AKA voorkomen dat je werk het ineens niet meer doet)\n",
    "Uitgevoerde code in een andere cel blijft in het geheugen, dus als je deze code verwijdert zie je niet meteen of je hele Notebook nog werkt. Let er daarom op als je Notebook op wilt schonen, de code soms blijft werken tot een herstart. **Als je docent de code nakijkt, start deze ook zonder alle verwijderde maar wel uitgevoerde code!** Om veilig code te verwijderen, kopieer het naar een ander document, verwijder het uit de Notebook en doe een *Restart en Run All*. Als alles nog werkt was de code niet nodig, zo niet moet je nog even goed kijken wat je weg aan het halen bent! Hanteer de volgende workflow:\n",
    "- Doe regelmatig een save, en een *Kernel/Restart en Run All*.\n",
    "- Ruim oude code op, en test met een *Kernel/Restart en Run All* dat alles blijft werken.\n",
    "- Als alles hierna nog werkt is het mogelijk tijd voor een Git commit.\n",
    "\n",
    "\n",
    "## FAQ\n",
    "**Q:** Het werkt niet! Jupyter is stom! (en ik heb de sectie \"Gebruik\" niet gelezen)\n",
    "\n",
    "**A:** Lees de sectie gebruik hierboven. \n",
    "\n",
    "**Q:** Functies / variabelen worden niet gevonden, en/of oude tests geven in een keer lange gecompliceerde errors.\n",
    "\n",
    "**A:** Herstart je kernel en voer je code van boven naar beneden uit (*Restart en Run All* kan hierbij helpen). Waarschijnlijk heb je in de tussentijd Jupyter Notebook (of zelfs alleen je Kernel, het ding dat de code uitvoert) herstart, waardoor oude code niet meer geladen is. \n",
    "\n",
    "**Q:** Ik krijg errors dat een functie niet de verwachte parameters heeft, of iets van die strekking.\n",
    "\n",
    "**A:** Mogelijk heb je een geïmporteerde functie overschreven. Herstart de kernel en voer de eerste cel opnieuw uit voor de imports. Mogelijk moet je andere cellen ook opnieuw uitvoeren, als je code functies of variabelen uit de andere cel gebruikt.\n",
    "\n",
    "**Q:** Hoe lever ik mijn werk in?\n",
    "\n",
    "**A:** Zie [de uitleg bij Checkpoint Alfa](#cp-alfa).\n",
    "\n",
    "**Q:** Wanneer moet ik inleveren?\n",
    "\n",
    "**A:** Zie [Canvas](https://canvas.hu.nl/courses/7473/assignments).\n",
    "\n",
    "## Checkpoints\n",
    "- [Alfa](#cp-alfa)\n",
    "- [Bravo](#cp-bravo)\n",
    "- [Charlie](#cp-charlie)\n",
    "- [Delta](#cp-delta)"
   ]
  },
  {
   "cell_type": "code",
   "execution_count": 1,
   "metadata": {},
   "outputs": [
    {
     "data": {
      "text/markdown": [
       "<h3 style=\"color:#00cccc;\">Seed geïnitialiseerd.</h3>"
      ],
      "text/plain": [
       "<IPython.core.display.Markdown object>"
      ]
     },
     "metadata": {},
     "output_type": "display_data"
    }
   ],
   "source": [
    "studentnr = \"vul hier je studentnummer in\"\n",
    "studentnr = 1762891\n",
    "\n",
    "from ac import * # don't try this at home ^_^'\n",
    "_ = RNG(studentnr)"
   ]
  },
  {
   "cell_type": "markdown",
   "metadata": {
    "deletable": false,
    "editable": false
   },
   "source": [
    "# Matrices en Vectoren\n",
    "Deze week gaan we aan de slag met vectoren en matrices. Bekijk hiervoor eerst de video's die op Canvas gelinkt staan. Het eerste deel van deze week bestaat uit het omzetten van de wiskundige structuren in Python code. In tegenstelling tot de meeste video's, waar vectoren meestal uit 2 of 3 elementen bestaan (en matrices vaak $2\\times 2$ of $3 \\times 3$ zijn) kijken wij naar het meer algemene geval, waar de lengte van een vector alles kan zijn. Vectoren met lengte 2 en 3 worden veel gebruikt in graphics en natuurkunde omdat deze mooi overeen komen met 2D en 3D werelden. \n",
    "\n",
    "In AI worden vectoren gebruikt om data op te slaan en te bewerken, waarbij ieder getal overeen komt met een input waarde: als je bijvoorbeeld een huizenprijs wil voorspellen aan de hand van het aantal vierkante meters oppervlakte, het aantal vierkante meters tuin, de afstand tot het station en de afstand tot een supermarkt hebben we 4 input variabelen, dus 4 \"dimensies\". Bij neurale netwerken die met afbeeldingen werken is iedere pixel vaak een inputwaarde, en heb je voor een plaatje van 100 bij 100 dus 10000-dimensionale vectoren nodig.\n",
    "\n",
    "In deze opdrachten werken we niet met 10000-dimensionale vectoren, maar beperken we ons tot maximaal 6 dimensies. Het is belangrijk om er meteen aan te wennen dat vectoren groter kunnen zijn dan we kunnen plotten, maar extreem hoge aantallen dimensies maken het uiteindelijk voor meer rekenwerk en minder overzichtelijk.\n",
    "\n",
    "Aan het einde van deze week hebben we onze eigen functies geschreven voor lineaire algebra, en zullen we deze gebruiken om een simpel getraind neuraal netwerk zonder activatiefunctie door te rekenen."
   ]
  },
  {
   "cell_type": "markdown",
   "metadata": {
    "deletable": false,
    "editable": false
   },
   "source": [
    "## Opdracht 0\n",
    "Bij vectoren is geen sprake van \"negatief\" en \"positief\", zoals dat bij normale getallen wel het geval is. Wel heeft iedere vector een negatiev_e_ (ook wel *additieve inverse* of *omgekeerde*). Deze vector is dus zelf niet negatief te noemen, waar wel negatief ten opzichte van een andere vector; deze vectors zijn elkaars negatieve. Bij normale getallen is de negatieve van $n$ bijvoorbeeld $-n$, en van $-n$ weer $n$. Bij een vector wordt van ieder element (getal) los de negatieve genomen, bijvoorbeeld:\n",
    "\n",
    "$$ \\text{als}\\ v=\n",
    "\\begin{bmatrix}\n",
    "  1\\\\\n",
    "  -3\\\\\n",
    "  7\\\\\n",
    "\\end{bmatrix}\\quad \\text{dan}\\ -v = \n",
    "\\begin{bmatrix}\n",
    "  -1\\\\\n",
    "  3\\\\\n",
    "  -7\\\\\n",
    "\\end{bmatrix}$$\n",
    "\n",
    "De code hieronder genereert zes willekeurige vectoren. Voer de code uit en gebruik het tekstblok eronder om de sommen en negatieven te geven."
   ]
  },
  {
   "cell_type": "code",
   "execution_count": 30,
   "metadata": {
    "deletable": false,
    "editable": false
   },
   "outputs": [
    {
     "data": {
      "text/latex": [
       "$\\displaystyle \\vec u = \n",
       "\\begin{bmatrix}\n",
       "  -1\\\\\n",
       "  -15\\\\\n",
       "  -4\\\\\n",
       "  -12\\\\\n",
       "  -7\\\\\n",
       "\\end{bmatrix}$"
      ],
      "text/plain": [
       "<IPython.core.display.Math object>"
      ]
     },
     "metadata": {},
     "output_type": "display_data"
    },
    {
     "data": {
      "text/markdown": [
       "<details><pre>$\\vec u =  \\begin{bmatrix}   -1\\\\   -15\\\\   -4\\\\   -12\\\\   -7\\\\ \\end{bmatrix}$</pre></details>"
      ],
      "text/plain": [
       "<IPython.core.display.Markdown object>"
      ]
     },
     "metadata": {},
     "output_type": "display_data"
    },
    {
     "data": {
      "text/latex": [
       "$\\displaystyle \\vec v = \n",
       "\\begin{bmatrix}\n",
       "  4\\\\\n",
       "  -19\\\\\n",
       "  -17\\\\\n",
       "  -16\\\\\n",
       "\\end{bmatrix}$"
      ],
      "text/plain": [
       "<IPython.core.display.Math object>"
      ]
     },
     "metadata": {},
     "output_type": "display_data"
    },
    {
     "data": {
      "text/markdown": [
       "<details><pre>$\\vec v =  \\begin{bmatrix}   4\\\\   -19\\\\   -17\\\\   -16\\\\ \\end{bmatrix}$</pre></details>"
      ],
      "text/plain": [
       "<IPython.core.display.Markdown object>"
      ]
     },
     "metadata": {},
     "output_type": "display_data"
    },
    {
     "data": {
      "text/latex": [
       "$\\displaystyle \\vec w = \n",
       "\\begin{bmatrix}\n",
       "  -2\\\\\n",
       "  14\\\\\n",
       "  19\\\\\n",
       "\\end{bmatrix}$"
      ],
      "text/plain": [
       "<IPython.core.display.Math object>"
      ]
     },
     "metadata": {},
     "output_type": "display_data"
    },
    {
     "data": {
      "text/markdown": [
       "<details><pre>$\\vec w =  \\begin{bmatrix}   -2\\\\   14\\\\   19\\\\ \\end{bmatrix}$</pre></details>"
      ],
      "text/plain": [
       "<IPython.core.display.Markdown object>"
      ]
     },
     "metadata": {},
     "output_type": "display_data"
    },
    {
     "data": {
      "text/latex": [
       "$\\displaystyle \\vec x = \n",
       "\\begin{bmatrix}\n",
       "  -14\\\\\n",
       "  11\\\\\n",
       "  6\\\\\n",
       "\\end{bmatrix}$"
      ],
      "text/plain": [
       "<IPython.core.display.Math object>"
      ]
     },
     "metadata": {},
     "output_type": "display_data"
    },
    {
     "data": {
      "text/markdown": [
       "<details><pre>$\\vec x =  \\begin{bmatrix}   -14\\\\   11\\\\   6\\\\ \\end{bmatrix}$</pre></details>"
      ],
      "text/plain": [
       "<IPython.core.display.Markdown object>"
      ]
     },
     "metadata": {},
     "output_type": "display_data"
    },
    {
     "data": {
      "text/latex": [
       "$\\displaystyle \\vec y = \n",
       "\\begin{bmatrix}\n",
       "  -5\\\\\n",
       "  0\\\\\n",
       "  14\\\\\n",
       "  18\\\\\n",
       "  -15\\\\\n",
       "\\end{bmatrix}$"
      ],
      "text/plain": [
       "<IPython.core.display.Math object>"
      ]
     },
     "metadata": {},
     "output_type": "display_data"
    },
    {
     "data": {
      "text/markdown": [
       "<details><pre>$\\vec y =  \\begin{bmatrix}   -5\\\\   0\\\\   14\\\\   18\\\\   -15\\\\ \\end{bmatrix}$</pre></details>"
      ],
      "text/plain": [
       "<IPython.core.display.Markdown object>"
      ]
     },
     "metadata": {},
     "output_type": "display_data"
    },
    {
     "data": {
      "text/latex": [
       "$\\displaystyle \\vec z = \n",
       "\\begin{bmatrix}\n",
       "  -10\\\\\n",
       "  2\\\\\n",
       "  13\\\\\n",
       "  6\\\\\n",
       "  -8\\\\\n",
       "\\end{bmatrix}$"
      ],
      "text/plain": [
       "<IPython.core.display.Math object>"
      ]
     },
     "metadata": {},
     "output_type": "display_data"
    },
    {
     "data": {
      "text/markdown": [
       "<details><pre>$\\vec z =  \\begin{bmatrix}   -10\\\\   2\\\\   13\\\\   6\\\\   -8\\\\ \\end{bmatrix}$</pre></details>"
      ],
      "text/plain": [
       "<IPython.core.display.Markdown object>"
      ]
     },
     "metadata": {},
     "output_type": "display_data"
    }
   ],
   "source": [
    "RNG().set(0)\n",
    "\n",
    "random_tensor(r\"\\vec u\")\n",
    "random_tensor(r\"\\vec v\")\n",
    "random_tensor(r\"\\vec w\",3)\n",
    "random_tensor(r\"\\vec x\",3)\n",
    "random_tensor(r\"\\vec y\",5)\n",
    "random_tensor(r\"\\vec z\",5)"
   ]
  },
  {
   "cell_type": "markdown",
   "metadata": {},
   "source": [
    "<div style=\"background:#fffff0;\">\n",
    "\n",
    "### Negatieve en Sommen\n",
    "Vul hier de negatieven in van de vectoren hierboven. Gebruik het voorbeeld hierboven voor de juiste LaTeX-notatie.\n",
    "\n",
    "$-\\vec u =  \\begin{bmatrix}   1\\\\   15\\\\   4\\\\   12\\\\   7\\\\ \\end{bmatrix}$\n",
    "\n",
    "$-\\vec v =  \\begin{bmatrix}   -4\\\\   19\\\\   17\\\\   16\\\\ \\end{bmatrix}$\n",
    "\n",
    "$-\\vec w + \\vec x = \\begin{bmatrix}   -12\\\\   -3\\\\   -13\\\\ \\end{bmatrix}$\n",
    "\n",
    "$-\\vec y - \\vec z = \\begin{bmatrix}   15\\\\   -2\\\\   -27\\\\   -24\\\\   23\\\\ \\end{bmatrix}$\n",
    "    \n",
    "</div>"
   ]
  },
  {
   "cell_type": "markdown",
   "metadata": {
    "deletable": false,
    "editable": false
   },
   "source": [
    "## Opdracht 1\n",
    "Maak een functie die twee vectoren bij elkaar optelt. De vectoren zijn Numpy arrays. Het is de bedoeling dat je deze opgave zelf oplost, en dus geen gebruik maakt van de Numpy functionaliteit om twee arrays op te tellen.\n",
    "Gebruik onderstaande functie als basis voor je oplossing; in de cel eronder staan een paar test-cases, waaraan je kunt zien of je oplossing correct is.\n",
    "Als de gebruiker twee vectoren van verschillend formaat meegeeft moet Python een `DimensionError` geven; dit kan met `raise DimensionError(\"Vectors niet hetzelfde formaat\")`."
   ]
  },
  {
   "cell_type": "code",
   "execution_count": 2,
   "metadata": {},
   "outputs": [],
   "source": [
    "def vector_addition(u: np.ndarray, v: np.ndarray) -> np.ndarray:\n",
    "    if len(u) != len(v):\n",
    "        raise DimensionError(\"Vectors niet hetzelfde formaat\")\n",
    "    result = [u[num_index] + v[num_index] for num_index in range(len(u))]\n",
    "    return np.asarray(result, dtype=np.float32)"
   ]
  },
  {
   "cell_type": "markdown",
   "metadata": {
    "deletable": false,
    "editable": false
   },
   "source": [
    "### Tests\n",
    "| **Test** | **Betekenis** |\n",
    "|---:|:---|\n",
    "| `test_valid_addition` | $\\vec u + \\vec v$ klopt  |\n",
    "| `test_additive_unit` | $\\vec u + \\vec 0 = \\vec u$ ($\\vec 0$ is de vector van de juiste lengte met alleen maar 0 waardes) |\n",
    "| `test_additive_unit2` | $\\vec 0 + \\vec u = \\vec u$ |\n",
    "| `test_test_invalid_addition` | $\\vec v + \\vec w$ geeft een `DimensionError` als de dimensies niet kloppen |\n"
   ]
  },
  {
   "cell_type": "code",
   "execution_count": 3,
   "metadata": {
    "deletable": false,
    "editable": false
   },
   "outputs": [
    {
     "name": "stderr",
     "output_type": "stream",
     "text": [
      "test_additive_unit (ac_tests.test_vector_addition.<locals>.TestVectorAddition) ... ok\n",
      "test_additive_unit_2 (ac_tests.test_vector_addition.<locals>.TestVectorAddition) ... ok\n",
      "test_invalid_addition (ac_tests.test_vector_addition.<locals>.TestVectorAddition) ... ok\n",
      "test_numpy_array (ac_tests.test_vector_addition.<locals>.TestVectorAddition) ... ok\n",
      "test_valid_addition (ac_tests.test_vector_addition.<locals>.TestVectorAddition) ... ok\n",
      "\n",
      "----------------------------------------------------------------------\n",
      "Ran 5 tests in 0.033s\n",
      "\n",
      "OK\n"
     ]
    }
   ],
   "source": [
    "test_vector_addition(vector_addition)"
   ]
  },
  {
   "cell_type": "markdown",
   "metadata": {
    "deletable": false,
    "editable": false
   },
   "source": [
    "## Opdracht 2\n",
    "Maak een functie die de negatieve van een vector geeft. Je mag niet geen gebruik maken van de Numpy functionaliteit om `-` op een hele array toe te passen.\n",
    "\n",
    "Ook hier moet je gebruik maken van het gegeven functie-template, en zijn test-functies beschikbaar. Voor alle volgende opdrachten geldt hetzelfde, tenzij anders aangegeven. Ook zal niet bij iedere opdracht expliciet vermeld worden dat je niet de ingebouwede Numpy-functionaliteit mag toepassen, dit wordt vanaf hier als bekend verondersteld."
   ]
  },
  {
   "cell_type": "code",
   "execution_count": 33,
   "metadata": {},
   "outputs": [],
   "source": [
    "def negative_of_vector(v: np.ndarray) -> np.ndarray:\n",
    "    return np.asarray([-number for number in v], dtype=np.float32)"
   ]
  },
  {
   "cell_type": "markdown",
   "metadata": {
    "deletable": false,
    "editable": false
   },
   "source": [
    "### Tests\n",
    "| **Test** | **Betekenis** |\n",
    "|---:|:---|\n",
    "| `test_negative_of_vector` | $-\\vec v$ klopt  |\n",
    "| `test_negative_of_zero` | $- \\vec 0 = \\vec 0$ (de vector van de juiste lengte met alleen maar 0 waardes) |\n",
    "| `test_sum_vector_negative_is_zero` | $\\vec v + (-\\vec v) = \\vec 0$ |\n"
   ]
  },
  {
   "cell_type": "code",
   "execution_count": 34,
   "metadata": {
    "deletable": false,
    "editable": false,
    "scrolled": true
   },
   "outputs": [
    {
     "name": "stderr",
     "output_type": "stream",
     "text": [
      "test_negative_of_vector (ac_tests.test_negative_of_vector.<locals>.TestNegativeOfVector) ... ok\n",
      "test_negative_of_zero (ac_tests.test_negative_of_vector.<locals>.TestNegativeOfVector) ... ok\n",
      "test_numpy_array (ac_tests.test_negative_of_vector.<locals>.TestNegativeOfVector) ... ok\n",
      "test_sum_vector_negative_is_zero (ac_tests.test_negative_of_vector.<locals>.TestNegativeOfVector) ... ok\n",
      "\n",
      "----------------------------------------------------------------------\n",
      "Ran 4 tests in 0.006s\n",
      "\n",
      "OK\n"
     ]
    }
   ],
   "source": [
    "test_negative_of_vector(negative_of_vector, vector_addition)"
   ]
  },
  {
   "cell_type": "markdown",
   "metadata": {
    "deletable": false,
    "editable": false
   },
   "source": [
    "## Opdracht 3\n",
    "Nu gaan we ons op vermenigvuldiging richten. Dit concept is in de lineaire algebra minder eenduidig dan met normale getallen: er zijn verschillende operaties die \"vermenigvuldiging\" genoemd worden. Voor het vermenigvuldigen van vectoren zijn er drie die ons op dit moment interesseren: \n",
    " - vermenigvuldigen van een vector met een getal, met als resultaat een vector *(scalaire vermenigvuldiging)*\n",
    " - vermenigvuldigen van twee vectoren, met als resultaat een getal *(inwendig product)*\n",
    " - vermenigvuldigen van een vector en een matrix, met als resultaat een vector *(toepassen van een matrix als lineaire transformatie)*\n",
    " \n",
    "Voor deze opdracht gaan we de eerste vorm uitwerken: scalaire vermenigvuldiging, oftewel vermenigvuldiging met een getal *(scalar)*. Hier wordt een vector als het ware \"geschaald\". Denk hiervoor aan vectoren als pijlen in een 2D ruimte: de richting van de pijl verandert *in principe** niet, maar de lengte wordt groter (of kleiner, als de scalar minder dan 0 is). De enige manier waarop een pijl wel van richting verandert is als deze met een negatief getal wordt vermenigvuldigt: de richting keert dan om. De pijl ligt nog wel op dezelfde lijn, maar wijst een andere kant op.\n",
    "\n",
    "Als we teruggaan naar ons plaatje van vectoren als lijsten met getallen dan betekent scalaire vermenigvuldiging dat ieder getal afzonderlijk met de scalar vermenigvuldigd wordt:\n",
    "\n",
    "$$ 2\n",
    "\\begin{bmatrix}\n",
    "  1\\\\\n",
    "  -3\\\\\n",
    "  7\\\\\n",
    "\\end{bmatrix} = \n",
    "\\begin{bmatrix}\n",
    "  2 \\cdot 1 \\\\\n",
    "  2 \\cdot -3 \\\\\n",
    "  2 \\cdot 7 \\\\\n",
    "\\end{bmatrix}= \n",
    "\\begin{bmatrix}\n",
    "  2\\\\\n",
    "  -6\\\\\n",
    "  14\\\\\n",
    "\\end{bmatrix}$$\n",
    "\n",
    "$$ \\left(-\\frac{1}{3}\\right)\n",
    "\\begin{bmatrix}\n",
    "  3\\\\\n",
    "  6\\\\\n",
    "  2\\\\\n",
    "  9\\\\\n",
    "\\end{bmatrix} = \n",
    "\\begin{bmatrix}\n",
    "  -\\frac{1}{3} \\cdot 3 \\\\\n",
    "  -\\frac{1}{3} \\cdot 6 \\\\\n",
    "  -\\frac{1}{3} \\cdot 2 \\\\\n",
    "  -\\frac{1}{3} \\cdot 9 \\\\\n",
    "\\end{bmatrix}= \n",
    "\\begin{bmatrix}\n",
    "  -1\\\\\n",
    "  -2\\\\\n",
    "  -\\frac{2}{3} \\\\\n",
    "  -3\\\\\n",
    "\\end{bmatrix}$$\n",
    "\n",
    "Hieronder staan weer zes willekeurge vectoren, $\\vec u$ t/m $\\vec z$ (als je ze niet ziet, voer dan eerst het code-blok uit). Gegeven deze vectoren, bereken de scalaire vermenigvuldigingen in het tekstblok eronder. De laatste twee zijn een voorbeeld van *lineaire combinaties*, waar we later meer van zullen zien."
   ]
  },
  {
   "cell_type": "code",
   "execution_count": 35,
   "metadata": {
    "deletable": false,
    "editable": false
   },
   "outputs": [
    {
     "data": {
      "text/latex": [
       "$\\displaystyle \\vec u = \n",
       "\\begin{bmatrix}\n",
       "  -16\\\\\n",
       "  11\\\\\n",
       "\\end{bmatrix}$"
      ],
      "text/plain": [
       "<IPython.core.display.Math object>"
      ]
     },
     "metadata": {},
     "output_type": "display_data"
    },
    {
     "data": {
      "text/markdown": [
       "<details><pre>$\\vec u =  \\begin{bmatrix}   -16\\\\   11\\\\ \\end{bmatrix}$</pre></details>"
      ],
      "text/plain": [
       "<IPython.core.display.Markdown object>"
      ]
     },
     "metadata": {},
     "output_type": "display_data"
    },
    {
     "data": {
      "text/latex": [
       "$\\displaystyle \\vec v = \n",
       "\\begin{bmatrix}\n",
       "  -9\\\\\n",
       "  3\\\\\n",
       "\\end{bmatrix}$"
      ],
      "text/plain": [
       "<IPython.core.display.Math object>"
      ]
     },
     "metadata": {},
     "output_type": "display_data"
    },
    {
     "data": {
      "text/markdown": [
       "<details><pre>$\\vec v =  \\begin{bmatrix}   -9\\\\   3\\\\ \\end{bmatrix}$</pre></details>"
      ],
      "text/plain": [
       "<IPython.core.display.Markdown object>"
      ]
     },
     "metadata": {},
     "output_type": "display_data"
    },
    {
     "data": {
      "text/latex": [
       "$\\displaystyle \\vec w = \n",
       "\\begin{bmatrix}\n",
       "  -1\\\\\n",
       "  11\\\\\n",
       "\\end{bmatrix}$"
      ],
      "text/plain": [
       "<IPython.core.display.Math object>"
      ]
     },
     "metadata": {},
     "output_type": "display_data"
    },
    {
     "data": {
      "text/markdown": [
       "<details><pre>$\\vec w =  \\begin{bmatrix}   -1\\\\   11\\\\ \\end{bmatrix}$</pre></details>"
      ],
      "text/plain": [
       "<IPython.core.display.Markdown object>"
      ]
     },
     "metadata": {},
     "output_type": "display_data"
    },
    {
     "data": {
      "text/latex": [
       "$\\displaystyle \\vec x = \n",
       "\\begin{bmatrix}\n",
       "  -3\\\\\n",
       "  5\\\\\n",
       "\\end{bmatrix}$"
      ],
      "text/plain": [
       "<IPython.core.display.Math object>"
      ]
     },
     "metadata": {},
     "output_type": "display_data"
    },
    {
     "data": {
      "text/markdown": [
       "<details><pre>$\\vec x =  \\begin{bmatrix}   -3\\\\   5\\\\ \\end{bmatrix}$</pre></details>"
      ],
      "text/plain": [
       "<IPython.core.display.Markdown object>"
      ]
     },
     "metadata": {},
     "output_type": "display_data"
    },
    {
     "data": {
      "text/latex": [
       "$\\displaystyle \\vec y = \n",
       "\\begin{bmatrix}\n",
       "  -2\\\\\n",
       "  -5\\\\\n",
       "  -1\\\\\n",
       "  -1\\\\\n",
       "\\end{bmatrix}$"
      ],
      "text/plain": [
       "<IPython.core.display.Math object>"
      ]
     },
     "metadata": {},
     "output_type": "display_data"
    },
    {
     "data": {
      "text/markdown": [
       "<details><pre>$\\vec y =  \\begin{bmatrix}   -2\\\\   -5\\\\   -1\\\\   -1\\\\ \\end{bmatrix}$</pre></details>"
      ],
      "text/plain": [
       "<IPython.core.display.Markdown object>"
      ]
     },
     "metadata": {},
     "output_type": "display_data"
    },
    {
     "data": {
      "text/latex": [
       "$\\displaystyle \\vec z = \n",
       "\\begin{bmatrix}\n",
       "  16\\\\\n",
       "  -2\\\\\n",
       "  -10\\\\\n",
       "  11\\\\\n",
       "\\end{bmatrix}$"
      ],
      "text/plain": [
       "<IPython.core.display.Math object>"
      ]
     },
     "metadata": {},
     "output_type": "display_data"
    },
    {
     "data": {
      "text/markdown": [
       "<details><pre>$\\vec z =  \\begin{bmatrix}   16\\\\   -2\\\\   -10\\\\   11\\\\ \\end{bmatrix}$</pre></details>"
      ],
      "text/plain": [
       "<IPython.core.display.Markdown object>"
      ]
     },
     "metadata": {},
     "output_type": "display_data"
    }
   ],
   "source": [
    "RNG().set(1)\n",
    "\n",
    "random_tensor(r\"\\vec u\")\n",
    "random_tensor(r\"\\vec v\")\n",
    "random_tensor(r\"\\vec w\",2)\n",
    "random_tensor(r\"\\vec x\",2)\n",
    "random_tensor(r\"\\vec y\",4)\n",
    "random_tensor(r\"\\vec z\",4)"
   ]
  },
  {
   "cell_type": "markdown",
   "metadata": {},
   "source": [
    "<a id='opdr3'></a>\n",
    "<div style=\"background:#fffff0;\">\n",
    "\n",
    "### Vermenigvuldigen en Lineaire Combinaties\n",
    "\n",
    "$3\\vec{u} = \\begin{bmatrix}   -48\\\\   33\\\\ \\end{bmatrix}$\n",
    "\n",
    "$-5\\vec{v} = \\begin{bmatrix}   45\\\\   -15\\\\ \\end{bmatrix}$\n",
    "\n",
    "$\\frac{1}{2} \\vec{v} = \\begin{bmatrix}   -4.5\\\\   1.5\\\\ \\end{bmatrix}$\n",
    "\n",
    "$3\\vec{w} + 4\\vec{x} = \\begin{bmatrix}   -15\\\\   53\\\\ \\end{bmatrix}$\n",
    "\n",
    "$8\\vec{y} - \\frac{1}{2}\\vec{z} = \\begin{bmatrix}   -24\\\\   -39\\\\   -13\\\\  -13.5\\\\  \\end{bmatrix}$\n",
    "    \n",
    "</div>"
   ]
  },
  {
   "cell_type": "markdown",
   "metadata": {
    "deletable": false,
    "editable": false
   },
   "source": [
    "## Opdracht 4\n",
    "Maak een functie die de scalaire vermenigvuldiging van een scalar en een vector geeft."
   ]
  },
  {
   "cell_type": "code",
   "execution_count": 36,
   "metadata": {},
   "outputs": [],
   "source": [
    "def scalar_product(s: int, v: np.ndarray) -> np.ndarray:\n",
    "    return np.asarray([s * number for number in v], dtype=np.float32)"
   ]
  },
  {
   "cell_type": "markdown",
   "metadata": {
    "deletable": false,
    "editable": false
   },
   "source": [
    "### Tests\n",
    "| **Test** | **Betekenis** |\n",
    "|---:|:---|\n",
    "| `test_zero` | $0\\vec v = \\vec 0$ (de vector van de juiste lengte met alleen maar 0 waardes) |\n",
    "| `test_unit` | $1\\vec v = \\vec v$ |\n",
    "| `test_double` | $2\\vec v = \\vec v + \\vec v$ |\n",
    "| `test_distributive_vector` | $a(\\vec u + \\vec v) = a \\vec u + a \\vec v$ |\n",
    "| `test_distributive_field` | $(a+b)\\vec v = a \\vec v + b \\vec v$|\n"
   ]
  },
  {
   "cell_type": "code",
   "execution_count": 37,
   "metadata": {
    "deletable": false,
    "editable": false
   },
   "outputs": [
    {
     "name": "stderr",
     "output_type": "stream",
     "text": [
      "test_distributive_field_a (ac_tests.test_scalar_product.<locals>.TestScalarProduct) ... ok\n",
      "test_distributive_field_b (ac_tests.test_scalar_product.<locals>.TestScalarProduct) ... ok\n",
      "test_distributive_vector_a (ac_tests.test_scalar_product.<locals>.TestScalarProduct) ... ok\n",
      "test_distributive_vector_b (ac_tests.test_scalar_product.<locals>.TestScalarProduct) ... ok\n",
      "test_double (ac_tests.test_scalar_product.<locals>.TestScalarProduct) ... ok\n",
      "test_numpy_array (ac_tests.test_scalar_product.<locals>.TestScalarProduct) ... ok\n",
      "test_unit (ac_tests.test_scalar_product.<locals>.TestScalarProduct) ... ok\n",
      "test_zero (ac_tests.test_scalar_product.<locals>.TestScalarProduct) ... ok\n",
      "\n",
      "----------------------------------------------------------------------\n",
      "Ran 8 tests in 0.012s\n",
      "\n",
      "OK\n"
     ]
    }
   ],
   "source": [
    "test_scalar_product(scalar_product, vector_addition)"
   ]
  },
  {
   "cell_type": "markdown",
   "metadata": {
    "deletable": false,
    "editable": false
   },
   "source": [
    "## Opdracht 5\n",
    "Het tweede product is een product tussen twee vectoren van hetzelfde formaat. Het resultaat van de vermenigvuldiging is een scalar (getal). Twee vectoren hebben alleen een inwendig product als ze zich in dezelfde ruimte bevinden, oftewel ze dezelfde dimensie hebben. Voor het inwendige product bestaan verschillende vormen van notatie, de meest voorkomende zijn $\\langle \\vec u | \\vec v \\rangle$,  $\\langle \\vec u, \\vec v \\rangle$ en $\\vec u \\cdot \\vec v$. In deze notebook gebruiken we de eerste variant.\n",
    "\n",
    "Hieronder staan vijf willekeurge vectoren, $\\vec u$ t/m $\\vec z$. Gegeven deze vectoren, vul de tabel in het tekstblok eronder in met de inwendige producten (of zet een $\\bot$ als de vermenigvuldiging niet kan)."
   ]
  },
  {
   "cell_type": "code",
   "execution_count": 38,
   "metadata": {
    "deletable": false,
    "editable": false
   },
   "outputs": [
    {
     "data": {
      "text/latex": [
       "$\\displaystyle \\vec u = \n",
       "\\begin{bmatrix}\n",
       "  13\\\\\n",
       "  -2\\\\\n",
       "\\end{bmatrix}$"
      ],
      "text/plain": [
       "<IPython.core.display.Math object>"
      ]
     },
     "metadata": {},
     "output_type": "display_data"
    },
    {
     "data": {
      "text/markdown": [
       "<details><pre>$\\vec u =  \\begin{bmatrix}   13\\\\   -2\\\\ \\end{bmatrix}$</pre></details>"
      ],
      "text/plain": [
       "<IPython.core.display.Markdown object>"
      ]
     },
     "metadata": {},
     "output_type": "display_data"
    },
    {
     "data": {
      "text/latex": [
       "$\\displaystyle \\vec v = \n",
       "\\begin{bmatrix}\n",
       "  7\\\\\n",
       "  11\\\\\n",
       "  0\\\\\n",
       "\\end{bmatrix}$"
      ],
      "text/plain": [
       "<IPython.core.display.Math object>"
      ]
     },
     "metadata": {},
     "output_type": "display_data"
    },
    {
     "data": {
      "text/markdown": [
       "<details><pre>$\\vec v =  \\begin{bmatrix}   7\\\\   11\\\\   0\\\\ \\end{bmatrix}$</pre></details>"
      ],
      "text/plain": [
       "<IPython.core.display.Markdown object>"
      ]
     },
     "metadata": {},
     "output_type": "display_data"
    },
    {
     "data": {
      "text/latex": [
       "$\\displaystyle \\vec w = \n",
       "\\begin{bmatrix}\n",
       "  -11\\\\\n",
       "  -7\\\\\n",
       "\\end{bmatrix}$"
      ],
      "text/plain": [
       "<IPython.core.display.Math object>"
      ]
     },
     "metadata": {},
     "output_type": "display_data"
    },
    {
     "data": {
      "text/markdown": [
       "<details><pre>$\\vec w =  \\begin{bmatrix}   -11\\\\   -7\\\\ \\end{bmatrix}$</pre></details>"
      ],
      "text/plain": [
       "<IPython.core.display.Markdown object>"
      ]
     },
     "metadata": {},
     "output_type": "display_data"
    },
    {
     "data": {
      "text/latex": [
       "$\\displaystyle \\vec x = \n",
       "\\begin{bmatrix}\n",
       "  -10\\\\\n",
       "  1\\\\\n",
       "  -2\\\\\n",
       "  8\\\\\n",
       "\\end{bmatrix}$"
      ],
      "text/plain": [
       "<IPython.core.display.Math object>"
      ]
     },
     "metadata": {},
     "output_type": "display_data"
    },
    {
     "data": {
      "text/markdown": [
       "<details><pre>$\\vec x =  \\begin{bmatrix}   -10\\\\   1\\\\   -2\\\\   8\\\\ \\end{bmatrix}$</pre></details>"
      ],
      "text/plain": [
       "<IPython.core.display.Markdown object>"
      ]
     },
     "metadata": {},
     "output_type": "display_data"
    },
    {
     "data": {
      "text/latex": [
       "$\\displaystyle \\vec y = \n",
       "\\begin{bmatrix}\n",
       "  13\\\\\n",
       "  -16\\\\\n",
       "  1\\\\\n",
       "  4\\\\\n",
       "\\end{bmatrix}$"
      ],
      "text/plain": [
       "<IPython.core.display.Math object>"
      ]
     },
     "metadata": {},
     "output_type": "display_data"
    },
    {
     "data": {
      "text/markdown": [
       "<details><pre>$\\vec y =  \\begin{bmatrix}   13\\\\   -16\\\\   1\\\\   4\\\\ \\end{bmatrix}$</pre></details>"
      ],
      "text/plain": [
       "<IPython.core.display.Markdown object>"
      ]
     },
     "metadata": {},
     "output_type": "display_data"
    }
   ],
   "source": [
    "RNG().set(2)\n",
    "\n",
    "random_tensor(r\"\\vec u\",2)\n",
    "random_tensor(r\"\\vec v\",3)\n",
    "random_tensor(r\"\\vec w\",2)\n",
    "random_tensor(r\"\\vec x\",4)\n",
    "random_tensor(r\"\\vec y\",4)"
   ]
  },
  {
   "cell_type": "markdown",
   "metadata": {},
   "source": [
    "<div style=\"background:#fffff0;\">\n",
    "    \n",
    "### Inwendige producten\n",
    "\n",
    "$\\begin{array}{|r|c|c|c|c|c|} \\hline\n",
    "& \\vec u & \\vec v & \\vec w & \\vec x & \\vec y \\\\ \\hline\n",
    "\\vec u & 173\n",
    "       & ⊥\n",
    "       & -129\n",
    "       & ⊥\n",
    "       & ⊥\n",
    "       \\\\ \\hline\n",
    "\\vec v & ⊥\n",
    "       & 170\n",
    "       & ⊥\n",
    "       & ⊥\n",
    "       & ⊥\n",
    "       \\\\ \\hline\n",
    "\\vec w & -129\n",
    "       & ⊥\n",
    "       & 170\n",
    "       & ⊥\n",
    "       & ⊥\n",
    "       \\\\ \\hline\n",
    "\\vec x & ⊥\n",
    "       & ⊥\n",
    "       & ⊥\n",
    "       & 169\n",
    "       & -116\n",
    "       \\\\ \\hline\n",
    "\\vec y & ⊥\n",
    "       & ⊥\n",
    "       & ⊥\n",
    "       & -116\n",
    "       & 442\n",
    "       \\\\ \\hline\n",
    "\\end{array}$\n",
    "\n",
    "#### Wat valt je op qua symmetrie aan de tabel?\n",
    "Is $\\langle \\vec u | \\vec v\\rangle$ hetzelfde als $\\langle \\vec v | \\vec u \\rangle$?\n",
    "\n",
    "ja ze zijn beide gelijk aan elkaar dit geld voor elke combinatie van 2 vectoren (van gelijke grote).\n",
    "\n",
    "Heeft $\\langle \\vec u | \\vec u \\rangle$ een speciale betekenis? Of de wortel daarvan?\n",
    "\n",
    "Als je een vector met zichzelf vermenigvuldigd krijg je altijd postieve getallen in de nieuwe vector en als je daarvan weer de wortel neemt krijg je het beginresultaat alleen positief, dus dit werkt als een soort van absolute functie.\n",
    "    \n",
    "</div>"
   ]
  },
  {
   "cell_type": "markdown",
   "metadata": {
    "deletable": false,
    "editable": false
   },
   "source": [
    "## Opdracht 6\n",
    "Maak een functie die het inwendig product van een twee vectoren geeft. Net als bij het optellen moet Python een `DimensionError` geven als de vectoren niet hetzelfde formaat hebben."
   ]
  },
  {
   "cell_type": "code",
   "execution_count": 39,
   "metadata": {},
   "outputs": [],
   "source": [
    "def inner_product(u: np.ndarray, v: np.ndarray) -> np.ndarray:\n",
    "    if len(u) != len(v):\n",
    "        raise DimensionError(\"Vectors niet hetzelfde formaat\")\n",
    "    result = 0\n",
    "    for num_index in range(len(u)):\n",
    "        result += u[num_index] * v[num_index]\n",
    "    return result"
   ]
  },
  {
   "cell_type": "markdown",
   "metadata": {
    "deletable": false,
    "editable": false
   },
   "source": [
    "### Tests\n",
    "| **Test** | **Betekenis** |\n",
    "|---:|:---|\n",
    "| `test_valid_product` | $\\langle \\vec u | \\vec v \\rangle $ werkt |\n",
    "| `test_invalid_product` | $\\langle \\vec v | \\vec w \\rangle$ geeft een `DimensionError` als de dimensies niet kloppen |\n",
    "| `test_zero` | $\\langle \\vec v | \\vec 0 \\rangle = 0$ |\n",
    "| `test_positive_definite` | $\\langle \\vec v | \\vec v \\rangle > 0$ zolang $\\vec v$ niet $\\vec 0$ is |\n",
    "| `test_commutative` | $\\langle \\vec u | \\vec v \\rangle = \\langle \\vec v | \\vec u \\rangle$ |\n",
    "| `test_linear1` | $\\langle a\\vec v | \\vec u \\rangle = a \\langle \\vec v | \\vec u \\rangle$ |\n",
    "| `test_linear2` | $\\langle \\vec v | a\\vec u \\rangle = a \\langle \\vec v | \\vec u \\rangle$|\n"
   ]
  },
  {
   "cell_type": "code",
   "execution_count": 40,
   "metadata": {
    "deletable": false,
    "editable": false
   },
   "outputs": [
    {
     "name": "stderr",
     "output_type": "stream",
     "text": [
      "test_commutative (ac_tests.test_inner_product.<locals>.TestInnerProduct) ... ok\n",
      "test_invalid_product (ac_tests.test_inner_product.<locals>.TestInnerProduct) ... ok\n",
      "test_linear1 (ac_tests.test_inner_product.<locals>.TestInnerProduct) ... ok\n",
      "test_linear2 (ac_tests.test_inner_product.<locals>.TestInnerProduct) ... ok\n",
      "test_positive_definite (ac_tests.test_inner_product.<locals>.TestInnerProduct) ... ok\n",
      "test_valid_product (ac_tests.test_inner_product.<locals>.TestInnerProduct) ... ok\n",
      "test_zero (ac_tests.test_inner_product.<locals>.TestInnerProduct) ... ok\n",
      "\n",
      "----------------------------------------------------------------------\n",
      "Ran 7 tests in 0.008s\n",
      "\n",
      "OK\n"
     ]
    }
   ],
   "source": [
    "test_inner_product(inner_product, scalar_product)"
   ]
  },
  {
   "cell_type": "markdown",
   "metadata": {
    "deletable": false,
    "editable": false
   },
   "source": [
    "## Opdracht 7\n",
    "Het laatste product dat we willen bekijken is een product tussen een vector en een matrix. Het resultaat van de vermenigvuldiging is een nieuwe vector. De matrix dient hier als een lineaire transformatie, die de vector transformeert. Als de matrix vierkant is wordt de vector binnen dezelfde ruimte getransformeerd: een $2\\times 2$ matrix kan bijvoorbeeld een draaiing in 2D zijn, die alleen op 2D vectoren toe te passen is. Een matrix kan echter ook rechthoekig zijn, en bijvoorbeeld van 3D naar 2D projecteren, als een schaduw.\n",
    "Om geldig te zijn moet bij een matrix-vector vermenigvuldiging $M \\vec v$ het aantal kolommen in de matrix overeen komen met het aantal getallen in de vector. Het resultaat is een nieuwe vector, met net zoveel getallen als er rijen in de matrix waren. Iedere kolom bepaalt wat er met één getal in de input-vector gebeurt, en elke rij levert één getal in de uitvoervector op. Het getal in de <span style=\"color: #ffaa00\">derde rij</span>, <span style=\"color: #00aaff\">tweede kolom</span> van een matrix bepaalt hoeveel het <span style=\"color: #00aaff\">tweede getal</span> van de input-vector meeweegt voor het <span style=\"color: #ffaa00\">derde getal</span> in de output-vector. Het product kun je op twee manieren achterhalen. De bovenste geeft meer intuitie over wat er gebeurt, en is met de hand makkelijker uit te rekenen. De tweede ziet er op papier wat onoverzichtelijker uit, maar is mogelijk makkelijker te programmeren.\n",
    "\n",
    "$$\\begin{bmatrix}a & b \\\\ c & d\\end{bmatrix}\\begin{bmatrix}e \\\\ f \\end{bmatrix} = e \\begin{bmatrix}a \\\\ c\\end{bmatrix} + f \\begin{bmatrix}b \\\\ d\\end{bmatrix} = \\begin{bmatrix}ae+bf \\\\ ce+df\\end{bmatrix}$$\n",
    "\n",
    "$$\\begin{bmatrix}a & b \\\\ c & d\\end{bmatrix}\\begin{bmatrix}e \\\\ f \\end{bmatrix} = \n",
    "\\begin{bmatrix}\n",
    "\\langle \\begin{bmatrix}a \\\\ b\\end{bmatrix} | \\begin{bmatrix}e \\\\ f\\end{bmatrix} \\rangle \\\\\n",
    "\\langle \\begin{bmatrix}c \\\\ d\\end{bmatrix} | \\begin{bmatrix}e \\\\ f\\end{bmatrix} \\rangle\n",
    "\\end{bmatrix}\n",
    " = \\begin{bmatrix}ae+bf \\\\ ce+df\\end{bmatrix}\n",
    "$$\n",
    "\n",
    "Hieronder staan een aantal vectoren en matrices, bereken de gevraagde vector-matrix vermenigvuldigingen, of zeg $\\bot$ als de vermenigvuldiging niet mogelijk is. **Schrijf bij elke vermenigvuldiging ook de tussenstappen uit, zoals de voorbeelden hierboven — maaar dan met concrete getallen!**"
   ]
  },
  {
   "cell_type": "code",
   "execution_count": 41,
   "metadata": {
    "deletable": false,
    "editable": false
   },
   "outputs": [
    {
     "data": {
      "text/latex": [
       "$\\displaystyle \\vec u = \n",
       "\\begin{bmatrix}\n",
       "  -16\\\\\n",
       "  -16\\\\\n",
       "  -8\\\\\n",
       "\\end{bmatrix}$"
      ],
      "text/plain": [
       "<IPython.core.display.Math object>"
      ]
     },
     "metadata": {},
     "output_type": "display_data"
    },
    {
     "data": {
      "text/markdown": [
       "<details><pre>$\\vec u =  \\begin{bmatrix}   -16\\\\   -16\\\\   -8\\\\ \\end{bmatrix}$</pre></details>"
      ],
      "text/plain": [
       "<IPython.core.display.Markdown object>"
      ]
     },
     "metadata": {},
     "output_type": "display_data"
    },
    {
     "data": {
      "text/latex": [
       "$\\displaystyle \\vec v = \n",
       "\\begin{bmatrix}\n",
       "  8\\\\\n",
       "  8\\\\\n",
       "\\end{bmatrix}$"
      ],
      "text/plain": [
       "<IPython.core.display.Math object>"
      ]
     },
     "metadata": {},
     "output_type": "display_data"
    },
    {
     "data": {
      "text/markdown": [
       "<details><pre>$\\vec v =  \\begin{bmatrix}   8\\\\   8\\\\ \\end{bmatrix}$</pre></details>"
      ],
      "text/plain": [
       "<IPython.core.display.Markdown object>"
      ]
     },
     "metadata": {},
     "output_type": "display_data"
    },
    {
     "data": {
      "text/latex": [
       "$\\displaystyle \\mathbf{M} = \n",
       "\\begin{bmatrix}\n",
       "  14 & -10\\\\\n",
       "  6 & -10\\\\\n",
       "  -17 & 4\\\\\n",
       "\\end{bmatrix}$"
      ],
      "text/plain": [
       "<IPython.core.display.Math object>"
      ]
     },
     "metadata": {},
     "output_type": "display_data"
    },
    {
     "data": {
      "text/markdown": [
       "<details><pre>$\\mathbf{M} =  \\begin{bmatrix}   14 & -10\\\\   6 & -10\\\\   -17 & 4\\\\ \\end{bmatrix}$</pre></details>"
      ],
      "text/plain": [
       "<IPython.core.display.Markdown object>"
      ]
     },
     "metadata": {},
     "output_type": "display_data"
    },
    {
     "data": {
      "text/latex": [
       "$\\displaystyle \\mathbf{N} = \n",
       "\\begin{bmatrix}\n",
       "  -18 & -7 & 8\\\\\n",
       "  10 & -8 & -12\\\\\n",
       "\\end{bmatrix}$"
      ],
      "text/plain": [
       "<IPython.core.display.Math object>"
      ]
     },
     "metadata": {},
     "output_type": "display_data"
    },
    {
     "data": {
      "text/markdown": [
       "<details><pre>$\\mathbf{N} =  \\begin{bmatrix}   -18 & -7 & 8\\\\   10 & -8 & -12\\\\ \\end{bmatrix}$</pre></details>"
      ],
      "text/plain": [
       "<IPython.core.display.Markdown object>"
      ]
     },
     "metadata": {},
     "output_type": "display_data"
    },
    {
     "data": {
      "text/latex": [
       "$\\displaystyle \\mathbf{O} = \n",
       "\\begin{bmatrix}\n",
       "  -5 & 11\\\\\n",
       "  -5 & -18\\\\\n",
       "\\end{bmatrix}$"
      ],
      "text/plain": [
       "<IPython.core.display.Math object>"
      ]
     },
     "metadata": {},
     "output_type": "display_data"
    },
    {
     "data": {
      "text/markdown": [
       "<details><pre>$\\mathbf{O} =  \\begin{bmatrix}   -5 & 11\\\\   -5 & -18\\\\ \\end{bmatrix}$</pre></details>"
      ],
      "text/plain": [
       "<IPython.core.display.Markdown object>"
      ]
     },
     "metadata": {},
     "output_type": "display_data"
    },
    {
     "data": {
      "text/latex": [
       "$\\displaystyle \\vec {p_a} = \n",
       "\\begin{bmatrix}\n",
       "  -16\\\\\n",
       "  11\\\\\n",
       "\\end{bmatrix}$"
      ],
      "text/plain": [
       "<IPython.core.display.Math object>"
      ]
     },
     "metadata": {},
     "output_type": "display_data"
    },
    {
     "data": {
      "text/markdown": [
       "<details><pre>$\\vec {p_a} =  \\begin{bmatrix}   -16\\\\   11\\\\ \\end{bmatrix}$</pre></details>"
      ],
      "text/plain": [
       "<IPython.core.display.Markdown object>"
      ]
     },
     "metadata": {},
     "output_type": "display_data"
    },
    {
     "data": {
      "text/latex": [
       "$\\displaystyle \\vec {p_b} = \n",
       "\\begin{bmatrix}\n",
       "  -9\\\\\n",
       "  3\\\\\n",
       "\\end{bmatrix}$"
      ],
      "text/plain": [
       "<IPython.core.display.Math object>"
      ]
     },
     "metadata": {},
     "output_type": "display_data"
    },
    {
     "data": {
      "text/markdown": [
       "<details><pre>$\\vec {p_b} =  \\begin{bmatrix}   -9\\\\   3\\\\ \\end{bmatrix}$</pre></details>"
      ],
      "text/plain": [
       "<IPython.core.display.Markdown object>"
      ]
     },
     "metadata": {},
     "output_type": "display_data"
    },
    {
     "data": {
      "text/latex": [
       "$\\displaystyle \\vec {q_a} = \n",
       "\\begin{bmatrix}\n",
       "  -1\\\\\n",
       "  11\\\\\n",
       "  -3\\\\\n",
       "  5\\\\\n",
       "\\end{bmatrix}$"
      ],
      "text/plain": [
       "<IPython.core.display.Math object>"
      ]
     },
     "metadata": {},
     "output_type": "display_data"
    },
    {
     "data": {
      "text/markdown": [
       "<details><pre>$\\vec {q_a} =  \\begin{bmatrix}   -1\\\\   11\\\\   -3\\\\   5\\\\ \\end{bmatrix}$</pre></details>"
      ],
      "text/plain": [
       "<IPython.core.display.Markdown object>"
      ]
     },
     "metadata": {},
     "output_type": "display_data"
    },
    {
     "data": {
      "text/latex": [
       "$\\displaystyle \\vec {q_b} = \n",
       "\\begin{bmatrix}\n",
       "  -2\\\\\n",
       "  -5\\\\\n",
       "  -1\\\\\n",
       "  -1\\\\\n",
       "\\end{bmatrix}$"
      ],
      "text/plain": [
       "<IPython.core.display.Math object>"
      ]
     },
     "metadata": {},
     "output_type": "display_data"
    },
    {
     "data": {
      "text/markdown": [
       "<details><pre>$\\vec {q_b} =  \\begin{bmatrix}   -2\\\\   -5\\\\   -1\\\\   -1\\\\ \\end{bmatrix}$</pre></details>"
      ],
      "text/plain": [
       "<IPython.core.display.Markdown object>"
      ]
     },
     "metadata": {},
     "output_type": "display_data"
    }
   ],
   "source": [
    "RNG().set(3)\n",
    "\n",
    "random_tensor(r\"\\vec u\",3)\n",
    "random_tensor(r\"\\vec v\",2)\n",
    "random_tensor(r\"\\mathbf{M}\",(3,2))\n",
    "random_tensor(r\"\\mathbf{N}\",(2,3))\n",
    "random_tensor(r\"\\mathbf{O}\",(2,2))\n",
    "\n",
    "RNG().set(1)\n",
    "\n",
    "random_tensor(r\"\\vec {p_a}\",2)\n",
    "random_tensor(r\"\\vec {p_b}\",2)\n",
    "random_tensor(r\"\\vec {q_a}\",4)\n",
    "random_tensor(r\"\\vec {q_b}\",4)"
   ]
  },
  {
   "cell_type": "markdown",
   "metadata": {},
   "source": [
    "<div style=\"background:#fffff0;\">\n",
    "    \n",
    "### Matrix-vector-producten\n",
    "\n",
    "$\\mathbf{M} \\vec v = \\begin{bmatrix}14 & -10\\\\   6 & -10\\\\   -17 & 4\\\\ \\end{bmatrix}\\begin{bmatrix}8 \\\\ 8 \\end{bmatrix} = 8 \\begin{bmatrix}14\\\\ 6\\\\ -17\\\\ \\end{bmatrix} + 8 \\begin{bmatrix}-10\\\\ -10\\\\ 4\\\\ \\end{bmatrix} = \\begin{bmatrix}32\\\\ -32\\\\ -104\\\\ \\end{bmatrix}$\n",
    "\n",
    "$\\mathbf{M} \\vec u = ⊥$\n",
    "    \n",
    "$\\mathbf{N} \\vec v = ⊥$\n",
    "    \n",
    "$\\mathbf{N} \\vec u = \\begin{bmatrix}-18 & -7 & 8\\\\   10 & -8 & -12\\\\ \\end{bmatrix}\\begin{bmatrix}-16\\\\   -16\\\\   -8\\\\ \\end{bmatrix} = -16 \\begin{bmatrix}-18\\\\ 10\\\\ \\end{bmatrix} - 16 \\begin{bmatrix}-7\\\\ -8\\\\ \\end{bmatrix} - 8 \\begin{bmatrix} 8\\\\ -12\\\\ \\end{bmatrix} = \\begin{bmatrix}336\\\\ 64\\\\ \\end{bmatrix}$\n",
    "      \n",
    "$\\mathbf{O} (\\mathbf{N} \\vec u) =  \\begin{bmatrix}   -5 & 11\\\\   -5 & -18\\\\ \\end{bmatrix} \\begin{bmatrix}336\\\\ 64\\\\ \\end{bmatrix} = 336 \\begin{bmatrix}-5\\\\ -5\\\\ \\end{bmatrix} + 64 \\begin{bmatrix}11\\\\ -18\\\\ \\end{bmatrix} = \\begin{bmatrix}-976\\\\ -2832\\ \\end{bmatrix}$\n",
    "\n",
    "<hr />\n",
    "    \n",
    "De vectoren $\\vec{p_a}$, $\\vec{p_b}$, $\\vec{q_a}$ en $\\vec{q_b}$ zijn hetzelfde als de vectoren $\\vec w$, $\\vec x$, $\\vec y$ en $\\vec z$ bij [opdracht 3](#opdr3). Toen hebben we de volgende twee *lineaire combinaties* uitgerekend:\n",
    "\n",
    "$3\\vec{w} + 4\\vec{x} = \\begin{bmatrix}   -15\\\\   53\\\\ \\end{bmatrix}$\n",
    "\n",
    "$8\\vec{y} - \\frac{1}{2}\\vec{z} = \\begin{bmatrix}   -24\\\\   -39\\\\   -13\\\\  -13.5\\\\  \\end{bmatrix}$\n",
    "\n",
    "Maak nu een matrix $\\mathbf{P}$ met als kolommen $\\vec{p_a}$ en $\\vec{p_b}$, en een matrix $\\mathbf{Q}$ met als kolommen $\\vec{q_a}$ en $\\vec{q_b}$ (telkens in de gegeven volgorde).\n",
    "\n",
    "$\\mathbf{P} = \\begin{bmatrix}-1 & -3\\\\   11 & 5\\\\ \\end{bmatrix}$\n",
    "\n",
    "$\\mathbf{Q} = \\begin{bmatrix}-2 & 16\\\\ -5 & -2\\\\ -1 & -10\\\\ -1 & 11\\\\ \\end{bmatrix}$\n",
    "    \n",
    "Gegeven deze twee matrices, reken de volgende vector-matrix vermenigvuldigingen uit. Vul als eerste tussenstap de juiste matrix in, en reken daarna **(ook weer met tussenstappen)** de berekening uit.\n",
    "\n",
    "$\\mathbf{P} \\begin{bmatrix}3 \\\\ 4\\end{bmatrix} = \\begin{bmatrix}-1 & -3\\\\   11 & 5\\\\ \\end{bmatrix} \\begin{bmatrix} 3\\\\ 4\\\\ \\end{bmatrix} = 3 \\begin{bmatrix}-1\\\\ 11\\\\ \\end{bmatrix} + 4 \\begin{bmatrix}-3\\\\ 5\\\\ \\end{bmatrix} = \\begin{bmatrix} -15\\\\ 53\\\\ \\end{bmatrix}$\n",
    "\n",
    "$\\mathbf{Q} \\begin{bmatrix}8 \\\\ -\\frac{1}{2}\\end{bmatrix} = \\begin{bmatrix}-2 & 16\\\\ -5 & -2\\\\ -1 & -10\\\\ -1 & 11\\\\ \\end{bmatrix} \\begin{bmatrix} 8 \\\\ -\\frac{1}{2}\\\\ \\end{bmatrix} = 8 \\begin{bmatrix}-2\\\\ -5\\\\ -1\\\\ -1\\\\ \\end{bmatrix} - \\frac{1}{2} \\begin{bmatrix} 16\\\\ -2\\\\ -10\\\\ 11\\\\ \\end{bmatrix} = \\begin{bmatrix} -24\\\\ -39\\\\ -13\\\\ -13.5\\\\ \\end{bmatrix}$\n",
    "\n",
    "**Vergelijk het antwoord met je antwoord van [opdracht 3](#opdr3). Wat valt je op?**\n",
    "Het valt me op dat de antwoorden gelijk aan elkaar zijn. Dus ik maak hieruit op dat scalaire vermenigvuldiging en de vectoren in een matrix zetten en de vermenigvuldigen met een vector van de scalaire getallen het zelfde zijn.\n",
    "\n",
    "</div>"
   ]
  },
  {
   "cell_type": "markdown",
   "metadata": {
    "deletable": false,
    "editable": false
   },
   "source": [
    "## Opdracht 8\n",
    "Maak een functie die een matrix `M` en een vector `v` vermenigvuldigt. Net als bij het inwendig product moet Python een `DimensionError` geven als de vermenigvuldiging niet mogelijk is."
   ]
  },
  {
   "cell_type": "code",
   "execution_count": 54,
   "metadata": {},
   "outputs": [],
   "source": [
    "def matrix_product(M: np.ndarray, v: np.ndarray) -> np.ndarray:\n",
    "    if len(M[0]) != len(v):\n",
    "        raise DimensionError(\"Vectors niet hetzelfde formaat\")\n",
    "    result = np.zeros((len(M),), dtype=int)\n",
    "    for pair_index in range(len(M)):\n",
    "        for num_index in range(len(M[pair_index])):\n",
    "            result[pair_index] += M[pair_index][num_index] * v[num_index]\n",
    "    return result"
   ]
  },
  {
   "cell_type": "markdown",
   "metadata": {
    "deletable": false,
    "editable": false
   },
   "source": [
    "### Tests\n",
    "| **Test** | **Betekenis** |\n",
    "|---:|:---|\n",
    "| `test_valid_product` | $\\mathbf{M} \\vec v$ werkt |\n",
    "| `test_invalid_product` | $\\mathbf{M} \\vec w$ geeft een `DimensionError` als de dimensies niet kloppen |\n",
    "| `test_scalar_product` | $(2\\mathbf{M}) \\vec v = 2(\\mathbf{M} \\vec v)$ |\n",
    "| `test_scalar_product2` | $\\mathbf{M} (2\\vec v) = 2(\\mathbf{M} \\vec v)$ |\n"
   ]
  },
  {
   "cell_type": "code",
   "execution_count": 55,
   "metadata": {
    "deletable": false,
    "editable": false
   },
   "outputs": [
    {
     "name": "stderr",
     "output_type": "stream",
     "text": [
      "test_invalid_product (ac_tests.test_vector_matrix_product.<locals>.TestVectorMatrixProduct) ... ok\n",
      "test_scalar_product (ac_tests.test_vector_matrix_product.<locals>.TestVectorMatrixProduct) ... ok\n",
      "test_scalar_product2 (ac_tests.test_vector_matrix_product.<locals>.TestVectorMatrixProduct) ... ok\n",
      "test_valid_product (ac_tests.test_vector_matrix_product.<locals>.TestVectorMatrixProduct) ... ok\n",
      "\n",
      "----------------------------------------------------------------------\n",
      "Ran 4 tests in 0.010s\n",
      "\n",
      "OK\n"
     ]
    }
   ],
   "source": [
    "test_vector_matrix_product(matrix_product)"
   ]
  },
  {
   "cell_type": "markdown",
   "metadata": {
    "deletable": false,
    "editable": false
   },
   "source": [
    "## Opdracht 9\n",
    "Tot slot kunnen we ook twee matrices met elkaar vermenigvuldigen. Hiermee combineren we de twee lineaire transformaties die in de matrices gecodeerd zit. Dit kan handig zijn als je dezelfde combinatie van matrices telkens met andere vectoren wilt vermenigvuldigen, zoals in de eindopdracht van deze week.\n",
    "\n",
    "Om geldig te zijn moet bij een matrix-matrix vermenigvuldiging $\\textbf{MN}$  het aantal kolommen in de matrix $M$ overeen komen met het aantal rijen in de matrix $\\bf N$. Het resultaat is een nieuwe vector, met net zoveel getallen als er rijen in de matrix waren. Iedere kolom in $\\bf M$ bepaalt wat er met één rij in $\\bf N$ gebeurt. Het product kun je wederom op twee manieren achterhalen. De eerste geeft meer intuitie over wat er gebeurt, zeker met betrekking tot de basisvectoren, en is daarnaast op papier. De tweede ziet er op papier juist wat minder helder uit, maar is wel weer makkelijker te programmeren.\n",
    "\n",
    "$$\\begin{bmatrix}a & b \\\\ c & d\\end{bmatrix}\\begin{bmatrix}e & f \\\\ g & h \\end{bmatrix} =\n",
    "\\begin{bmatrix}a & b \\\\ c & d\\end{bmatrix}\\begin{bmatrix}e & f \\\\ g & h \\end{bmatrix} =\n",
    "\\begin{bmatrix}\n",
    "  e \\begin{bmatrix}a \\\\ c\\end{bmatrix} +\n",
    "  g \\begin{bmatrix}b \\\\ d\\end{bmatrix} & \n",
    "  f \\begin{bmatrix}a \\\\ c\\end{bmatrix} +\n",
    "  h \\begin{bmatrix}b \\\\ d\\end{bmatrix}\n",
    "\\end{bmatrix}\n",
    " = \\begin{bmatrix}ae+bg & af+bh \\\\ ce+dg & cf+dh \\end{bmatrix}\n",
    "$$\n",
    "\n",
    "$$\\begin{bmatrix}a & b \\\\ c & d\\end{bmatrix}\\begin{bmatrix}e & f \\\\ g & h \\end{bmatrix} = \n",
    "\\begin{bmatrix}\n",
    "\\langle \\begin{bmatrix}a \\\\ b\\end{bmatrix} | \\begin{bmatrix}e \\\\ g\\end{bmatrix} \\rangle &\n",
    "\\langle \\begin{bmatrix}a \\\\ b\\end{bmatrix} | \\begin{bmatrix}f \\\\ h\\end{bmatrix} \\rangle \\\\\n",
    "\\langle \\begin{bmatrix}c \\\\ d\\end{bmatrix} | \\begin{bmatrix}e \\\\ g\\end{bmatrix} \\rangle &\n",
    "\\langle \\begin{bmatrix}c \\\\ d\\end{bmatrix} | \\begin{bmatrix}f \\\\ h\\end{bmatrix} \\rangle \\\\\n",
    "\\end{bmatrix}\n",
    " = \\begin{bmatrix}ae+bg & af+bh \\\\ ce+dg & cf+dh \\end{bmatrix}\n",
    "$$\n",
    "\n",
    "Je krijgt hieronder wederom een aantal willekeurige matrices; bereken de matrix-producten zoals aangegeven eronder, of zeg $\\bot$ als de vermenigvuldiging niet mogelijk is. **Schrijf bij elke vermenigvuldiging ook de tussenstappen uit, zoals de voorbeelden hierboven — maaar dan met concrete getallen!**"
   ]
  },
  {
   "cell_type": "code",
   "execution_count": 44,
   "metadata": {
    "deletable": false,
    "editable": false
   },
   "outputs": [
    {
     "data": {
      "text/latex": [
       "$\\displaystyle \\vec v = \n",
       "\\begin{bmatrix}\n",
       "  8\\\\\n",
       "  8\\\\\n",
       "\\end{bmatrix}$"
      ],
      "text/plain": [
       "<IPython.core.display.Math object>"
      ]
     },
     "metadata": {},
     "output_type": "display_data"
    },
    {
     "data": {
      "text/markdown": [
       "<details><pre>$\\vec v =  \\begin{bmatrix}   8\\\\   8\\\\ \\end{bmatrix}$</pre></details>"
      ],
      "text/plain": [
       "<IPython.core.display.Markdown object>"
      ]
     },
     "metadata": {},
     "output_type": "display_data"
    },
    {
     "data": {
      "text/latex": [
       "$\\displaystyle \\mathbf{M} = \n",
       "\\begin{bmatrix}\n",
       "  14 & -10\\\\\n",
       "  6 & -10\\\\\n",
       "  -17 & 4\\\\\n",
       "\\end{bmatrix}$"
      ],
      "text/plain": [
       "<IPython.core.display.Math object>"
      ]
     },
     "metadata": {},
     "output_type": "display_data"
    },
    {
     "data": {
      "text/markdown": [
       "<details><pre>$\\mathbf{M} =  \\begin{bmatrix}   14 & -10\\\\   6 & -10\\\\   -17 & 4\\\\ \\end{bmatrix}$</pre></details>"
      ],
      "text/plain": [
       "<IPython.core.display.Markdown object>"
      ]
     },
     "metadata": {},
     "output_type": "display_data"
    },
    {
     "data": {
      "text/latex": [
       "$\\displaystyle \\mathbf{N} = \n",
       "\\begin{bmatrix}\n",
       "  -18 & -7 & 8\\\\\n",
       "  10 & -8 & -12\\\\\n",
       "\\end{bmatrix}$"
      ],
      "text/plain": [
       "<IPython.core.display.Math object>"
      ]
     },
     "metadata": {},
     "output_type": "display_data"
    },
    {
     "data": {
      "text/markdown": [
       "<details><pre>$\\mathbf{N} =  \\begin{bmatrix}   -18 & -7 & 8\\\\   10 & -8 & -12\\\\ \\end{bmatrix}$</pre></details>"
      ],
      "text/plain": [
       "<IPython.core.display.Markdown object>"
      ]
     },
     "metadata": {},
     "output_type": "display_data"
    },
    {
     "data": {
      "text/latex": [
       "$\\displaystyle \\mathbf{O} = \n",
       "\\begin{bmatrix}\n",
       "  -5 & 11\\\\\n",
       "  -5 & -18\\\\\n",
       "\\end{bmatrix}$"
      ],
      "text/plain": [
       "<IPython.core.display.Math object>"
      ]
     },
     "metadata": {},
     "output_type": "display_data"
    },
    {
     "data": {
      "text/markdown": [
       "<details><pre>$\\mathbf{O} =  \\begin{bmatrix}   -5 & 11\\\\   -5 & -18\\\\ \\end{bmatrix}$</pre></details>"
      ],
      "text/plain": [
       "<IPython.core.display.Markdown object>"
      ]
     },
     "metadata": {},
     "output_type": "display_data"
    }
   ],
   "source": [
    "RNG().set(3).consume_entropy(0x03, -0x14, 0x14)\n",
    "\n",
    "random_tensor(r\"\\vec v\",2)\n",
    "random_tensor(r\"\\mathbf{M}\",(3,2))\n",
    "random_tensor(r\"\\mathbf{N}\",(2,3))\n",
    "random_tensor(r\"\\mathbf{O}\",(2,2))"
   ]
  },
  {
   "cell_type": "markdown",
   "metadata": {},
   "source": [
    "<div style=\"background:#fffff0;\">\n",
    "\n",
    "### Matrix-producten\n",
    "   \n",
    "$\\mathbf{O} (\\mathbf{N} \\vec u) = \\begin{bmatrix}   -5 & 11\\\\   -5 & -18\\\\ \\end{bmatrix} \\begin{bmatrix}336\\\\ 64\\\\ \\end{bmatrix} = 336 \\begin{bmatrix}-5\\\\ -5\\\\ \\end{bmatrix} + 64 \\begin{bmatrix}11\\\\ -18\\\\ \\end{bmatrix} = \\begin{bmatrix}-976\\\\ -2832\\ \\end{bmatrix}$\n",
    "\n",
    "$\\mathbf{O} \\mathbf{N} = \\begin{bmatrix}-5 & 11 \\\\ -5 & -18\\end{bmatrix}\\begin{bmatrix}-18 & -7 & 8\\\\ 10 & -8 & -12 \\end{bmatrix} =\n",
    "\\begin{bmatrix}\n",
    "  -18 \\begin{bmatrix}-5 \\\\ -5\\end{bmatrix} +\n",
    "  10 \\begin{bmatrix}11 \\\\ -18\\end{bmatrix} & \n",
    "  -7 \\begin{bmatrix}-5 \\\\ -5\\end{bmatrix} \n",
    "  -8 \\begin{bmatrix}11 \\\\ -18\\end{bmatrix} &\n",
    "  8 \\begin{bmatrix}-5 \\\\ -5\\end{bmatrix} \n",
    "  -12 \\begin{bmatrix}11 \\\\ -18\\end{bmatrix}\n",
    "\\end{bmatrix}\n",
    " = \\begin{bmatrix} 200 & -53 & -172\\\\ -90 & 179 & 176\\\\ \\end{bmatrix}\n",
    "$\n",
    "\n",
    "$(\\mathbf{O} \\mathbf{N}) \\vec u = ⊥ $\n",
    "\n",
    "$ %newline $\n",
    "    \n",
    "$\\mathbf{O} \\mathbf{M} = ⊥$\n",
    "\n",
    "$\\mathbf{O} \\mathbf{O} = \\begin{bmatrix}   -5 & 11\\\\   -5 & -18\\\\ \\end{bmatrix} \\begin{bmatrix}   -5 & 11\\\\   -5 & -18\\\\ \\end{bmatrix} = \n",
    "\\begin{bmatrix}\n",
    "-5 \\begin{bmatrix} -5\\\\ -5\\\\ \\end{bmatrix} \n",
    "-5 \\begin{bmatrix} 11\\\\ -18\\\\ \\end{bmatrix} &\n",
    "11 \\begin{bmatrix} -5\\\\ -5\\\\ \\end{bmatrix} \n",
    "-18 \\begin{bmatrix} 11\\\\ -18\\\\ \\end{bmatrix}\n",
    "\\end{bmatrix} =\n",
    "\\begin{bmatrix} -30 & -253\\\\ 115 & 269\\\\ \\end{bmatrix}\n",
    "$\n",
    "\n",
    "$\\mathbf{N} \\mathbf{N} = ⊥$\n",
    "\n",
    "$\\mathbf{N} \\mathbf{M} =  \\begin{bmatrix}   -18 & -7 & 8\\\\   10 & -8 & -12\\\\ \\end{bmatrix} \\begin{bmatrix}   14 & -10\\\\   6 & -10\\\\   -17 & 4\\\\ \\end{bmatrix} = \n",
    "\\begin{bmatrix}  \n",
    "14 \\begin{bmatrix}   -18\\\\   10\\\\ \\end{bmatrix} +\n",
    "6 \\begin{bmatrix}   -7\\\\  -8\\\\ \\end{bmatrix} \n",
    "-17 \\begin{bmatrix}   8\\\\   -12\\\\ \\end{bmatrix} &\n",
    "-10 \\begin{bmatrix}   -18\\\\   10\\\\ \\end{bmatrix} \n",
    "-10 \\begin{bmatrix}   -7\\\\  -8\\\\ \\end{bmatrix} +\n",
    "4 \\begin{bmatrix}   8\\\\   -12\\\\ \\end{bmatrix}\n",
    "\\end{bmatrix} = \n",
    "\\begin{bmatrix} -430 & 282\\\\ 296 & -68\\\\ \\end{bmatrix}$\n",
    "\n",
    "$\\mathbf{N} \\mathbf{O} = ⊥$\n",
    "\n",
    "$\\mathbf{M} \\mathbf{N} = \\begin{bmatrix}   14 & -10\\\\   6 & -10\\\\   -17 & 4\\\\ \\end{bmatrix} \\begin{bmatrix}   -18 & -7 & 8\\\\   10 & -8 & -12\\\\ \\end{bmatrix} =\n",
    "\\begin{bmatrix}  \n",
    "-18 \\begin{bmatrix}   14\\\\   6\\\\ -17\\\\ \\end{bmatrix} +\n",
    "10 \\begin{bmatrix}   -10\\\\  -10\\\\ 4\\\\ \\end{bmatrix} &\n",
    "-7 \\begin{bmatrix}   14\\\\   6\\\\ -17\\\\ \\end{bmatrix} \n",
    "-8 \\begin{bmatrix}   -10\\\\  -10\\\\ 4\\\\ \\end{bmatrix} &\n",
    "8 \\begin{bmatrix}   14\\\\   6\\\\ -17\\\\ \\end{bmatrix} \n",
    "-12 \\begin{bmatrix}   -10\\\\  -10\\\\ 4\\\\ \\end{bmatrix}\n",
    "\\end{bmatrix} = \n",
    "\\begin{bmatrix} -352 & -18 & 232\\\\ -208 & 38 & 168\\\\ 346 & 87 & -184\\\\ \\end{bmatrix}$\n",
    "\n",
    "$\\mathbf{M} \\mathbf{M} = ⊥$\n",
    "\n",
    "$\\mathbf{M} \\mathbf{O} = \\begin{bmatrix}   14 & -10\\\\   6 & -10\\\\   -17 & 4\\\\ \\end{bmatrix} \\begin{bmatrix}   -5 & 11\\\\   -5 & -18\\\\ \\end{bmatrix} = \n",
    "\\begin{bmatrix}\n",
    "-5 \\begin{bmatrix}   14\\\\   6\\\\ -17\\\\ \\end{bmatrix} \n",
    "-5 \\begin{bmatrix}   -10\\\\  -10\\\\ 4\\\\ \\end{bmatrix} &\n",
    "11 \\begin{bmatrix}   14\\\\   6\\\\ -17\\\\ \\end{bmatrix} \n",
    "-18 \\begin{bmatrix}   -10\\\\  -10\\\\ 4\\\\ \\end{bmatrix}\n",
    "\\end{bmatrix} = \n",
    "\\begin{bmatrix} -20 & 334\\\\ 20 & 246\\\\ 65 & -259\\\\ \\end{bmatrix}$\n",
    "\n",
    "</div>"
   ]
  },
  {
   "cell_type": "markdown",
   "metadata": {
    "deletable": false,
    "editable": false
   },
   "source": [
    "## Opdracht 10\n",
    "Ook de matrix-matrix vermenigvuldiging gaan we uitprogrammeren. We herschrijven onze functie `matrix_product` zo, dat deze ook voor twee matrices te gebruiken is. Let erop dat de functie ook nog steeds op een matrix en een vector moet blijven werken; we kunnen de vector dan zien als een matrix met een enkele kolom. Natuurlijk wordt er ook weer een `DimensionError` gegeven als de vermenigvuldiging niet kan.\n",
    "\n",
    "$$\\begin{bmatrix}a & b \\\\ c & d\\end{bmatrix}\\begin{bmatrix}e & f \\\\ g & h \\end{bmatrix} = \n",
    "\\begin{bmatrix}\n",
    "\\langle \\begin{bmatrix}a \\\\ b\\end{bmatrix} | \\begin{bmatrix}e \\\\ g\\end{bmatrix} \\rangle &\n",
    "\\langle \\begin{bmatrix}a \\\\ b\\end{bmatrix} | \\begin{bmatrix}f \\\\ h\\end{bmatrix} \\rangle \\\\\n",
    "\\langle \\begin{bmatrix}c \\\\ d\\end{bmatrix} | \\begin{bmatrix}e \\\\ g\\end{bmatrix} \\rangle &\n",
    "\\langle \\begin{bmatrix}c \\\\ d\\end{bmatrix} | \\begin{bmatrix}f \\\\ h\\end{bmatrix} \\rangle \\\\\n",
    "\\end{bmatrix}\n",
    " = \\begin{bmatrix}ae+bg & af+bh \\\\ ce+dg & cf+dh \\end{bmatrix}\n",
    "$$"
   ]
  },
  {
   "cell_type": "code",
   "execution_count": 4,
   "metadata": {},
   "outputs": [],
   "source": [
    "def matrix_product(M: np.ndarray, v: np.ndarray) -> np.ndarray:\n",
    "    if len(M[0]) != len(v):\n",
    "        raise DimensionError(\"Vectors niet hetzelfde formaat\")\n",
    "   \n",
    "    width = 1 if v.ndim == 1 else len(v[0])\n",
    "    result = np.zeros((len(M), width), dtype=float)\n",
    "\n",
    "    for dim in range(width):\n",
    "        for row in range(len(M)):\n",
    "            for matrix_index in range(len(M[row])):\n",
    "                if v.ndim > 1:\n",
    "                    result[row][dim] += M[row][matrix_index] * v[matrix_index][dim]\n",
    "                else:\n",
    "                    result[row][dim] += M[row][matrix_index] * v[matrix_index]\n",
    "    return result"
   ]
  },
  {
   "cell_type": "markdown",
   "metadata": {
    "deletable": false,
    "editable": false
   },
   "source": [
    "### Tests\n",
    "| **Test** | **Betekenis** |\n",
    "|---:|:---|\n",
    "| `test_vector_product` | $\\mathbf{M} \\vec v$ werkt nog steeds (uitvoer mag een 1-D array zijn of een 2D-array met 1 kolom) |\n",
    "| `test_vector_product` | $\\mathbf{M} \\mathbf{N}$ werkt |\n",
    "| `test_invalid_product` | $\\mathbf{M} \\mathbf{N}$ geeft een `DimensionError` als de dimensies niet kloppen |\n"
   ]
  },
  {
   "cell_type": "code",
   "execution_count": 5,
   "metadata": {
    "deletable": false,
    "editable": false
   },
   "outputs": [
    {
     "name": "stderr",
     "output_type": "stream",
     "text": [
      "test_invalid_product (ac_tests.test_matrix_product.<locals>.TestMatrixProduct) ... ok\n",
      "test_matrix_product (ac_tests.test_matrix_product.<locals>.TestMatrixProduct) ... ok\n",
      "test_vector_product (ac_tests.test_matrix_product.<locals>.TestMatrixProduct) ... ok\n",
      "\n",
      "----------------------------------------------------------------------\n",
      "Ran 3 tests in 0.093s\n",
      "\n",
      "OK\n"
     ]
    }
   ],
   "source": [
    "test_matrix_product(matrix_product)"
   ]
  },
  {
   "cell_type": "markdown",
   "metadata": {
    "deletable": false,
    "editable": false
   },
   "source": [
    "## Opdracht 11\n",
    "Kunstmatige neurale netwerken worden vaak beschreven door middel van matrices. Dit maakt het makkelijk om met een neuraal netwerk te rekenen. Bekijk nogmaals de onderstaande video om dit concept te begrijpen (het kan zijn dat je de Python cel moet uitvoeren om de video te krijgen). Wij gaan de functies die we tot nu toe gedefinieerd hebben nu inzetten om een simpel getraind neuraal network door te rekenen."
   ]
  },
  {
   "cell_type": "code",
   "execution_count": 47,
   "metadata": {
    "deletable": false,
    "editable": false
   },
   "outputs": [
    {
     "data": {
      "image/jpeg": "[encoded data removed]",
      "text/html": [
       "\n",
       "        <iframe\n",
       "            width=\"800\"\n",
       "            height=\"500\"\n",
       "            src=\"https://www.youtube.com/embed/aircAruvnKk\"\n",
       "            frameborder=\"0\"\n",
       "            allowfullscreen\n",
       "        ></iframe>\n",
       "        "
      ],
      "text/plain": [
       "<IPython.lib.display.YouTubeVideo at 0x7fe97587dc10>"
      ]
     },
     "execution_count": 47,
     "metadata": {},
     "output_type": "execute_result"
    }
   ],
   "source": [
    "YouTubeVideo('aircAruvnKk', width=800, height=500)"
   ]
  },
  {
   "cell_type": "markdown",
   "metadata": {
    "deletable": false,
    "editable": false
   },
   "source": [
    "Let wel, voor deze opdracht laten we de sigmoid functie die in de video genoemd wordt achterwege!\n",
    "\n",
    "Elke overgang van de ene laag naar de andere laag van een neuraal netwerk wordt weergegeven met een matrix, $L_i$  welke de overgang beschrijft van laag $\\text{i}$ naar laag $i+1$ in het netwerk. In het onderstaande voorbeeld hebben we 3 lagen: een input laag, één hidden layer en een output laag.\n",
    "\n",
    "![neural network](neuralnetwork.png)\n",
    "\n",
    "We hebben nu dus 2 overgangen, oftewel matrices $\\mathbf{L_0}$ en $\\mathbf{L_1}$. Stel nu dat de input van het netwerk (de waardes van laag 0) wordt gegeven door de vector $\\vec{x}$, dan kan de output van het netwerk $\\vec{y}$ worden gegeven door:\n",
    "\n",
    "$$\\vec{y} = \\mathbf{L_1} (\\mathbf{L_0} \\vec{x})$$\n",
    "\n",
    "We hebben gezien dat we de haakjes ook anders mogen zetten: door eerst de twee matrices met elkaar te vermenigvuldigen en het resultaat dan op $\\vec x$ toe te passen hoeven we voor iedere nieuwe invoersvector $\\vec{x_1} \\dots \\vec{x_n}$ nog maar één matrixvermenigvuldiging uit te voeren:\n",
    "\n",
    "$$\\vec{y} = (\\mathbf{L_1} \\mathbf{L_0}) \\vec{x}$$\n",
    "\n",
    "## De opdracht\n",
    "\n",
    "Voor de eindopdracht van deze week is het de bedoeling om een functie `read_network(filename: str)` te maken die een netwerk in kan lezen vanuit een JSON-bestand (hiervoor zijn twee voorbeelden beschikbaar: `example.json` en `example-2layer.json`). De functie leest de lagen uit de JSON-file in, en maakt matrices voor de veschillende lagen. Als dit er meer dan 1 is worden de lagen onderling vast vermenigvuldigt, zodat er effectief maar een laag nodig is. Tijdens het trainen van een netwerk (wat voor ons al gedaan is) geven de extra lagen mogelijkheid om beter te trainen, maar nu we een getraind model hebben zitten extra lagen vooral in de weg.\n",
    "\n",
    "Een tweede functie, `run_network(filename: str, input_vector: np.ndarray)` gebruikt `read_network()` en `matrix_multiplication` om de JSON-file niet alleen in te lezen, maar ook toe te passen op de gegeven `input_vector`."
   ]
  },
  {
   "cell_type": "code",
   "execution_count": 77,
   "metadata": {},
   "outputs": [],
   "source": [
    "import json\n",
    "\n",
    "def read_network(filename: str) -> np.ndarray:\n",
    "    with open(filename) as f:\n",
    "        data = json.load(f)\n",
    "\n",
    "    results = []\n",
    "    for layer_index in range(1, len(data) + 1):\n",
    "        current_layer = data[\"layer\" + str(layer_index)]\n",
    "        current_weights = current_layer[\"weights\"]\n",
    "        results.append(np.zeros((int(current_layer[\"size_out\"]), int(current_layer[\"size_in\"])), dtype=float))\n",
    "\n",
    "        for weight_index in range(len(current_weights)):\n",
    "            for weight in current_weights[str(weight_index + 1)]:\n",
    "                results[layer_index - 1][int(weight) - 1][weight_index] += float(current_weights[str(weight_index + 1)][weight])\n",
    "\n",
    "        if layer_index > 1:\n",
    "            result = matrix_product(results[layer_index - 1], result)\n",
    "        else:\n",
    "            result = results[0]\n",
    "    \n",
    "    return result\n",
    "\n",
    "\n",
    "def run_network(filename: str, input_vector: np.ndarray) -> np.ndarray:\n",
    "    return matrix_product(read_network(filename), input_vector)"
   ]
  },
  {
   "cell_type": "markdown",
   "metadata": {
    "deletable": false,
    "editable": false
   },
   "source": [
    "### Tests\n",
    "| **Test** | **Betekenis** |\n",
    "|---:|:---|\n",
    "| `test_read_singlelayer` | Het voorbeeld-netwerk met 1 layer wordt goed ingelezen |\n",
    "| `test_read_duallayer` | Het voorbeeld-netwerk met 2 layers wordt goed ingelezen |\n",
    "| `test_read_singlelayer` | Het voorbeeld-netwerk met 1 layer wordt goed uitgevoerd |\n",
    "| `test_read_duallayer` | Het voorbeeld-netwerk met 2 layers wordt goed uitgevoerd |\n"
   ]
  },
  {
   "cell_type": "code",
   "execution_count": 78,
   "metadata": {
    "deletable": false,
    "editable": false
   },
   "outputs": [
    {
     "name": "stderr",
     "output_type": "stream",
     "text": [
      "test_read_duallayer (ac_tests.test_neural_network.<locals>.TestNeuralNetwork) ... ok\n",
      "test_read_singlelayer (ac_tests.test_neural_network.<locals>.TestNeuralNetwork) ... ok\n",
      "test_run_duallayer (ac_tests.test_neural_network.<locals>.TestNeuralNetwork) ... ok\n",
      "test_run_singlelayer (ac_tests.test_neural_network.<locals>.TestNeuralNetwork) ... ok\n",
      "\n",
      "----------------------------------------------------------------------\n",
      "Ran 4 tests in 0.117s\n",
      "\n",
      "OK\n"
     ]
    }
   ],
   "source": [
    "test_neural_network(read_network, run_network, matrix_product)"
   ]
  },
  {
   "cell_type": "markdown",
   "metadata": {
    "deletable": false,
    "editable": false
   },
   "source": [
    "# Checkpoint Alfa <a id='cp-alfa'></a>\n",
    "Als je alles hierboven hebt gemaakt kun je je werk inleveren. Als de testen aangeven dat er nog fouten in zitten, probeer deze dan te verbeteren, maar schroom ook niet om de docent om hulp te vragen als je er niet uitkomt.\n",
    "\n",
    "Om je werk in te leveren moet je er allereerst voor zorgen dat je Notebook is opgeslagen (ctrl-s of het icoontje in de toolbar). Daarna kun je een Git-commit maken en deze naar je eigen GitHub of GitLab pushen. De link naar je repository is uiteindelijk wat je inlevert op Canvas, om de docent een seintje te geven dat er werk te beoordelen is."
   ]
  },
  {
   "cell_type": "markdown",
   "metadata": {
    "deletable": false,
    "editable": false
   },
   "source": [
    "# Stelsels van Vergelijkingen\n",
    "\n",
    "*Aerith is twee keer zo oud als Bronn. Bronn is vijf jaar jonger dan Calia. Aerith en Calia zijn samen één jaar jonger dan vijf keer de leeftijd van Bronn. Hoe oud is iedereen?*\n",
    "\n",
    "Dit type raadsel is met een beetje wiskunde makkelijk op te lossen. Het is een voorbeeld van een stelsel van vergelijkingen, die we in wiskundige termen kunnen opschrijven:\n",
    "\n",
    "$a = 2b$\n",
    "\n",
    "$b+5=c$\n",
    "\n",
    "$a+c = 5b-1$\n",
    "\n",
    "We hebben hier te maken met drie vergelijkingen (zinnen in het raadsel) en drie onbekenden (de leeftijden van de drie personen). Als we de formules zo herschrijven dat alle onbekenden links staan, en alle onbekenden rechts krijgen we de volgende formules (ga dit voor jezelf na):\n",
    "\n",
    "$1a -2b +0c = 0$\n",
    "\n",
    "$0a +1b -1c = -5$\n",
    "\n",
    "$1a -5b +1c = -1$\n",
    "\n",
    "We kunnen hier een speciaal soort matrix van maken: een geaugmenteerde matrix.\n",
    "\n",
    "$$\\left[\\begin{array}{ccc|c}\n",
    "1 & -2 &  0 &  0 \\\\\n",
    "0 &  1 & -1 & -5 \\\\\n",
    "1 & -5 &  1 & -1 \\\\\n",
    "\\end{array}\\right]$$\n",
    "\n",
    "Deze kunnen we oplossen met Gauss-Jordan eliminatie. Eerst trekken we de eerste rij van de derde af:\n",
    "\n",
    "$$\\left[\\begin{array}{ccc|c}\n",
    "1 & -2 &  0 &  0 \\\\\n",
    "0 &  1 & -1 & -5 \\\\\n",
    "0 & -3 &  1 & -1 \\\\\n",
    "\\end{array}\\right]$$\n",
    "\n",
    "Dan tellen we drie keer de tweede rij bij de derde op:\n",
    "\n",
    "$$\\left[\\begin{array}{ccc|c}\n",
    "1 & -2 &  0 &   0 \\\\\n",
    "0 &  1 & -1 &  -5 \\\\\n",
    "0 &  0 & -2 & -16 \\\\\n",
    "\\end{array}\\right]$$\n",
    "\n",
    "Dan delen we de derde rij door min twee:\n",
    "\n",
    "$$\\left[\\begin{array}{ccc|c}\n",
    "1 & -2 &  0 &  0 \\\\\n",
    "0 &  1 & -1 & -5 \\\\\n",
    "0 &  0 &  1 &  8 \\\\\n",
    "\\end{array}\\right]$$\n",
    "\n",
    "We kunnen de derde rij nu bij de tweede optellen:\n",
    "\n",
    "$$\\left[\\begin{array}{ccc|c}\n",
    "1 & -2 & 0 & 0 \\\\\n",
    "0 &  1 & 0 & 3 \\\\\n",
    "0 &  0 & 1 & 8 \\\\\n",
    "\\end{array}\\right]$$\n",
    "\n",
    "Tot slot tellen we twee keer de tweede rij bij de eerste op:\n",
    "\n",
    "$$\\left[\\begin{array}{ccc|c}\n",
    "1 & 0 & 0 & 6 \\\\\n",
    "0 & 1 & 0 & 3 \\\\\n",
    "0 & 0 & 1 & 8 \\\\\n",
    "\\end{array}\\right]$$\n",
    "\n",
    "Terug naar vergelijkingen staat er nu:\n",
    "\n",
    "$a = 6$\n",
    "\n",
    "$b = 3$\n",
    "\n",
    "$c = 8$\n",
    "\n",
    "Dus Aerith is zes, Bronn is drie en Calia is acht. Met de hand is Gauss-Jordan eliminatie een goede manier om een stelsel van vergelijkingen op te lossen."
   ]
  },
  {
   "cell_type": "markdown",
   "metadata": {
    "deletable": false,
    "editable": false
   },
   "source": [
    "## Opdracht 12\n",
    "\n",
    "Het blok hieronder genereert een willekeurige oplosbare augmented matrix voor je. Schrijf deze matrix terug naar een stelsel van vergelijkingen, en voer Gauss-Jordan eliminatie op de matrix uit. Wat zijn de waardes van de drie onbekenden $x_0$, $x_1$ en $x_2$?"
   ]
  },
  {
   "cell_type": "code",
   "execution_count": 50,
   "metadata": {
    "deletable": false,
    "editable": false
   },
   "outputs": [
    {
     "data": {
      "text/latex": [
       "$\\displaystyle (\\mathbf{A} | \\vec b) = \n",
       "\\left[\\begin{array}{ccc|c}\n",
       "  2 & 1 & 1 & -6\\\\\n",
       "  1 & 0 & 0 & -4\\\\\n",
       "  2 & 0 & 1 & -2\\\\\n",
       "\\end{array}\\right]$"
      ],
      "text/plain": [
       "<IPython.core.display.Math object>"
      ]
     },
     "metadata": {},
     "output_type": "display_data"
    },
    {
     "data": {
      "text/markdown": [
       "<details><pre>$(\\mathbf{A} | \\vec b) =  \\left[\\begin{array}{ccc|c}   2 & 1 & 1 & -6\\\\   1 & 0 & 0 & -4\\\\   2 & 0 & 1 & -2\\\\ \\end{array}\\right]$</pre></details>"
      ],
      "text/plain": [
       "<IPython.core.display.Markdown object>"
      ]
     },
     "metadata": {},
     "output_type": "display_data"
    }
   ],
   "source": [
    "RNG().set(4)\n",
    "random_sys_of_eq()"
   ]
  },
  {
   "cell_type": "markdown",
   "metadata": {},
   "source": [
    "<div style=\"background:#fffff0;\">\n",
    "\n",
    "### Stelsel van vergelijkingen\n",
    "\n",
    "$2x_0 + 1x_1 + 1x_2 = -6$\n",
    "\n",
    "$1x_0 + 0x_1 + 0x_2 = -4$\n",
    "\n",
    "$2x_0 + 0x_1 + 1x_2 = -2$\n",
    "    \n",
    "### Gauss-Jordan eliminatie\n",
    "    \n",
    "$(\\mathbf{A} | \\vec b) = \n",
    "\\left[\\begin{array}{ccc|c}   2 & 1 & 1 & -6\\\\   1 & 0 & 0 & -4\\\\   2 & 0 & 1 & -2\\\\ \\end{array}\\right] \n",
    "= row1 \\leftrightarrow row2 =  \n",
    "\\left[\\begin{array}{ccc|c}    1 & 0 & 0 & -4\\\\ 2 & 1 & 1 & -6\\\\   2 & 0 & 1 & -2\\\\ \\end{array}\\right] \n",
    "= row2 + (row1 \\cdot -2) =\n",
    "\\left[\\begin{array}{ccc|c}    1 & 0 & 0 & -4\\\\ 0 & 1 & 1 & 2\\\\   2 & 0 & 1 & -2\\\\ \\end{array}\\right] \n",
    "= row3 + (row1 \\cdot -2) =\n",
    "\\left[\\begin{array}{ccc|c}    1 & 0 & 0 & -4\\\\ 0 & 1 & 1 & 2\\\\   0 & 0 & 1 & 6\\\\ \\end{array}\\right]\n",
    "= row2 - row3 = \n",
    "\\left[\\begin{array}{ccc|c}   1 & 0 & 0 & -4\\\\   0 & 1 & 0 & -4\\\\   0 & 0 & 1 & 6\\\\ \\end{array}\\right]$\n",
    "    \n",
    "### Resultaat\n",
    "\n",
    "$x_0 = -4$\n",
    "    \n",
    "$x_1 = -4$\n",
    "    \n",
    "$x_2 = 6$\n",
    "\n",
    "</div>"
   ]
  },
  {
   "cell_type": "markdown",
   "metadata": {
    "deletable": false,
    "editable": false
   },
   "source": [
    "## Augmented Matrices as matrix-vector vergelijkingen\n",
    "De *augmented matrix* staat eigenlijk voor een matrix en een vector, in een vergelijking:\n",
    "\n",
    "$$\\begin{bmatrix}\n",
    "1 & -2 &  0 \\\\\n",
    "0 &  1 & -1 \\\\\n",
    "1 & -5 &  1 \\\\\n",
    "\\end{bmatrix} \n",
    "\\begin{bmatrix}a \\\\ b \\\\ c \\end{bmatrix} =\n",
    "\\begin{bmatrix}0 \\\\ -5 \\\\ -1 \\end{bmatrix}$$\n",
    "\n",
    "Als we de matrix $\\mathbf{A}$ noemen, de vector met de drie onbekenden $\\vec x$ en de vector rechts van de streep $\\vec b$ hebben we $\\mathbf{A}\\vec x = \\vec b$. Dit geeft de indruk dat als we beide kanten door $\\mathbf{A}$ we zien dat de vector die we zoeken, $\\vec x$, gelijk is aan $\\vec b\\ /\\ \\mathbf{A}$. Delen van een vector door een matrix bestaat helaas niet, maar we kunnen wel iets anders doen.\n",
    "\n",
    "### De omgekeerde\n",
    "Als we even teruggaan naar getallen, en vragen om $8$ door $2$ te delen, zonder deling te gebruiken, dan kunnen we dit met een breuk oplossen:\n",
    "\n",
    "$$8/2 = \\frac{1}{2} \\times 8 = 4$$\n",
    "\n",
    "De breuk, *een half*, is hier de *omgekeerde* van twee, en andersom is twee de omgekeerde van *een half*. **Bijna** ieder getal heeft een omgekeerde. Soms is de omgekeerde het getal zelf: de omgekeerde van $1$ is $\\frac{1}{1}$ is gewoon $1$. Het enige normale getal zonder omgekeerde is $0$, want dan zouden we $\\frac{1}{0}$ moeten hebben en delen door $0$ kan helaas niet.\n",
    "\n",
    "Bij matrices kan er ook sprake zijn van een omgekeerde, de *inverse matrix*, maar lang niet elke matrix heeft er een. Het feit dat het raadsel waar we mee begonnen een oplossing heeft betekent dat deze matrix er wel een moet hebben, maar in het algemeen kunnen we er niet vanuit gaan.\n",
    "\n",
    "Als we een matrix als een transformatie zien dan is de inverse matrix de zelfde transformatie, maar dan omgekeerd. Als we de transformatie doen, en dan de omgekeerde, is het alsof er niets gebeurd is. Ook kunnen we eerst de omgekeerde doen, en dan de gewone matrix, ook dan mag er niets veranderen. Een matrix waarvoor de inverse bestaat noemen we \"omkeerbaar\" of in het engels \"invertible\".\n",
    "\n",
    "### Niet omkeerbare matrices\n",
    "Een matrix die van 2D naar 3D gaat is een voorbeeld van een matrix die niet om te keren is: door de transformatie raken we de diepte uit. Je kan van een object wel bepalen hoe de schaduw eruit moet zien, maar uit de schaduw niet het hele 3D-plaatje terughalen. Om een omgekeerde te hebben moet een matrix dus op zijn minst vierkant zijn.\n",
    "\n",
    "Een matrix van 3D naar 2D (een $2\\times 3$-matrix) heeft geen omgekeerde omdat we niet terug van 2D naar 3D kunnen. Een matrix maar van 2D naar 3D kunnen we wel ongedaan maken (een 2D-vlak in 3D blijft 2D, zoals een vel papier dat niet plat op tafel ligt maar in een ruimte zweeft), maar voor een omgekeerde moet gelden dat de volgorde niet uitmaakt: eerst de gewone matrix en dan de omgekeerde, of eerst de omgekeerde en dan de gewone matrix, in beide gevallen moet er niets gebeuren. Voor een 3D-naar-2D matrix bestaat er geen omgekeerde, dus voor een 2D-naar-3D matrix $\\mathbf{M}$ is er geen 3D-naar-2D matrix te vinden die $\\mathbf{M}$ als omgekeerde heeft.\n",
    "\n",
    "### De determinant\n",
    "Een manier om te bepalen of een matrix omkeerbaar is, is naar de determinant te kijken. Een matrix kan bijvoorbeeld niet omkeerbaar zijn omdat deze van 3 naar 2 dimensies projecteert. In 3D geeft de determinant de factor aan waarmee volumes (de inhoud) van vormen in de 3D ruimte geschaald worden. Met een determinant van $8$ wordt alles acht keer zo groot, dus bijvoorbeeld twee keer zo lang, twee keer zo hoog en twee keer zo diep (3Blue1Brown weet dit mooi te visualiseren). Een determinant van $0$ betekent dat alles een inhoud van $0$ krijgt, dat wil zeggen eigenlijk niet meer 3D is, en dat is bijvoorbeeld het geval als de 3D ruimte naar een 2D subruimte geprojecteerd wordt. \n",
    "\n",
    "Een matrix heeft alleen een determinant als deze vierkant is: als we weten dat een matrix van 3D naar 2D gaat, is het namelijk al niet meer zinvol over inhoud te spreken. Een vierkante matrix heeft wel altijd een determinant, al kan deze $0$ zijn. In dat geval wordt er bijvoorbeeld van 3D naar 2D geprojecteerd, heeft de matrix dus geen inverse, en heeft het stelsel van vergelijkingen dat bij de matrix hoort ook geen unieke oplossing.\n",
    "\n",
    "De matrix van het raadsel waar we mee begonnen heeft een determinant die niet $0$ is (dat wisten we al, want het raadsel was op te lossen):\n",
    "\n",
    "$$\n",
    "\\begin{align}\n",
    "\\text{det}(\\mathbf{A}) &= \\left|\\begin{array}{ccc}\n",
    "1 & -2 &  0 \\\\\n",
    "0 &  1 & -1 \\\\\n",
    "1 & -5 &  1 \\\\\n",
    "\\end{array}\\right|\n",
    "\\\\[3mm] & = \n",
    "1 \\left|\\begin{array}{cc}1 & -1 \\\\ -5 & 1\\\\ \\end{array}\\right| -\n",
    "(-2) \\left|\\begin{array}{cc}0 & -1 \\\\ 1 & 1\\\\ \\end{array}\\right| +\n",
    "0 \\left|\\begin{array}{cc}0 & 1 \\\\ 1 & -5 \\\\ \\end{array}\\right|\n",
    "\\\\[3mm] & =\n",
    "1 \\left|\\begin{array}{cc}1 & -1 \\\\ -5 & 1\\\\ \\end{array}\\right| +\n",
    "2 \\left|\\begin{array}{cc}0 & -1 \\\\ 1 & 1\\\\ \\end{array}\\right| \n",
    "\\\\[3mm] & =\n",
    "1 (1\\times1 - (-1)\\times (-5)) + 2 (0\\times1 - (-1)\\times 1)\n",
    "\\\\[3mm] & =\n",
    "1 (1 - 5) + 2 (0 + 1)\n",
    "\\\\[3mm] & =\n",
    "-2\n",
    "\\end{align}\n",
    "$$ \n",
    "\n",
    "Dit lijkt misschien wat veel werk om alleen te bepalen of een matrix omkeerbaar is, maar gelukkig hebben we hiermee ook al een hoop gedaan om de omgekeerde straks te kunnen berekenen."
   ]
  },
  {
   "cell_type": "markdown",
   "metadata": {
    "deletable": false,
    "editable": false
   },
   "source": [
    "## Opdracht 13\n",
    "\n",
    "Bereken voor de onderstaande vierkante matrices de determinant."
   ]
  },
  {
   "cell_type": "code",
   "execution_count": 51,
   "metadata": {
    "deletable": false,
    "editable": false
   },
   "outputs": [
    {
     "data": {
      "text/latex": [
       "$\\displaystyle \\textbf{M} = \n",
       "\\begin{bmatrix}\n",
       "  -17 & 11\\\\\n",
       "  -11 & -9\\\\\n",
       "\\end{bmatrix}$"
      ],
      "text/plain": [
       "<IPython.core.display.Math object>"
      ]
     },
     "metadata": {},
     "output_type": "display_data"
    },
    {
     "data": {
      "text/markdown": [
       "<details><pre>$\\textbf{M} =  \\begin{bmatrix}   -17 & 11\\\\   -11 & -9\\\\ \\end{bmatrix}$</pre></details>"
      ],
      "text/plain": [
       "<IPython.core.display.Markdown object>"
      ]
     },
     "metadata": {},
     "output_type": "display_data"
    },
    {
     "data": {
      "text/latex": [
       "$\\displaystyle \\textbf{N} = \n",
       "\\begin{bmatrix}\n",
       "  3 & -1\\\\\n",
       "  0 & 0\\\\\n",
       "\\end{bmatrix}$"
      ],
      "text/plain": [
       "<IPython.core.display.Math object>"
      ]
     },
     "metadata": {},
     "output_type": "display_data"
    },
    {
     "data": {
      "text/markdown": [
       "<details><pre>$\\textbf{N} =  \\begin{bmatrix}   3 & -1\\\\   0 & 0\\\\ \\end{bmatrix}$</pre></details>"
      ],
      "text/plain": [
       "<IPython.core.display.Markdown object>"
      ]
     },
     "metadata": {},
     "output_type": "display_data"
    },
    {
     "data": {
      "text/latex": [
       "$\\displaystyle \\textbf{O} = \n",
       "\\begin{bmatrix}\n",
       "  -7 & -8\\\\\n",
       "  -4 & 16\\\\\n",
       "\\end{bmatrix}$"
      ],
      "text/plain": [
       "<IPython.core.display.Math object>"
      ]
     },
     "metadata": {},
     "output_type": "display_data"
    },
    {
     "data": {
      "text/markdown": [
       "<details><pre>$\\textbf{O} =  \\begin{bmatrix}   -7 & -8\\\\   -4 & 16\\\\ \\end{bmatrix}$</pre></details>"
      ],
      "text/plain": [
       "<IPython.core.display.Markdown object>"
      ]
     },
     "metadata": {},
     "output_type": "display_data"
    },
    {
     "data": {
      "text/latex": [
       "$\\displaystyle \\textbf{P} = \n",
       "\\begin{bmatrix}\n",
       "  4 & 3 & 1\\\\\n",
       "  2 & 0 & 4\\\\\n",
       "  0 & 3 & 1\\\\\n",
       "\\end{bmatrix}$"
      ],
      "text/plain": [
       "<IPython.core.display.Math object>"
      ]
     },
     "metadata": {},
     "output_type": "display_data"
    },
    {
     "data": {
      "text/markdown": [
       "<details><pre>$\\textbf{P} =  \\begin{bmatrix}   4 & 3 & 1\\\\   2 & 0 & 4\\\\   0 & 3 & 1\\\\ \\end{bmatrix}$</pre></details>"
      ],
      "text/plain": [
       "<IPython.core.display.Markdown object>"
      ]
     },
     "metadata": {},
     "output_type": "display_data"
    },
    {
     "data": {
      "text/latex": [
       "$\\displaystyle \\textbf{Q} = \n",
       "\\begin{bmatrix}\n",
       "  1 & 1 & 0\\\\\n",
       "  3 & 3 & 4\\\\\n",
       "  4 & 4 & 2\\\\\n",
       "\\end{bmatrix}$"
      ],
      "text/plain": [
       "<IPython.core.display.Math object>"
      ]
     },
     "metadata": {},
     "output_type": "display_data"
    },
    {
     "data": {
      "text/markdown": [
       "<details><pre>$\\textbf{Q} =  \\begin{bmatrix}   1 & 1 & 0\\\\   3 & 3 & 4\\\\   4 & 4 & 2\\\\ \\end{bmatrix}$</pre></details>"
      ],
      "text/plain": [
       "<IPython.core.display.Markdown object>"
      ]
     },
     "metadata": {},
     "output_type": "display_data"
    }
   ],
   "source": [
    "RNG().set(4)\n",
    "\n",
    "random_tensor(r\"\\textbf{M}\", (2,2), singular=matrix_nd)\n",
    "random_tensor(r\"\\textbf{N}\", (2,2), singular=matrix_gd)\n",
    "random_tensor(r\"\\textbf{O}\", (2,2), singular=matrix_nd)\n",
    "random_tensor(r\"\\textbf{P}\", (3,3), singular=matrix_nd, interval=(0,5))\n",
    "random_tensor(r\"\\textbf{Q}\", (3,3), singular=matrix_gd, interval=(0,5))"
   ]
  },
  {
   "cell_type": "markdown",
   "metadata": {},
   "source": [
    "<div style=\"background:#fffff0;\">\n",
    "\n",
    "### Determinanten <a id='opdr13'></a>\n",
    "\n",
    "$\\text{det}(\\bf M) = \\begin{bmatrix}   -17 & 11\\\\   -11 & -9\\\\ \\end{bmatrix} = ((-17) \\cdot (-9)) - (11 \\cdot (-11)) = 274$\n",
    "\n",
    "$\\text{det}(\\bf N) = \\begin{bmatrix}   3 & -1\\\\   0 & 0\\\\ \\end{bmatrix} = (3 \\cdot 0) - ((-1) \\cdot 0) = 0$\n",
    "\n",
    "$\\text{det}(\\bf O) = \\begin{bmatrix}   -7 & -8\\\\   -4 & 16\\\\ \\end{bmatrix} = ((-7) \\cdot 16) - ((-8) \\cdot (-4)) = -144$\n",
    "\n",
    "$\\text{det}(\\bf P) = \\begin{bmatrix}   4 & 3 & 1\\\\   2 & 0 & 4\\\\   0 & 3 & 1\\\\ \\end{bmatrix} = 4\\cdot((0\\cdot1) - (4\\cdot3)) - 3\\cdot((2\\cdot1) - (4\\cdot0)) - 1\\dot((2\\cdot3) - (0\\cdot0)) = (4\\cdot(-12)) + (3\\cdot2) - (1\\cdot6) = (-48) - 6 + 6 = -48$\n",
    "\n",
    "$\\text{det}(\\bf Q) = \\begin{bmatrix}   1 & 1 & 0\\\\   3 & 3 & 4\\\\   4 & 4 & 2\\\\ \\end{bmatrix} = 1\\cdot((3\\cdot2) - (4\\cdot4)) - 1\\cdot((3\\cdot2) - (4\\cdot4)) - 0\\cdot((3\\cdot4) - (3\\cdot4)) = (1\\cdot(-10)) - (1\\cdot(-10)) + (0\\cdot0) = (-10) - (-10) + 0 = 0$\n",
    "\n",
    "</div>"
   ]
  },
  {
   "cell_type": "markdown",
   "metadata": {
    "deletable": false,
    "editable": false
   },
   "source": [
    "## Opdracht 14\n",
    "\n",
    "Schrijf twee functies om de determinant van een matrix te berekenen: een voor $2 \\times 2$ en een voor $3 \\times 3$. Gebruik voor de $3 \\times 3$ variant de  de [Rule of Sarrus](https://en.wikipedia.org/wiki/Rule_of_Sarrus). Schrijf tot slot een functie die de juiste versie aanroept. Alle drie de functies moeten een `DimensionError` geven:\n",
    " - als de matrix niet vierkant is;\n",
    " - als de matrix niet exact $2 \\times 2$ is (voor `determinant_2()`);\n",
    " - als de matrix niet exact $3 \\times 3$ is (voor `determinant_3()`) en\n",
    " - als de matrix groter is dan $3 \\times 3$  (voor `determinant()`).\n",
    " \n",
    "**Probeer zelf met een goed antwoord te komen als een $1\\times 1$ matrix wordt meegegeven. Hoeveel groter wordt iets als je het met het gegeven getal vermenigvuldigt?**"
   ]
  },
  {
   "cell_type": "code",
   "execution_count": 9,
   "metadata": {},
   "outputs": [],
   "source": [
    "def determinant_2(M: np.ndarray) -> int:\n",
    "    if len(M) != 2:\n",
    "        raise DimensionError(\"Vectors niet hetzelfde formaat\")\n",
    "        \n",
    "    det = 0\n",
    "    for row_index in range(len(M) - 1):\n",
    "        for column_index in range(len(M[0])):\n",
    "            if column_index % 2 == 0:\n",
    "                det += M[row_index][column_index] * M[row_index + 1][column_index + 1]\n",
    "            else:\n",
    "                det -= M[row_index][column_index] * M[row_index - 1][column_index - 1]\n",
    "    return det\n",
    "\n",
    "def determinant_3(M: np.ndarray) -> int: # TODO\n",
    "    if len(M) != 3:\n",
    "        raise DimensionError(\"Vectors niet hetzelfde formaat\")\n",
    "        \n",
    "    det = 0\n",
    "    for row_index in range(len(M)):\n",
    "        for column_index in range(len(M[0])):\n",
    "            if row_index == 0:\n",
    "                det += M[row_index][column_index] * M[(row_index + 1) % 3][(column_index + 1) % 3] * M[(row_index + 2) % 3][(column_index + 2) % 3]\n",
    "            elif row_index == 2:\n",
    "                det -= M[row_index][column_index] * M[row_index - 1][(column_index + 1) % 3] * M[row_index - 2][(column_index + 2) % 3]\n",
    "    return det\n",
    "\n",
    "def determinant(M: np.ndarray) -> int:    \n",
    "    if len(M) > 3 or len(M[0]) * len(M[0]) != M.size:\n",
    "        raise DimensionError(\"Vectors niet hetzelfde formaat\")\n",
    "        \n",
    "    if len(M) == 3:\n",
    "        return determinant_3(M)\n",
    "    elif len(M) == 2:\n",
    "        return determinant_2(M)\n",
    "    else:\n",
    "        return M[0][0]"
   ]
  },
  {
   "cell_type": "markdown",
   "metadata": {
    "deletable": false,
    "editable": false
   },
   "source": [
    "### Tests\n",
    "| **Test** | **Betekenis** |\n",
    "|---:|:---|\n",
    "| `test_determinant2_nonzero` | `determinant_2` werkt op omkeerbare $2 \\times 2$ matrix (determinant is niet 0) |\n",
    "| `test_determinant2_zero` | `determinant_2` werkt op onomkeerbare $2 \\times 2$ matrix (determinant is 0)  |\n",
    "| `test_determinant2_invalid` | `determinant_2` handelt foute invoer goed af |\n",
    "| `test_determinant3_nonzero` | `determinant_3` werkt op omkeerbare $3 \\times 3$ matrix (determinant is niet 0)  |\n",
    "| `test_determinant3_zero` | `determinant_3` werkt op onomkeerbare $3 \\times 3$ matrix (determinant is 0) |\n",
    "| `test_determinant3_invalid` | `determinant_3` handelt foute invoer goed af |\n",
    "| `test_determinant_scalar` | `determinant` werkt correct op $1 \\times 1$ matrix |\n",
    "| `test_determinant_nonzero2` | `determinant` werkt op omkeerbare $2 \\times 2$ matrix (determinant is niet 0)  |\n",
    "| `test_determinant_nonzero3` | `determinant` werkt op omkeerbare $3 \\times 3$ matrix (determinant is niet 0)  |\n",
    "| `test_determinant_zero2` | `determinant` werkt op onomkeerbare $2 \\times 2$ matrix (determinant is 0) |\n",
    "| `test_determinant_zero3` | `determinant` werkt op onomkeerbare $3 \\times 3$ matrix (determinant is 0) |\n",
    "| `test_determinant_too_large` | `determinant` handelt te grote invoer goed af |\n",
    "| `test_determinant_invalid` | `determinant` handelt niet-vierkante invoer goed af |\n"
   ]
  },
  {
   "cell_type": "code",
   "execution_count": 10,
   "metadata": {
    "deletable": false,
    "editable": false
   },
   "outputs": [
    {
     "name": "stderr",
     "output_type": "stream",
     "text": [
      "test_determinant2_invalid (ac_tests.test_determinant.<locals>.TestDeterminant) ... ok\n",
      "test_determinant2_nonzero (ac_tests.test_determinant.<locals>.TestDeterminant) ... ok\n",
      "test_determinant2_zero (ac_tests.test_determinant.<locals>.TestDeterminant) ... ok\n",
      "test_determinant3_invalid (ac_tests.test_determinant.<locals>.TestDeterminant) ... ok\n",
      "test_determinant3_nonzero (ac_tests.test_determinant.<locals>.TestDeterminant) ... ok\n",
      "test_determinant3_zero (ac_tests.test_determinant.<locals>.TestDeterminant) ... ok\n",
      "test_determinant_invalid (ac_tests.test_determinant.<locals>.TestDeterminant) ... ok\n",
      "test_determinant_nonzero2 (ac_tests.test_determinant.<locals>.TestDeterminant) ... ok\n",
      "test_determinant_nonzero3 (ac_tests.test_determinant.<locals>.TestDeterminant) ... ok\n",
      "test_determinant_scalar (ac_tests.test_determinant.<locals>.TestDeterminant) ... ok\n",
      "test_determinant_too_large (ac_tests.test_determinant.<locals>.TestDeterminant) ... ok\n",
      "test_determinant_zero2 (ac_tests.test_determinant.<locals>.TestDeterminant) ... ok\n",
      "test_determinant_zero3 (ac_tests.test_determinant.<locals>.TestDeterminant) ... ok\n",
      "\n",
      "----------------------------------------------------------------------\n",
      "Ran 13 tests in 0.012s\n",
      "\n",
      "OK\n"
     ]
    }
   ],
   "source": [
    "test_determinant(determinant_2, determinant_3, determinant)"
   ]
  },
  {
   "cell_type": "markdown",
   "metadata": {
    "deletable": false,
    "editable": false
   },
   "source": [
    "## De Identiteitsmatrix\n",
    "\n",
    "Na Gauss-Jordan eliminatie zag \n",
    "\n",
    "$$\\left[\\begin{array}{ccc|c}\n",
    "1 & -2 &  0 &  0 \\\\\n",
    "0 &  1 & -1 & -5 \\\\\n",
    "1 & -5 &  1 & -1 \\\\\n",
    "\\end{array}\\right]$$\n",
    "\n",
    "er zo uit\n",
    "\n",
    "$$\\left[\\begin{array}{ccc|c}\n",
    "1 & 0 & 0 & 6 \\\\\n",
    "0 & 1 & 0 & 3 \\\\\n",
    "0 & 0 & 1 & 8 \\\\\n",
    "\\end{array}\\right]$$\n",
    "\n",
    "Geschreven als vector vergelijking zijn we van\n",
    "\n",
    "$$\\begin{bmatrix}\n",
    "1 & -2 &  0 \\\\\n",
    "0 &  1 & -1 \\\\\n",
    "1 & -5 &  1 \\\\\n",
    "\\end{bmatrix} \n",
    "\\begin{bmatrix}a \\\\ b \\\\ c \\end{bmatrix} =\n",
    "\\begin{bmatrix}0 \\\\ -5 \\\\ -1 \\end{bmatrix}$$\n",
    "\n",
    "naar\n",
    "\n",
    "$$\\begin{bmatrix}\n",
    "1 & 0 & 0 \\\\\n",
    "0 & 1 & 0 \\\\\n",
    "0 & 0 & 1 \\\\\n",
    "\\end{bmatrix} \n",
    "\\begin{bmatrix}a \\\\ b \\\\ c \\end{bmatrix} =\n",
    "\\begin{bmatrix}6 \\\\ 3 \\\\ 8 \\end{bmatrix}$$\n",
    "\n",
    "gegaan.\n",
    "\n",
    "De matrix in deze vergelijking noemen we de identiteitsmatrix $\\mathbf{I}$, of specifiek in dit geval de identiteitsmatrix in drie dimensies $\\mathbf{I_3}$. Een identiteitsmatrix bevat op de diagonaal alleen maar enen, en verder alleen maar nullen. Deze matrix kun je met elke 3D-vector vector vermenigvuldigen, zonder dat de vector verandert. Het is alsof we de vector met $1$ vermenigvuldigen. De transformatie die bij deze matrix hoort is dan ook de transformatie die niets doet.\n",
    "\n",
    "$$\\mathbf{I_3} = \\begin{bmatrix}\n",
    "1 & 0 & 0 \\\\\n",
    "0 & 1 & 0 \\\\\n",
    "0 & 0 & 1 \\\\\n",
    "\\end{bmatrix}$$\n",
    "\n",
    "<span style=\"color: red\">Om de leesbaarheid in alle formules een beetje te bewaren zullen we hier de operator $\\cdot$ gebruiken om twee matrices (of een matrix en een vector) te vermenigvuldigen. Dit is niet echt standaard-notatie, maar voor nu helpt het ons even.</span>\n",
    "\n",
    "We kunnen de identiteitsmatrix ook met een andere matrix $\\mathbf{M}$ vermengivuldigen (ervan uitgaande dat de dimensies kloppen), en ook dan verandert de identiteitsmatrix niets aan $\\mathbf{M}$. Als $\\mathbf{M}$ een $2\\times 3$ matrix is kunnen we bijvoorbeeld stellen:\n",
    "\n",
    "$$\\mathbf{I_2} \\cdot \\mathbf{M} = \\mathbf{M} \\cdot \\mathbf{I_3} = \\mathbf{M}$$\n",
    "\n",
    "Met deze matrix kunnen we ook de inverse duidelijker weergeven. Als we een omkeerbare $3\\times 3$ matrix $\\mathbf{N}$ hebben, dan is de omgekeerde daarvan $\\mathbf{N}^{-1}$, en geldt dat\n",
    "\n",
    "$$\\mathbf{N} \\cdot \\mathbf{N}^{-1} = \\mathbf{N}^{-1} \\cdot \\mathbf{N} = \\mathbf{I_3}$$.\n",
    "\n",
    "## Terug naar het voorbeeld\n",
    "In ons voorbeeld zou het fijn zijn om door een vector te kunnen delen, maar helaas was dat niet mogelijk. We zullen dus met de inverse van de matrix aan de gang moeten gaan, en inmiddels hebben we de notatie ervoor in huis. Hieronder zien we nog een keer de matrices. Onder iedere vector en matrix staat het label dat we eraan gegeven hebben, zodat we verder met symbolen kunnen werken en niet alle matrices iedere keer uit hoeven te tekenen:\n",
    "\n",
    "$$\\underbrace{\\begin{bmatrix}\n",
    "1 & -2 &  0 \\\\\n",
    "0 &  1 & -1 \\\\\n",
    "1 & -5 &  1 \\\\\n",
    "\\end{bmatrix}\\\\[1cm]}_{\\displaystyle\\mathbf{A}}\\ \\ \n",
    "\\underbrace{\\begin{bmatrix}a \\\\ b \\\\ c \\end{bmatrix}\\\\[1cm]}_{\\displaystyle\\vec x} =\n",
    "\\underbrace{\\begin{bmatrix}0 \\\\ -5 \\\\ -1 \\end{bmatrix}\\\\[1cm]}_{\\displaystyle\\vec b} \n",
    "\\qquad\\to\\qquad\n",
    "\\underbrace{\\begin{bmatrix}\n",
    "1 & 0 & 0 \\\\\n",
    "0 & 1 & 0 \\\\\n",
    "0 & 0 & 1 \\\\\n",
    "\\end{bmatrix}\\\\[1cm]}_{\\displaystyle\\mathbf{I_3}}\\ \\\n",
    "\\underbrace{\\begin{bmatrix}a \\\\ b \\\\ c \\end{bmatrix}\\\\[1cm]}_{\\displaystyle\\vec x} =\n",
    "\\underbrace{\\begin{bmatrix}6 \\\\ 3 \\\\ 8 \\end{bmatrix}\\\\[1cm]}_{\\displaystyle\\vec x}$$\n",
    "\n",
    "We beginnen met\n",
    "$$\\mathbf{A} \\cdot \\vec x = \\vec b$$\n",
    "\n",
    "We kunnen kunnen nu aan beide kanten van deze vergelijking de inverse links vermenigvuldigen:\n",
    "\n",
    "$$\\mathbf{A}^{-1} \\cdot \\mathbf{A} \\cdot \\vec x = \\mathbf{A}^{-1} \\cdot \\vec b$$\n",
    "\n",
    "Links vermenigvuldigen we de twee matrices om $\\mathbf{I_3}$ te krijgen:\n",
    "\n",
    "$$\\mathbf{I_3} \\cdot \\vec x = \\mathbf{A}^{-1} \\cdot \\vec b$$\n",
    "\n",
    "De identiteitsmatrix doet niets, dus die mogen we weghalen:\n",
    "\n",
    "$$\\vec x = \\mathbf{A}^{-1} \\cdot \\vec b$$\n",
    "\n",
    "Dus: om $\\vec x$ te vinden hoeven we alleen de inverse van $\\mathbf{A}$ te berekenen, en deze te vermenigvuldigen met $\\vec b$. We weten dat de matrix omkeerbaar is, dus we zijn er bijna!\n",
    "\n",
    "## De inverse berekenen\n",
    "De inverse van een matrix berekenen is met de hand best een klus. Voor een $2 \\times 2$ matrix is het goed te doen, maar voor grotere matrices is het wat meer werk. Daarom doen we alleen de $2 \\times 2$ met de hand. Gegeven een matrix\n",
    "\n",
    "$$\\mathbf{M} = \\begin{bmatrix}a & b \\\\ c & d\\end{bmatrix}$$\n",
    "\n",
    "moeten we 2 dingen hebben:\n",
    " - de determinant en\n",
    " - de geadjugeerde matrix.\n",
    " \n",
    "De eerste hebben we al berekend, de tweede ziet er voor twee dimensies als volgt uit:\n",
    "\n",
    "\n",
    "$$\\text{adj}(\\mathbf{M}) = \\begin{bmatrix}d & -b \\\\ -c & a\\end{bmatrix}$$\n",
    "\n",
    "Deze delen we door de determinant, en dan hebben we ons antwoord. Bij het delen van een matrix door een scalar (getal) delen we elk item gewoon afzonderlijk. Als de determinant nul is zouden we moeten delen door $0$, maar dat kan natuurlijk niet. Deze matrices zijn dus niet omkeerbaar."
   ]
  },
  {
   "cell_type": "markdown",
   "metadata": {
    "deletable": false,
    "editable": false
   },
   "source": [
    "## Opdracht 15\n",
    "Bereken van de onderstaande matrices de inverse (of $\\bot$ als de inverse niet bestaat). De determinant hebben we bij [opdracht 13](#opdr13) al eerder berekend."
   ]
  },
  {
   "cell_type": "code",
   "execution_count": 54,
   "metadata": {
    "deletable": false,
    "editable": false
   },
   "outputs": [
    {
     "data": {
      "text/latex": [
       "$\\displaystyle \\textbf{M} = \n",
       "\\begin{bmatrix}\n",
       "  -17 & 11\\\\\n",
       "  -11 & -9\\\\\n",
       "\\end{bmatrix}$"
      ],
      "text/plain": [
       "<IPython.core.display.Math object>"
      ]
     },
     "metadata": {},
     "output_type": "display_data"
    },
    {
     "data": {
      "text/markdown": [
       "<details><pre>$\\textbf{M} =  \\begin{bmatrix}   -17 & 11\\\\   -11 & -9\\\\ \\end{bmatrix}$</pre></details>"
      ],
      "text/plain": [
       "<IPython.core.display.Markdown object>"
      ]
     },
     "metadata": {},
     "output_type": "display_data"
    },
    {
     "data": {
      "text/latex": [
       "$\\displaystyle \\textbf{N} = \n",
       "\\begin{bmatrix}\n",
       "  3 & -1\\\\\n",
       "  0 & 0\\\\\n",
       "\\end{bmatrix}$"
      ],
      "text/plain": [
       "<IPython.core.display.Math object>"
      ]
     },
     "metadata": {},
     "output_type": "display_data"
    },
    {
     "data": {
      "text/markdown": [
       "<details><pre>$\\textbf{N} =  \\begin{bmatrix}   3 & -1\\\\   0 & 0\\\\ \\end{bmatrix}$</pre></details>"
      ],
      "text/plain": [
       "<IPython.core.display.Markdown object>"
      ]
     },
     "metadata": {},
     "output_type": "display_data"
    },
    {
     "data": {
      "text/latex": [
       "$\\displaystyle \\textbf{O} = \n",
       "\\begin{bmatrix}\n",
       "  -7 & -8\\\\\n",
       "  -4 & 16\\\\\n",
       "\\end{bmatrix}$"
      ],
      "text/plain": [
       "<IPython.core.display.Math object>"
      ]
     },
     "metadata": {},
     "output_type": "display_data"
    },
    {
     "data": {
      "text/markdown": [
       "<details><pre>$\\textbf{O} =  \\begin{bmatrix}   -7 & -8\\\\   -4 & 16\\\\ \\end{bmatrix}$</pre></details>"
      ],
      "text/plain": [
       "<IPython.core.display.Markdown object>"
      ]
     },
     "metadata": {},
     "output_type": "display_data"
    }
   ],
   "source": [
    "RNG().set(4)\n",
    "\n",
    "random_tensor(r\"\\textbf{M}\", (2,2), singular=matrix_nd)\n",
    "random_tensor(r\"\\textbf{N}\", (2,2), singular=matrix_gd)\n",
    "random_tensor(r\"\\textbf{O}\", (2,2), singular=matrix_nd)"
   ]
  },
  {
   "cell_type": "markdown",
   "metadata": {},
   "source": [
    "<div style=\"background:#fffff0;\">\n",
    "\n",
    "### Inversen <a id='opdr13'></a>\n",
    "\n",
    "\n",
    "$\\text{adj}(\\textbf{M}) = \\begin{bmatrix}   -9 & -11\\\\   11 & -17\\\\ \\end{bmatrix}$\n",
    "\n",
    "$\\text{det}(\\textbf{M}) = \\begin{bmatrix}   -17 & 11\\\\   -11 & -9\\\\ \\end{bmatrix} = ((-17) \\cdot (-9)) - (11 \\cdot (-11)) = 274$\n",
    "\n",
    "$\\textbf{M}^{-1} = \\begin{bmatrix}   -9 & -11\\\\   11 & -17\\\\ \\end{bmatrix} \\div 274 = \\begin{bmatrix}   -\\frac{9}{274} & -\\frac{11}{274}\\\\  \\frac{11}{274} & -\\frac{17}{274}\\\\ \\end{bmatrix}$\n",
    "\n",
    "<hr />\n",
    "\n",
    "$\\text{adj}(\\textbf{N}) = \\begin{bmatrix} 0 & 1\\\\   0 & 3\\\\  \\end{bmatrix}$\n",
    "\n",
    "$\\text{det}(\\textbf{N}) = 0$\n",
    "\n",
    "$\\textbf{N}^{-1} = ⊥$\n",
    "\n",
    "<hr />\n",
    "\n",
    "$\\text{adj}(\\textbf{O}) = \\begin{bmatrix}   16 & 8\\\\   4 & -7\\\\ \\end{bmatrix}$\n",
    "\n",
    "$\\text{det}(\\textbf{O}) = \\begin{bmatrix}   -7 & -8\\\\   -4 & 16\\\\ \\end{bmatrix} = ((-7) \\cdot 16) - ((-8) \\cdot (-4)) = -144$\n",
    "\n",
    "$\\textbf{O}^{-1} = \\begin{bmatrix}   16 & 8\\\\   4 & -7\\\\ \\end{bmatrix} \\div -144 = \\begin{bmatrix}   -\\frac{1}{9} & -\\frac{1}{18}\\\\  -\\frac{1}{36} & \\frac{7}{144}\\\\ \\end{bmatrix}$\n",
    "\n",
    "</div>"
   ]
  },
  {
   "cell_type": "markdown",
   "metadata": {
    "deletable": false,
    "editable": false
   },
   "source": [
    "## Opdracht 16 <a id='opdr16'></a>\n",
    "Schrijf een functie de de inverse van een $2\\times 2$ matrix berekent. Gebruik hiervoor de determinant-functie die je eerder gemaakt hebt. De functie geeft een `DimensionError` voor een vierkante matrix die niet $2\\times 2$ is, en een `NonInvertibleError` voor een $2\\times2$ matrix met een determinant van $0$. "
   ]
  },
  {
   "cell_type": "code",
   "execution_count": 55,
   "metadata": {},
   "outputs": [],
   "source": [
    "def inverse_matrix_2(M: np.ndarray) -> np.ndarray:\n",
    "    det = determinant(M)\n",
    "    if det == 0:\n",
    "        raise NonInvertibleError(\"Determinant is 0\")\n",
    "    \n",
    "    adj = M.copy()\n",
    "    adj[0][0], adj[1][1] = adj[1][1], adj[0][0]\n",
    "    adj[0][1], adj[1][0] = -adj[0][1], -adj[1][0]\n",
    "    \n",
    "    MI = adj.astype(float)\n",
    "    for x in range(MI.shape[0]):\n",
    "        for y in range(MI.shape[1]):\n",
    "            MI[x][y] /= det\n",
    "\n",
    "    return MI"
   ]
  },
  {
   "cell_type": "markdown",
   "metadata": {
    "deletable": false,
    "editable": false
   },
   "source": [
    "### Tests\n",
    "| **Test** | **Betekenis** |\n",
    "|---:|:---|\n",
    "| `test_inverse2` | Functie werkt voor een inverteerbare $2\\times 2$ matrix |\n",
    "| `test_inverse2_invalid` | Correcte error voor een matrix met verkeerde dimensies |\n",
    "| `test_inverse2_no_inverse` | Correcte error voor een niet-omkeerbare $2\\times 2$ matrix |\n"
   ]
  },
  {
   "cell_type": "code",
   "execution_count": 56,
   "metadata": {
    "deletable": false,
    "editable": false
   },
   "outputs": [
    {
     "name": "stderr",
     "output_type": "stream",
     "text": [
      "test_inverse2 (ac_tests.test_inverse_2.<locals>.TestInverse2) ... ok\n",
      "test_inverse2_invalid (ac_tests.test_inverse_2.<locals>.TestInverse2) ... ok\n",
      "test_inverse2_no_inverse (ac_tests.test_inverse_2.<locals>.TestInverse2) ... ok\n",
      "\n",
      "----------------------------------------------------------------------\n",
      "Ran 3 tests in 0.004s\n",
      "\n",
      "OK\n"
     ]
    }
   ],
   "source": [
    "test_inverse_2(inverse_matrix_2)"
   ]
  },
  {
   "cell_type": "markdown",
   "metadata": {
    "deletable": false,
    "editable": false
   },
   "source": [
    "## Inverses van grotere matrices\n",
    "De inverse van een grotere matrix is eigenlijk hetzeflde als voor een $2\\times 2$ matrix, alleen met veel meer werk. Dat komt omdat zowel de geadjugeerde matrix (die je voor 2 dimensies zo uit kan schrijven) als de determinant (die voor 2 en 3 dimensies nog wel te overzien zijn) heel snel in complexiteit toenemen. Zodra je de geadjugeerde matrix en de determinant hebt gevonden is het grootste deel van het werk gedaan. \n",
    "\n",
    "Voor het berekenen van de geadjugeerde van een grote matrix hebben we ook weer twee stappen nodig: we moeten de cofactor-matrix vinden, en deze kunnen transposen. De cofactor matrix gaan we niet te diep op in, maar transposen kunnen we wel makkelijk zelf doen.\n",
    "\n",
    "Als we een matrix $\\mathbf{M}$ hebben dan is de getransposeerde matrix $\\mathbf{M}^T$ te vinden door de matrix te spiegelen over de lijn van linksboven naar rechtsonder. Alles wat op deze lijn staat blijft hetzelfde, voor de rest komt een getal dat in kolom $x$, rij $y$ staat na het tranposen uit in kolom $y$, rij $x$:\n",
    "\n",
    "$$\\mathbf{M} = \\begin{bmatrix}a & b & c \\\\ d & e & f \\\\ g & h & i\\end{bmatrix}\\qquad\n",
    "\\mathbf{M}^T = \\begin{bmatrix}a & d & g \\\\ b & e & h \\\\ c & f & i\\end{bmatrix}$$\n",
    "\n",
    "Als we deze functies hebben kunnen we als volgt een matrix $\\mathbf{M}$ inverteren:\n",
    "1. Bepaal de cofactor-matrix van $\\mathbf{M}$;\n",
    "2. transpose deze matrix om de geadjugeerde matrix te krijgen en\n",
    "3. deel elk item door de determinant van de originele $\\mathbf{M}$.\n",
    "\n",
    "\n",
    "## Opdracht 17\n",
    "De code voor het inverteren van matrices groter dan $3\\times 3$ is wat ingewikkelder, en is daarom hieronder gegeven. Daarbij is ook gelijk een nieuwe versie van de determinant toegevoegd, die ook voor meer dimensies werkt.\n",
    "\n",
    "1. Neem de functies `sign()`, `submatrix()`, `determinant()` en `cofactor_matrix()` door en probeer te achterhalen wat de code doet. Documenteer daarna deze functies met behulp van de [docstring](https://www.datacamp.com/community/tutorials/docstrings-python#second-head) en commentaar in de code.\n",
    "2. Schrijf zelf een functie `transpose()` die een matrix om de diagonaal spiegelt, en een functie `inverse_matrix()`. Zorg dat de `inverse_matrix()` functie checkt of een matrix inverteerbaar is, en anders errors oplevert op dezelfde manier als `inverse_matrix_2()` [hierboven](#opdr16)."
   ]
  },
  {
   "cell_type": "code",
   "execution_count": 57,
   "metadata": {},
   "outputs": [],
   "source": [
    "def sign(x: int) -> int:\n",
    "    \"\"\"Dit stukje code zorgt ervoor dat er voor alle even getallen 1 word terug gegeven en -1 voor alle oneven getallen.\"\"\"\n",
    "    if x % 2 == 0:\n",
    "        return 1\n",
    "    else:\n",
    "        return -1\n",
    "\n",
    "def submatrix(M: np.ndarray, x: int, y: int) -> np.ndarray:\n",
    "    \"\"\"Deze functie maakt een 2x2 matrix van je input, de x stelt de kolom in de meegegeven matrix voor \n",
    "    die verwijderd moet worden en de y stelt de row die verwijderd moet worden voor.\"\"\"\n",
    "    return np.delete(np.delete(M, x, 0), y, 1)\n",
    "\n",
    "def determinant(M: np.ndarray) -> float:\n",
    "    \"\"\"Deze functie geeft de determinant terug van een vierkante matrix die 2x2 is of groter en \n",
    "    hij geeft een error als de matrix geen vierkant is, daarnaast als de matrix leeg 0x0 of 1x1 is \n",
    "    dan word de item in de matrix terug gegeven\"\"\"\n",
    "    if M.shape == () or M.shape == (0, 0) or M.shape == (1, 1):\n",
    "        return M.item()\n",
    "    elif M.shape[0] != M.shape[1]:\n",
    "        raise DimensionError(\"De matrix is niet vierkant\")\n",
    "    else:\n",
    "        det = 0\n",
    "        for y in range(M.shape[1]):\n",
    "            det += sign(y) * M[0][y] * determinant(submatrix(M, 0, y))\n",
    "        return det\n",
    "\n",
    "def cofactor_matrix(M: np.ndarray) -> np.ndarray:\n",
    "    \"\"\"Deze functie maakt eerst een matrix genaamd adj met dezelfde dimensies als M \n",
    "    vervolgens word erover elke element in de matrix geloopt en word de cofactor voor deze berekent.\"\"\"\n",
    "    adj = np.zeros((M.shape[0],M.shape[1]))\n",
    "    for x in range(M.shape[0]):\n",
    "        for y in range(M.shape[1]):\n",
    "            adj[x][y] = sign(abs(x-y)) * determinant(submatrix(M, x, y))\n",
    "    return adj.astype(int)\n",
    "\n",
    "def transpose(M: np.ndarray) -> np.ndarray:\n",
    "    MT = M.copy()\n",
    "    for x in range(MT.shape[0] - 1):\n",
    "        for y in range(x + 1, MT.shape[1]):\n",
    "            MT[x][y], MT[y][x] = MT[y][x], MT[x][y]\n",
    "    return MT\n",
    "\n",
    "def inverse_matrix(M: np.ndarray) -> np.ndarray: # TODO\n",
    "    det = determinant(M)\n",
    "    if det == 0:\n",
    "        raise NonInvertibleError(\"Determinant is 0\")\n",
    "    MI = transpose(cofactor_matrix(M))\n",
    "    for x in range(MI.shape[0]):\n",
    "        for y in range(MI.shape[1]):\n",
    "            MI[x][y] /= det\n",
    "    return MI"
   ]
  },
  {
   "cell_type": "markdown",
   "metadata": {
    "deletable": false,
    "editable": false
   },
   "source": [
    "### Tests\n",
    "| **Test** | **Betekenis** |\n",
    "|---:|:---|\n",
    "| `test_inverse` | Functie werkt voor een inverteerbare $4\\times 4$ test-matrix |\n",
    "| `test_inverse_invalid` | Correcte error voor een matrix met verkeerde dimensies |\n",
    "| `test_inverse_no_inverse` | Correcte error voor een niet-omkeerbare vierkante matrix |\n"
   ]
  },
  {
   "cell_type": "code",
   "execution_count": 58,
   "metadata": {
    "deletable": false,
    "editable": false
   },
   "outputs": [
    {
     "name": "stderr",
     "output_type": "stream",
     "text": [
      "test_inverse (ac_tests.test_inverse_.<locals>.TestInverse) ... ok\n",
      "test_inverse_invalid (ac_tests.test_inverse_.<locals>.TestInverse) ... ok\n",
      "test_inverse_no_inverse (ac_tests.test_inverse_.<locals>.TestInverse) ... ok\n",
      "\n",
      "----------------------------------------------------------------------\n",
      "Ran 3 tests in 0.013s\n",
      "\n",
      "OK\n"
     ]
    }
   ],
   "source": [
    "test_inverse_(inverse_matrix)"
   ]
  },
  {
   "cell_type": "markdown",
   "metadata": {
    "deletable": false,
    "editable": false
   },
   "source": [
    "## Onder- en overgedetermineerde systemen\n",
    "Niet ieder systeem heeft een unieke oplossing zoals het raadsel hierboven. Neem bijvoorbeeld de formule $x - y = 0$. Hier zijn oneindig oplossingen voor te verzinnen: $x = y = 1$, of $x = y = 2$, etc. We noemen zo'n stelsel *underdermined*: we hebben niet genoeg informatie om een eenduidige oplossing te vinden. Als we een vergelijking toevoegen kunnen we mogelijk een oplossing vinden. Als we bijvoorbeeld ook weten dat $x = 3$, dan kunnen we concluderen dat $y=3$. \n",
    "\n",
    "### Ondergedetermineerde systemen\n",
    "\n",
    "Het is ook mogelijk een vergelijking toe te voegen zonder dat het ons dichter bij een antwoord brengt. Als we $x - y = 0$ hebben, en we voegen $2x - 2y = 0$ toe, dan hebben we welliswaar net zoveel vergelijkingen als onbekenden, maar geen unieke oplossing. Twee van de vergelijkingen (in dit geval alle twee) zijn veelvouden van elkaar, of een combinatie van andere vergelijkingen die we al hadden.\n",
    "\n",
    "Hebben we bijvoorbeeld\n",
    "\n",
    "$x + y - z = 3$\n",
    "\n",
    "$-y = 5$\n",
    "\n",
    "dan hebben we wederom oneindig oplossingen: $y = -5, x = 8, z = 0$ is een oplossing, maar $y = -5, x = 9, z = 1$ ook. Als we nu $x - z = 8$ toevoegen dan valt het misschien niet meteen op, maar hebben we geen nieuwe informatie gekregen en kunnen we dus nog steeds geen unieke oplossing vinden.\n",
    "\n",
    "### Overgedetermineerde systemen\n",
    "Een underdetermined stelsel (of bijbehorende matrix) kan nog steeds interessant zijn, omdat we een hele familie van oplossingen kunnen vinden. De tegenhanger van underdermined is *overdetermined*: we hebben dan meer vergelijkingen dan onbekenden, die elkaar tegen kunnen spreken. Als we bijvoorbeeld de vergelijkingen $x=1$ en $x=2$ hebben dan is er geen waarde voor $x$ te vinden zodat alle vergelijkingen kloppen. We hebben nul oplossingen.\n",
    "\n",
    "Het hoeft nog steeds niet zo te zijn dat we met meer vergelijkingen dan onbekenden een overdetermined systeem hebben: ook hier kunnen meerdere vergelijkingen hetzelfde vertellen en geen informatie toevoegen. De twee vergelijkingen $x=1$ en $2x=2$ hebben maar een onbekende, maar omdat de ene vergelijking uit de andere af te leiden is hebben we effectief ook maar één vergelijking waar we ons zorgen over hoeven te maken. Hoewel overgedetermineerde systemen zeker interessant kunnen zijn, zullen we voor nu focussen op een ondergedetermineerd systeem.\n",
    "\n",
    "### Onder- en overgedetermineerde matrices\n",
    "Als we de stelsels van vergelijkingen hierboven overschrijven naar matrices, dan zien we dat de vorm van een matrix dus nog niet alles zegt over het aantal oplossingen van het bijbehorende systeem van vergelijkingen. Hieronder zien we de matrix van ons eerste, ondergedetermineerde systeem van drie vergelijkingen met drie onbekenden, met daarbij de bijbehorende Gauss-Jordan eliminatie:\n",
    "\n",
    "$$\\left[\\begin{array}{ccc|c} 1 & 1 & -1 & 3 \\\\ 0 & -1 & 0 & 5 \\\\ 1 & 0 & -1 & 8 \\end{array}\\right]$$\n",
    "\n",
    "<details>\n",
    "Tel rij 2 bij rij 1 op:\n",
    "\n",
    "$$\\left[\\begin{array}{ccc|c} 1 & 0 & -1 & 8 \\\\ 0 & -1 & 0 & 5 \\\\ 1 & 0 & -1 & 8 \\end{array}\\right]$$\n",
    "\n",
    "Tel rij 1 bij rij 3 op:\n",
    "\n",
    "$$\\left[\\begin{array}{ccc|c} 1 & 0 & -1 & 8 \\\\ 0 & -1 & 0 & 5 \\\\ 0 & 0 & 0 & 0 \\end{array}\\right]$$\n",
    "\n",
    "Doe rij 2 keer $-1$:\n",
    "    \n",
    "</details>\n",
    "\n",
    "$$\\left[\\begin{array}{ccc|c} 1 & 0 & -1 & 8 \\\\ 0 & 1 & 0 & -5 \\\\ 0 & 0 & 0 & 0 \\end{array}\\right]$$\n",
    "\n",
    "Het mag dan zo zijn dat onze matrix links van de streep vierkant is, het lukt niet om op een indentiteitsmatrix uit te komen. We kunnen aflezen dat $y$ gelijk moet zijn aan $-5$, en dat $x$ gelijk is aan $z+8$, maar $z$ zelf mag alles zijn. De onderste rij hadden we net zo goed kunnen weglaten. Maar 2 rijen doen er uiteindelijk toe, en we hebben oneindig oplossingen.\n",
    "\n",
    "## Rank en Nullity\n",
    "Een manier om dit al aan de matrix af te kunnen lezen is het bepalen van de *rank* en *nullity*. Voor een matrix $\\textbf{M}$ is de *rank* het aantal dimensies van de ruimte waar vectoren na de transformatie (vermenigvuldiging met de matrix) kunnen \"landen\". We noemen deze ruimte de *column space* $I(\\textbf{M})$, ook wel *range* of *image* genoemd (vandaar de $I$) We kunnen de column space bepalen door elke kolom van de matrix als een aparte vector te zien. Door combinaties van deze vectoren te nemen wordt een ruimte opgespannen, met (een deel van) de vectoren uit de column space als basis. Voor basis geldt dat een vector in de basis niet te maken valt met de andere basis-vectoren; in dat geval is de vector overbodig en wordt deze niet meegeteld, tot we aan de minimale set van vectoren zitten. Het aantal vectoren in de set die overblijft is de rank. Neem de matrix die we als voorbeeld hebben; we kunnen de drie kolommen van de matrix nemen als drie basisvectoren $\\vec{e_0}$, $\\vec{e_1}$ en $\\vec{e_2}$:\n",
    "\n",
    "$$\\vec{e_0} = \\begin{bmatrix}1 \\\\ 0 \\\\ 1 \\end{bmatrix}, \\quad \\vec{e_1} = \\begin{bmatrix}1 \\\\ -1 \\\\ 0 \\end{bmatrix} \\quad\\text{en} \\quad \\vec{e_2} = \\begin{bmatrix}-1 \\\\ 0 \\\\ -1 \\end{bmatrix}$$\n",
    "\n",
    "We zien meteen dat $\\vec{e_0}$ en $\\vec{e_2}$ een veelvoud van elkaar zijn en dus op dezelfde lijn liggen. We kunnen $\\vec{e_2}$ dus negeren: de kolomruimte wordt opgespannen door $\\vec{e_0}$ en $\\vec{e_1}$ en is daarmee 2-dimensionaal. Dit betekent dat de rank van de matrix $2$ is.\n",
    "\n",
    "De kolomruimte vormt een 2D subruimte van onze 3D ruimte. Dat betekent dat op ieder punt in de kolomruimte oneindig veel vectoren uit de originele ruimte terecht komen. Denk aan een schaduw: alle punten op lijn van de lichtbron naar een punt binnen de schaduw worden naar ditzelfde punt geprojecteerd. Alle punten die naar de nul-vector $\\vec 0$ worden geprojecteerd vormen ook een subruimte, in het geval van 3D-naar-2D projectie een 1D-lijn. Dit is waar de \"verloren\" dimensie naartoe is gegaan: de 3D ruimte is opgesplitst in een 2D column space en een 1D ruimte die we de *nulruimte*, *null space* of *kernel* $Ker(\\textbf{M})$ van de matrix noemen. Het aantal dimensies van de nulruimte noemen we de *nullity* van de matrix. In het algemeen moet de som van de rank en de nullity van een matrix gelijk zijn aan het aantal kolommen, dus voor een $m\\times n$ matrix $\\mathbf{M}$ geldt dat:\n",
    "\n",
    "$$\\text{Rank}(\\textbf{M}) + \\text{Nullity}(\\textbf{M}) = n$$\n",
    "\n",
    "We kunnen de nulruimte zelf bepalen door nog een keer de Gauss-Jordan eliminatie uit te voeren, maar nu met alleen nullen in de kolom naast de streep:\n",
    "\n",
    "$$\\left[\\begin{array}{ccc|c} 1 & 1 & -1 & 0 \\\\ 0 & -1 & 0 & 0 \\\\ 1 & 0 & -1 & 0 \\end{array}\\right]$$\n",
    "\n",
    "<details>\n",
    "\n",
    "Tel rij 2 bij rij 1 op:\n",
    "\n",
    "$$\\left[\\begin{array}{ccc|c} 1 & 0 & -1 & 0 \\\\ 0 & -1 & 0 & 0 \\\\ 1 & 0 & -1 & 0 \\end{array}\\right]$$\n",
    "\n",
    "Tel rij 1 bij rij 3 op:\n",
    "\n",
    "$$\\left[\\begin{array}{ccc|c} 1 & 0 & -1 & 0 \\\\ 0 & -1 & 0 & 0 \\\\ 0 & 0 & 0 & 0 \\end{array}\\right]$$\n",
    "\n",
    "Doe rij 2 keer $-1$:\n",
    "\n",
    "</details>\n",
    "    \n",
    "$$\\left[\\begin{array}{ccc|c} 1 & 0 & -1 & 0 \\\\ 0 & 1 & 0 & 0 \\\\ 0 & 0 & 0 & 0 \\end{array}\\right]$$\n",
    "\n",
    "Als we dit omschrijven naar een normale matrix-vergelijking en de gevonden vermenigvuldiging uitvoeren dan krijgen we:\n",
    "\n",
    "$$\\begin{bmatrix} 1 & 0 & -1 \\\\ 0 & 1 & 0 \\\\ 0 & 0 & 0 \\end{bmatrix} \\begin{bmatrix}x \\\\ y \\\\ z\\end{bmatrix} = \\begin{bmatrix}0 \\\\ 0 \\\\ 0\\end{bmatrix} \\quad\\to\\quad \\begin{bmatrix}x-z \\\\ y \\\\ 0\\end{bmatrix} = \\begin{bmatrix}0 \\\\ 0 \\\\ 0\\end{bmatrix}$$\n",
    "\n",
    "Oftewel $x = z$ en $y = 0$, met $z$ als vrije variabele. Met één vrije variabele kunnen we concluderen dat onze nulruimte inderdaad 1-dimensionaal is (een lijn), wat betekent dat we een *nullity* van $1$ gevonden hebben. We kunnen de hele nulruimte met een enkele basisvector $\\vec{e_0}$ uitdrukken, waarbij $x$ en $z$ gelijk zijn en $y$ nul is:\n",
    "\n",
    "$$\\vec{e_0} = \\begin{bmatrix}1 \\\\ 0 \\\\ 1\\end{bmatrix}$$"
   ]
  },
  {
   "cell_type": "markdown",
   "metadata": {
    "deletable": false,
    "editable": false
   },
   "source": [
    "## Opdracht 18\n",
    "Bereken de column space, null space, rank en nullity voor de random gegenereerde matrices:"
   ]
  },
  {
   "cell_type": "code",
   "execution_count": 59,
   "metadata": {
    "deletable": false,
    "editable": false
   },
   "outputs": [
    {
     "data": {
      "text/latex": [
       "$\\displaystyle \\textbf{M} = \n",
       "\\begin{bmatrix}\n",
       "  3 & 3\\\\\n",
       "  2 & 4\\\\\n",
       "\\end{bmatrix}$"
      ],
      "text/plain": [
       "<IPython.core.display.Math object>"
      ]
     },
     "metadata": {},
     "output_type": "display_data"
    },
    {
     "data": {
      "text/markdown": [
       "<details><pre>$\\textbf{M} =  \\begin{bmatrix}   3 & 3\\\\   2 & 4\\\\ \\end{bmatrix}$</pre></details>"
      ],
      "text/plain": [
       "<IPython.core.display.Markdown object>"
      ]
     },
     "metadata": {},
     "output_type": "display_data"
    },
    {
     "data": {
      "text/latex": [
       "$\\displaystyle \\textbf{N} = \n",
       "\\begin{bmatrix}\n",
       "  0 & 0\\\\\n",
       "  1 & 3\\\\\n",
       "\\end{bmatrix}$"
      ],
      "text/plain": [
       "<IPython.core.display.Math object>"
      ]
     },
     "metadata": {},
     "output_type": "display_data"
    },
    {
     "data": {
      "text/markdown": [
       "<details><pre>$\\textbf{N} =  \\begin{bmatrix}   0 & 0\\\\   1 & 3\\\\ \\end{bmatrix}$</pre></details>"
      ],
      "text/plain": [
       "<IPython.core.display.Markdown object>"
      ]
     },
     "metadata": {},
     "output_type": "display_data"
    },
    {
     "data": {
      "text/latex": [
       "$\\displaystyle \\textbf{O} = \n",
       "\\begin{bmatrix}\n",
       "  1 & 4 & 4\\\\\n",
       "  1 & 0 & 1\\\\\n",
       "  4 & 1 & 2\\\\\n",
       "\\end{bmatrix}$"
      ],
      "text/plain": [
       "<IPython.core.display.Math object>"
      ]
     },
     "metadata": {},
     "output_type": "display_data"
    },
    {
     "data": {
      "text/markdown": [
       "<details><pre>$\\textbf{O} =  \\begin{bmatrix}   1 & 4 & 4\\\\   1 & 0 & 1\\\\   4 & 1 & 2\\\\ \\end{bmatrix}$</pre></details>"
      ],
      "text/plain": [
       "<IPython.core.display.Markdown object>"
      ]
     },
     "metadata": {},
     "output_type": "display_data"
    },
    {
     "data": {
      "text/latex": [
       "$\\displaystyle \\textbf{P} = \n",
       "\\begin{bmatrix}\n",
       "  0 & 1 & 3\\\\\n",
       "  0 & 2 & 2\\\\\n",
       "  0 & 4 & 3\\\\\n",
       "\\end{bmatrix}$"
      ],
      "text/plain": [
       "<IPython.core.display.Math object>"
      ]
     },
     "metadata": {},
     "output_type": "display_data"
    },
    {
     "data": {
      "text/markdown": [
       "<details><pre>$\\textbf{P} =  \\begin{bmatrix}   0 & 1 & 3\\\\   0 & 2 & 2\\\\   0 & 4 & 3\\\\ \\end{bmatrix}$</pre></details>"
      ],
      "text/plain": [
       "<IPython.core.display.Markdown object>"
      ]
     },
     "metadata": {},
     "output_type": "display_data"
    },
    {
     "data": {
      "text/latex": [
       "$\\displaystyle \\textbf{Q} = \n",
       "\\begin{bmatrix}\n",
       "  4 & 0 & 2\\\\\n",
       "  4 & 3 & 1\\\\\n",
       "\\end{bmatrix}$"
      ],
      "text/plain": [
       "<IPython.core.display.Math object>"
      ]
     },
     "metadata": {},
     "output_type": "display_data"
    },
    {
     "data": {
      "text/markdown": [
       "<details><pre>$\\textbf{Q} =  \\begin{bmatrix}   4 & 0 & 2\\\\   4 & 3 & 1\\\\ \\end{bmatrix}$</pre></details>"
      ],
      "text/plain": [
       "<IPython.core.display.Markdown object>"
      ]
     },
     "metadata": {},
     "output_type": "display_data"
    },
    {
     "data": {
      "text/latex": [
       "$\\displaystyle \\textbf{R} = \n",
       "\\begin{bmatrix}\n",
       "  3 & 4 & 2\\\\\n",
       "  3 & 2 & 3\\\\\n",
       "\\end{bmatrix}$"
      ],
      "text/plain": [
       "<IPython.core.display.Math object>"
      ]
     },
     "metadata": {},
     "output_type": "display_data"
    },
    {
     "data": {
      "text/markdown": [
       "<details><pre>$\\textbf{R} =  \\begin{bmatrix}   3 & 4 & 2\\\\   3 & 2 & 3\\\\ \\end{bmatrix}$</pre></details>"
      ],
      "text/plain": [
       "<IPython.core.display.Markdown object>"
      ]
     },
     "metadata": {},
     "output_type": "display_data"
    }
   ],
   "source": [
    "RNG().set(6)\n",
    "\n",
    "random_tensor(r\"\\textbf{M}\", (2,2), singular=matrix_nd, interval=(0,5))\n",
    "random_tensor(r\"\\textbf{N}\", (2,2), singular=matrix_gd, interval=(0,5))\n",
    "random_tensor(r\"\\textbf{O}\", (3,3), singular=matrix_nd, interval=(0,5))\n",
    "random_tensor(r\"\\textbf{P}\", (3,3), singular=matrix_gd, interval=(0,5))\n",
    "random_tensor(r\"\\textbf{Q}\", (2,3), singular=matrix_ns, interval=(0,5))\n",
    "random_tensor(r\"\\textbf{R}\", (2,3), singular=matrix_ns, interval=(0,5))"
   ]
  },
  {
   "cell_type": "markdown",
   "metadata": {},
   "source": [
    "<div style=\"background:#fffff0;\">\n",
    "\n",
    "### Inversen <a id='opdr13'></a>\n",
    "    \n",
    "$\\text{I}(\\textbf{M}) = span(\\begin{bmatrix} 3 & 3\\\\ 2 & 4\\\\ \\end{bmatrix})$\n",
    "\n",
    "$\\text{Rank}(\\textbf{M}) = 2$\n",
    "    \n",
    "$\\text{Ker}(\\textbf{M}) = \\begin{bmatrix} 0\\\\ 0\\\\ \\end{bmatrix}$\n",
    "\n",
    "$\\text{Nullity}(\\textbf{M}) = 0$\n",
    "\n",
    "<hr />\n",
    "    \n",
    "$\\text{I}(\\textbf{N}) = span(\\begin{bmatrix} 0\\\\ 1\\\\ \\end{bmatrix})$\n",
    "    \n",
    "$\\text{Rank}(\\textbf{N}) = 1$\n",
    "    \n",
    "$\\text{Ker}(\\textbf{N}) = \\left[\\begin{array}{cc|c}   0 & 0 & 0\\\\   1 & 3 & 0\\\\\\end{array}\\right] \n",
    "= x + 3y = 0 = span(\\begin{bmatrix} 3\\\\ -1\\\\ \\end{bmatrix})\n",
    "$\n",
    "\n",
    "$\\text{Nullity}(\\textbf{N}) = 1$\n",
    "\n",
    "<hr />\n",
    "    \n",
    "$\\text{I}(\\textbf{O}) = \n",
    "\\begin{bmatrix}   1 & 4 & 4\\\\   1 & 0 & 1\\\\   4 & 1 & 2\\\\ \\end{bmatrix} \n",
    "= row2 - row1 =\n",
    "\\begin{bmatrix}   1 & 4 & 4\\\\   0 & -4 & -3\\\\   4 & 1 & 2\\\\ \\end{bmatrix} \n",
    "= row3 - (row1 \\cdot 4) =\n",
    "\\begin{bmatrix}   1 & 4 & 4\\\\   0 & -4 & -3\\\\   0 & -15 & -14\\\\ \\end{bmatrix} \n",
    "= row2 \\cdot -\\frac{1}{4} =\n",
    "\\begin{bmatrix}   1 & 4 & 4\\\\   0 & 1 & \\frac{3}{4}\\\\   0 & -15 & -14\\\\ \\end{bmatrix} \n",
    "= row3 + (row2 \\cdot 15) =\n",
    "\\begin{bmatrix}   1 & 4 & 4\\\\   0 & 1 & \\frac{3}{4}\\\\   0 & 0 & -\\frac{11}{4}\\\\ \\end{bmatrix} \n",
    "= row3 \\cdot -\\frac{4}{11} =\n",
    "\\begin{bmatrix}   1 & 4 & 4\\\\   0 & 1 & \\frac{3}{4}\\\\   0 & 0 & 1\\\\ \\end{bmatrix} \n",
    "= row2 + (row3 \\cdot -\\frac{3}{4}) =\n",
    "\\begin{bmatrix}   1 & 4 & 4\\\\   0 & 1 & 0\\\\   0 & 0 & 1\\\\ \\end{bmatrix} \n",
    "= row1 - (row3 \\cdot 4) =\n",
    "\\begin{bmatrix}   1 & 4 & 0\\\\   0 & 1 & 0\\\\   0 & 0 & 1\\\\ \\end{bmatrix} \n",
    "= row1 - (row2 \\cdot 4) =\n",
    "\\begin{bmatrix}   1 & 0 & 0\\\\   0 & 1 & 0\\\\   0 & 0 & 1\\\\ \\end{bmatrix} =\n",
    "span(\\begin{bmatrix}   1 & 4 & 4\\\\   1 & 0 & 1\\\\   4 & 1 & 2\\\\ \\end{bmatrix})\n",
    "$\n",
    "\n",
    "$\\text{Rank}(\\textbf{O}) = 3$\n",
    "    \n",
    "$\\text{Ker}(\\textbf{O}) = \\begin{bmatrix}   0\\\\   0\\\\   0\\\\ \\end{bmatrix}$\n",
    "\n",
    "$\\text{Nullity}(\\textbf{O}) = 0$\n",
    "\n",
    "<hr />\n",
    "    \n",
    "$\\text{I}(\\textbf{P}) = \n",
    "\\begin{bmatrix}   0 & 1 & 3\\\\   0 & 2 & 2\\\\   0 & 4 & 3\\\\ \\end{bmatrix} \n",
    "= row2 - (row1 \\cdot 2) = \n",
    "\\begin{bmatrix}   0 & 1 & 3\\\\   0 & 0 & -4\\\\   0 & 4 & 3\\\\ \\end{bmatrix} \n",
    "= row3 - (row1 \\cdot 4) = \n",
    "\\begin{bmatrix}   0 & 1 & 3\\\\   0 & 0 & -4\\\\   0 & 0 & -9\\\\ \\end{bmatrix} \n",
    "= row2 \\cdot -\\frac{1}{4} = \n",
    "\\begin{bmatrix}   0 & 1 & 3\\\\   0 & 0 & 1\\\\   0 & 0 & -9\\\\ \\end{bmatrix} \n",
    "= row3 + (row2 \\cdot 9) = \n",
    "\\begin{bmatrix}   0 & 1 & 3\\\\   0 & 0 & 1\\\\   0 & 0 & 0\\\\ \\end{bmatrix} =\n",
    "= row1 + (row2 \\cdot -3) = \n",
    "\\begin{bmatrix}   0 & 1 & 0\\\\   0 & 0 & 1\\\\   0 & 0 & 0\\\\ \\end{bmatrix} =\n",
    "span(\\begin{bmatrix}   1 & 3\\\\   2 & 2\\\\   4 & 3\\\\ \\end{bmatrix})\n",
    "$\n",
    "\n",
    "$\\text{Rank}(\\textbf{P}) = 2$\n",
    "    \n",
    "$\\text{Ker}(\\textbf{P}) = \\begin{bmatrix}   0 & 1 & 0\\\\   0 & 0 & 1\\\\   0 & 0 & 0\\\\ \\end{bmatrix} = x = t, y = 0,\n",
    "z = 0 = span(\\begin{bmatrix}   1\\\\   0\\\\   0\\\\ \\end{bmatrix})$\n",
    "\n",
    "$\\text{Nullity}(\\textbf{P}) = 1$\n",
    "\n",
    "<hr />\n",
    "    \n",
    "$\\text{I}(\\textbf{Q}) = \n",
    "\\begin{bmatrix}   4 & 0 & 2\\\\   4 & 3 & 1\\\\ \\end{bmatrix} \n",
    "= row1 \\cdot \\frac{1}{4} = \n",
    "\\begin{bmatrix}   1 & 0 & \\frac{1}{2}\\\\   4 & 3 & 1\\\\ \\end{bmatrix}\n",
    "= row2 - (row1 \\cdot 4) =\n",
    "\\begin{bmatrix}   1 & 0 & \\frac{1}{2}\\\\   0 & 3 & -1\\\\ \\end{bmatrix}\n",
    "= row2 \\cdot \\frac{1}{3} =\n",
    "\\begin{bmatrix}   1 & 0 & \\frac{1}{2}\\\\   0 & 1 & -\\frac{1}{3}\\\\ \\end{bmatrix} =\n",
    "span(\\begin{bmatrix}   4 & 0\\\\   4 & 3\\\\ \\end{bmatrix})\n",
    "$\n",
    "\n",
    "$\\text{Rank}(\\textbf{Q}) = 2$\n",
    "    \n",
    "$\\text{Ker}(\\textbf{Q}) = \\begin{bmatrix}   1 & 0 & \\frac{1}{2}\\\\   0 & 1 & -\\frac{1}{3}\\\\ \\end{bmatrix} = x + \\frac{1}{2}z = 0, y - \\frac{1}{3}z = 0 = span(\\begin{bmatrix} -\\frac{1}{2}\\\\   \\frac{1}{3}\\\\  1\\\\ \\end{bmatrix})$\n",
    "\n",
    "$\\text{Nullity}(\\textbf{Q}) = 1$\n",
    "\n",
    "<hr />\n",
    "    \n",
    "$\\text{I}(\\textbf{R}) = \n",
    "\\begin{bmatrix}   3 & 4 & 2\\\\   3 & 2 & 3\\\\ \\end{bmatrix} \n",
    "= row1 \\cdot \\frac{1}{3} = \n",
    "\\begin{bmatrix}   1 & \\frac{4}{3} & \\frac{2}{3}\\\\   3 & 2 & 3\\\\ \\end{bmatrix} \n",
    "= row2 - (row1 \\cdot 3) =\n",
    "\\begin{bmatrix}   1 & \\frac{4}{3} & \\frac{2}{3}\\\\   0 & 1 & -\\frac{1}{2}\\\\ \\end{bmatrix} \n",
    "= row1 - (row2 \\cdot \\frac{4}{3}) =\n",
    "\\begin{bmatrix}   1 & 0 & \\frac{4}{3}\\\\   0 & 1 & -\\frac{1}{2}\\\\ \\end{bmatrix} =\n",
    "span(\\begin{bmatrix}   3 & 4\\\\   3 & 2\\\\ \\end{bmatrix})\n",
    "$\n",
    "\n",
    "$\\text{Rank}(\\textbf{R}) = 2$\n",
    "    \n",
    "$\\text{Ker}(\\textbf{R}) = \\begin{bmatrix}   1 & 0 & \\frac{4}{3}\\\\   0 & 1 & -\\frac{1}{2}\\\\ \\end{bmatrix} = x + \\frac{4}{3}z = 0, y -\\frac{1}{2}z = 0 = span({\\begin{bmatrix} -\\frac{4}{3}\\\\ \\frac{1}{2}\\\\ 1\\\\ \\end{bmatrix}})$\n",
    "\n",
    "$\\text{Nullity}(\\textbf{R}) = 1$\n",
    "\n",
    "</div>"
   ]
  },
  {
   "cell_type": "markdown",
   "metadata": {
    "deletable": false,
    "editable": false
   },
   "source": [
    "## Right, Left en Pseudo inversen\n",
    "Voor niet-vierkante matrices of matrices met een determinant die niet 0 is, is het zoals we gezien hebben niet mogelijk een inverse te vinden: een matrix die een andere matrix ongedaan kan maken, maar ook door diezelfde matrix ongedaan kan maken. Gelukkig is het wel altijd mogelijk een matrix te vinden die één van beiden doet:\n",
    "- een matrix $\\mathbf{M}$ die informatie verliest, dus naar minder dimensies gaat, is niet ongedaan te maken, maar er is wel een matrix te vinden die door $\\mathbf{M}$ ongedaan wordt gemaakt en\n",
    "- een matrix $\\mathbf{N}$ die een ruimte in een hoger-dimensionale ruimte plaats is omkeerbaar, maar er is geen unieke matrix te vinden die door $\\mathbf{N}$ ongedaan wordt gemaakt.\n",
    "\n",
    "### Right Inverse\n",
    "Voor een matrix zoals $\\mathbf{M}$ betekent dit dat we een *right inverse* kunnen vinden, een matrix $\\mathbf{M}^r$ zodat $\\mathbf{M} \\cdot \\mathbf{M}^r = \\mathbf{I}$. Hier kunnen we dus \"delen\" zoals we dat met de inverse gedaan hebben, maar alleen als de matrix rechts staat:\n",
    "\n",
    "$$\\begin{align}\n",
    "\\mathbf{Q}\\cdot \\mathbf{M} = \\mathbf{P} & \\to\n",
    "\\mathbf{Q} \\cdot \\mathbf{M} \\cdot \\mathbf{M}^r = \\mathbf{P} \\cdot \\mathbf{M}^r \n",
    "\\\\ & \\to\n",
    "\\mathbf{Q} \\cdot \\mathbf{I} = \\mathbf{P} \\cdot \\mathbf{M}^r\n",
    "\\\\ & \\to\n",
    "\\mathbf{Q} = \\mathbf{P} \\cdot \\mathbf{M}^r\n",
    "\\end{align}$$\n",
    "\n",
    "Als de matrix waardoor we willen \"delen\" links staat in een vermenigvuldiging komen we niet verder...\n",
    "\n",
    "$$\\begin{align}\n",
    "\\mathbf{M}\\cdot \\mathbf{Q} = \\mathbf{P} & \\to\n",
    "\\mathbf{M} \\cdot \\mathbf{Q} \\cdot \\mathbf{M}^r = \\mathbf{P} \\cdot \\mathbf{M}^r\n",
    "\\\\ & \\to \\dots\n",
    "\\end{align}$$\n",
    "    \n",
    "### Left Inverse\n",
    "Voor de matrix $\\mathbf{N}$ hierboven geldt precies het omgekeerde: we kunnen een *left inverse* vinden, een matrix $\\mathbf{N}^l$ zodat $\\mathbf{N}^l \\cdot \\mathbf{N} = \\mathbf{I}$. Ook deze kunnen we voor een deling gebruiken, maar nu alleen als de matrix links staat (wat ook mooi van pas komt bij een matrix-vector vermenigvuldiging):\n",
    "\n",
    "$$\\begin{align}\n",
    "\\mathbf{N} \\cdot \\vec v = \\vec w & \\to\n",
    "\\mathbf{N}^l \\cdot \\mathbf{N} \\cdot \\vec v = \\mathbf{M}^l \\cdot \\vec w \n",
    "\\\\ & \\to\n",
    "\\mathbf{I} \\cdot \\vec v = \\mathbf{N}^l \\cdot \\vec w\n",
    "\\\\ & \\to\n",
    "\\vec v  = \\mathbf{N}^l \\cdot \\vec w \n",
    "\\end{align}$$\n",
    "\n",
    "Als de matrix waardoor we willen \"delen\" rechts staat in een vermenigvuldiging komen we niet verder...\n",
    "\n",
    "$$\\begin{align}\n",
    "\\mathbf{Q}\\cdot \\mathbf{N} =  \\vec w & \\to\n",
    "\\mathbf{N}^l \\cdot \\mathbf{Q} \\cdot \\mathbf{N} = \\mathbf{N}^l \\cdot \\vec w\n",
    "\\\\ & \\to \\dots\n",
    "\\end{align}$$\n",
    "\n",
    "### Pseudo-Inverse\n",
    "Een matrix heeft altijd een left inverse, **of** een right inverse. Als de matrix alletwee heeft, dan moeten beiden inversen dezelfde matrix zijn en is dit een honest-to-goodness echt inverse $\\mathbf{M}^{-1}$. Dit geldt alleen voor vierkante, omkeerbare matrices; de rest heeft **of** een left inverse, **of** een right inverse. In dit geval kunnen we de left en right inverse met een term aanduiden: de pseudo-inverse (notatie) $\\mathbf{M}^+$. Hiervoor gelden de volgende twee eigenschappen:\n",
    "\n",
    "$$\\mathbf{M} \\cdot \\mathbf{M}^+ \\cdot \\mathbf{M} = \\mathbf{M}\\qquad\\text{en}\\qquad\\mathbf{M}^+ \\cdot \\mathbf{M} \\cdot \\mathbf{M}^+ = \\mathbf{M}^+$$"
   ]
  },
  {
   "cell_type": "markdown",
   "metadata": {
    "deletable": false,
    "editable": false
   },
   "source": [
    "## Opdracht 19\n",
    "Magische vierkant zijn vierkanten bestaande uit getallen waarbij de sommen van de getallen op de rijen, kolommen en diagonalen allemaal hetzelfde is, bijvoorbeeld:\n",
    "\n",
    "$$\\begin{array}{|c|c|c|}\n",
    "\\hline\n",
    "8 & 3 & 4 \\\\ \\hline\n",
    "1 & 5 & 9 \\\\ \\hline\n",
    "6 & 7 & 2 \\\\ \\hline\n",
    "\\end{array}$$\n",
    "\n",
    "Hierbij is de som van alle rijen, kolommen en diagonalen gelijk aan 15.\n",
    "Een ander voorbeeld met waarbij alleen gebruik wordt gemaakt van priemgetallen is deze (met de som gelijk aan 177):\n",
    "\n",
    "$$\\begin{array}{|c|c|c|}\n",
    "\\hline\n",
    "101 & 5 & 71 \\\\ \\hline\n",
    "29 & 59 & 89 \\\\ \\hline\n",
    "47 & 113 & 17 \\\\ \\hline\n",
    "\\end{array}$$\n",
    "\n",
    "Natuurlijk kunnen er ook grotere vierkanten worden gemaakt, zoals het onderstaande (zeer bekende) magische vierkant:\n",
    "$$\\begin{array}{|c|c|c|c|}\n",
    "\\hline\n",
    "16 & 3 & 2 & 13 \\\\ \\hline\n",
    "5 & 10 & 11 & 8 \\\\ \\hline\n",
    "9 & 6 & 7 & 12 \\\\ \\hline\n",
    "4 & 15 & 14 & 1 \\\\ \\hline\n",
    "\\end{array}$$\n",
    "\n",
    "Er zijn allerlei verschillende manier om deze vierkanten te maken, maar voor ons is het interessanter om te kijken of, en zo ja hoe, je een oplossing kan vinden gegeven een aantal waardes. Neem bijvoorbeeld het onderstaande gegeven vierkant:\n",
    "\n",
    "$$\\begin{array}{|c|c|c|}\n",
    "\\hline\n",
    "   5 &  ~~ & ~~  \\\\ \\hline\n",
    "~~  &  ~~ &  4  \\\\ \\hline\n",
    "~~  & ~~  &  6   \\\\ \\hline\n",
    "\\end{array}$$\n",
    "\n",
    "De vraag is nu: wat zijn de getallen die in de lege vakjes moeten worden ingevuld?\n",
    "\n",
    "### Opdracht\n",
    "Om een algemeen probleem als dit op te lossen is het nodig om deze vraagstelling om te schrijven in een stelsel vergelijken. Om effectief een oplossing te kunnen construeren is het nodig om dit stelsel vergelijkingen te beschrijven in matrix-vector vorm: \n",
    "\n",
    "$$\\mathbf{A} \\vec{x} = \\vec{b}$$\n",
    "\n",
    "Daarna kan je dit stelsel vergelijkingen oplossen door middel van verschillende methodes, zoals Gauss-Jordan eliminatie en (pseudo)inverse matrices. Omdat we hier met een matrix van $8\\times 9$ of zelfs $9 \\times 10$ te maken hebben gaan we het handwerk met Gauss-Jordan overslaan, en vertrouwen we op de computer om dit voor ons te doen.\n",
    "\n",
    "Schrijf een functie die, gegeven een lijst van gegeven waardes `[lb, b, rb, l, m, r, lo, o, ro]` een matrix-vector vergelijking opstelt en oplost om het magische vierkant verder in te vullen. De functie gebruikt de determinant / rank om uit te zoeken of een oplossing mogelijk is. \n",
    "\n",
    "Je kunt de volgende NumPy functies gebruiken (deze hebben we niet zelf geschreven, omdat om deze te berekenen meer wiskundig inzicht nodig is, en dat is lastig aan een computer uit te leggen):\n",
    " - `np.linalg.pinv()`\n",
    " - `np.linalg.matrix_rank()`\n",
    "\n",
    "Naast het programmeren moet je ook je aanpak beschrijven, indien gebruikt met verwijzing naar geraadpleegde bronnen buiten het studiemateriaal. \n",
    "\n",
    "**Let op:** voor deze opdracht is het niet nodig dat de oplossing bestaat uit gehele getallen. Er mogen dus breuken of komma-getallen gebruikt worden. Je mag de aanname doen dat de som van een rij, kolom of diagonaal gelijk is aan drie keer de waarde van het middelste vakje."
   ]
  },
  {
   "cell_type": "markdown",
   "metadata": {},
   "source": [
    "<div style=\"background:#fffff0;\">\n",
    "\n",
    "### Toelichting aanpak magische vierkanten <a id='opdr20'></a>\n",
    "\n",
    "De aanpak die ik heb bedacht gaat als volgt, ik zat te denken over hoe een mens dit op een slimme manier zou aanpakken(dus niet random nummer inpluggen tot het werkt). Ik kwam tot de conclusie dat je dit allemaal met lineare vergelijkingen kan oplossen en daar is een mooie library sympy voor, dus de code zal deze vergelijkingen genereren en vervolgens het antwoord in de magic square stoppen.\n",
    "\n",
    "</div>"
   ]
  },
  {
   "cell_type": "code",
   "execution_count": 60,
   "metadata": {},
   "outputs": [
    {
     "data": {
      "text/latex": [
       "$\\displaystyle \\begin{array}{|c|c|c|}\\hline\n",
       "  8 & 3 & 4\\\\\\hline\n",
       "  1 & 5 & 9\\\\\\hline\n",
       "  6 & 7 & 2\\\\\\hline\n",
       "\\end{array}$"
      ],
      "text/plain": [
       "<IPython.core.display.Math object>"
      ]
     },
     "metadata": {},
     "output_type": "display_data"
    },
    {
     "data": {
      "text/markdown": [
       "<details><pre>$\\begin{array}{|c|c|c|}\\hline   8 & 3 & 4\\\\\\hline   1 & 5 & 9\\\\\\hline   6 & 7 & 2\\\\\\hline \\end{array}$</pre></details>"
      ],
      "text/plain": [
       "<IPython.core.display.Markdown object>"
      ]
     },
     "metadata": {},
     "output_type": "display_data"
    }
   ],
   "source": [
    "from sympy import *\n",
    "s_x = symbols('x')\n",
    "\n",
    "# Je kan latex_msquare gebruiken om een magisch vierkant van 3 bij 3 te printen, bijvoorbeeld:\n",
    "latex_msquare(np.array(((8,3,4),(1,5,9),(6,7,2))))\n",
    "\n",
    "input = np.array(((5, 0, 0),\n",
    "                  (0, 0, 4),\n",
    "                  (0, 0, 6)))\n",
    "\n",
    "\n",
    "def get_known(gegeven_getallen: np.ndarray):\n",
    "    if len(gegeven_getallen[1].nonzero()[0]) == 2: #row\n",
    "        return (gegeven_getallen[1][0], gegeven_getallen[1][2])\n",
    "    elif len(gegeven_getallen[:, 1].nonzero()[0]) == 2: #column\n",
    "        return (gegeven_getallen[0][1], gegeven_getallen[2][1])\n",
    "    elif len(gegeven_getallen.diagonal().nonzero()[0]) == 2: #diagonal\n",
    "        return (gegeven_getallen[0][0], gegeven_getallen[2][2])\n",
    "\n",
    "def solve(MS: np.ndarray, magic_sum):\n",
    "    while len(MS.nonzero()[0]) != MS.shape[0] * MS.shape[1]:\n",
    "        for y in range(MS.shape[0]):\n",
    "            for x in range(MS.shape[1]):\n",
    "                if MS[y][x] == 0:\n",
    "                    if len(MS[y].nonzero()[0]) == 2: #row\n",
    "                        indexes = MS[y].nonzero()[0]\n",
    "                        MS[y][x] = magic_sum - (MS[y][indexes[0]] + MS[y][indexes[1]])\n",
    "                    elif len(MS[:, x].nonzero()[0]) == 2: #collumn\n",
    "                        indexes = MS[:, x].nonzero()[0] \n",
    "                        MS[y][x] = magic_sum - (MS[indexes[0]][x] + MS[indexes[1]][x])\n",
    "                    elif len(MS.diagonal().nonzero()[0]) == 2 and x == y: #diagonal\n",
    "                        indexes = MS.diagonal().nonzero()[0] \n",
    "                        MS[y][x] = magic_sum - (MS[indexes[0]][indexes[0]] + MS[indexes[1]][indexes[1]])\n",
    "\n",
    "def magisch_vierkant(gegeven_getallen: np.ndarray) -> np.ndarray:\n",
    "    #Get the numbers to form the equation\n",
    "    MS = gegeven_getallen.astype(float)\n",
    "    known_numbers = get_known(gegeven_getallen)\n",
    "\n",
    "    #Take the output of the equation and use it for the middle number and magic sum\n",
    "    middle_num = list(solveset(Eq(known_numbers[0] + known_numbers[1] + s_x, s_x * 3), s_x))[0]\n",
    "    MS[1][1] = middle_num\n",
    "    magic_sum = middle_num * 3\n",
    "    solve(MS, magic_sum)\n",
    "    return MS"
   ]
  },
  {
   "cell_type": "markdown",
   "metadata": {
    "deletable": false,
    "editable": false
   },
   "source": [
    "### Tests\n",
    "`test_integer`:\n",
    "$$\\begin{array}{|c|c|c|}\\hline   0 & 3 & 4\\\\\\hline   0 & 0 & 0\\\\\\hline   0 & 7 & 0\\\\\\hline \\end{array} \\mapsto \\begin{array}{|c|c|c|}\\hline   8 & 3 & 4\\\\\\hline   1 & 5 & 9\\\\\\hline   6 & 7 & 2\\\\\\hline \\end{array}$$\n",
    "\n",
    "`test_rational`:\n",
    "$$\\begin{array}{|c|c|c|}\\hline   5 & 0 & 0\\\\\\hline   0 & 0 & 4\\\\\\hline   0 & 0 & 6\\\\\\hline \\end{array} \\mapsto\n",
    "\\begin{array}{|c|c|c|}\\hline   5 & 5 & 6.5\\\\\\hline   7 & 5.5 & 4\\\\\\hline   4.5 & 6 & 6\\\\\\hline \\end{array}$$"
   ]
  },
  {
   "cell_type": "code",
   "execution_count": 61,
   "metadata": {
    "deletable": false,
    "editable": false
   },
   "outputs": [
    {
     "name": "stderr",
     "output_type": "stream",
     "text": [
      "test_integer (ac_tests.test_magisch_vierkant.<locals>.TestMagischVierkant) ... ok\n",
      "test_rational (ac_tests.test_magisch_vierkant.<locals>.TestMagischVierkant) ... ok\n",
      "\n",
      "----------------------------------------------------------------------\n",
      "Ran 2 tests in 0.030s\n",
      "\n",
      "OK\n"
     ]
    }
   ],
   "source": [
    "test_magisch_vierkant(magisch_vierkant)"
   ]
  },
  {
   "cell_type": "markdown",
   "metadata": {
    "deletable": false,
    "editable": false
   },
   "source": [
    "# Checkpoint Bravo <a id='cp-bravo'></a>\n",
    "Als je alles hierboven hebt gemaakt kun je je werk inleveren. Als de testen aangeven dat er nog fouten in zitten, probeer deze dan te verbeteren, maar schroom ook niet om de docent om hulp te vragen als je er niet uitkomt.\n",
    "\n",
    "Om je werk in te leveren moet je er allereerst voor zorgen dat je Notebook is opgeslagen (ctrl-s of het icoontje in de toolbar). Daarna kun je een Git-commit maken en deze naar je eigen GitHub of GitLab pushen. De link naar je repository is uiteindelijk wat je inlevert op Canvas, om de docent een seintje te geven dat er werk te beoordelen is."
   ]
  },
  {
   "cell_type": "markdown",
   "metadata": {
    "deletable": false,
    "editable": false
   },
   "source": [
    "# Differentiëren\n",
    "Het tweede deel van deze cursus gaat over calculus: de wiskunde van verandering. Waar we (lineaire) algebra in AI vooral gebruiken om data weer te geven, houdt calculus zich bezig met de functies die op die data werken. Deze inzichten kunnen we gebruiken om te optimaliseren, bijvoorbeeld de best mogelijke waarde of de laagste kosten te vinden."
   ]
  },
  {
   "cell_type": "markdown",
   "metadata": {
    "deletable": false,
    "editable": false
   },
   "source": [
    "## Opdracht 20\n",
    "Schrijf de onderstaande functies voor het berekenen van limieten. De functie `limit_left` berekent de limiet vanaf de linkerkant, en de functie `limit_right` vanaf de rechterkant. Beide geven `None` terug als de gevraagde limiet niet bestaat. In de functie wordt een variabele `delta` ($\\delta$) bijgehouden, die aangeeft hoe ver we van de opgegeven $x$ waarde de functie proberen te benaderen. Deze variabele wordt herhaaldelijk verlaagt (door te delen door 10) totdat het verschil tussen de huidige aanroep en de vorige lager is dan de parameter `epsilon` ($\\epsilon$). Als de functie er niet in slaagt om de gevraagde waarde te benaderen (het resultaat van de functie-aanroep op $x \\pm\\delta$ is `None`) dan mag de functie `None` teruggeven.\n",
    "\n",
    "De functie `limit` combineert beide functies. Beiden worden geprobeerd, en als de resultaten minder dan $2\\epsilon$ uit elkaar liggen dan wordt het gemiddelde als benadering genomen. Anders geeft de functie `None`."
   ]
  },
  {
   "cell_type": "code",
   "execution_count": 6,
   "metadata": {},
   "outputs": [],
   "source": [
    "def limit_left(func: Callable[[float], float], x: float, epsilon: float = 0.0001) -> Tuple[float, float]: # TODO\n",
    "    delta = 1 # Hoeveel zitten we links van de gevraagde waarde?\n",
    "    while delta >= epsilon:\n",
    "        delta /= 10\n",
    "    return func(x - delta)\n",
    "\n",
    "def limit_right(func: Callable[[float], float], x: float, epsilon: float = 0.0001) -> Tuple[float, float]: # TODO\n",
    "    delta = 1 # Hoeveel zitten we links van de gevraagde waarde?\n",
    "    while delta >= epsilon:\n",
    "        delta /= 10\n",
    "    return func(x + delta)\n",
    "\n",
    "def limit(func: Callable[[float], float], x: float, epsilon: float = 0.0001) -> Tuple[float, float]: # TODO\n",
    "    left = limit_left(func, x, epsilon)\n",
    "    right = limit_right(func, x, epsilon)\n",
    "    return (left + right) / 2 if abs(left - right) < 2 * epsilon else None"
   ]
  },
  {
   "cell_type": "markdown",
   "metadata": {
    "deletable": false,
    "editable": false
   },
   "source": [
    "### Tests\n",
    "Het blok hieronder bevat een aantal functies waarmee je je code kan testen, en die ook voor de uiteindelijke tests worden gebruikt. Voel je vrij zelf functies toe te voegen!\n",
    "\n",
    "| **Test** | **Betekenis** |\n",
    "|---:|:---|\n",
    "| `test_holes` | Zoekt de limiet van een functie die op een enkel punt undefined is |\n",
    "| `test_single_discontinuity` | Zoekt de limiet van een functie met een enkel discontinu punt |\n",
    "| `test_left_undefined_above` | Zoekt de limiet van een functie op het punt waar deze ophoudt te bestaan (rechts) |\n",
    "| `test_left_undefined_below` | Zoekt de limiet van een functie op het punt waar deze begint te bestaan (links) |\n",
    "| `test_jump` | Zoekt een niet-bestaande limiet in een piecewise functie |\n",
    "| `test_jump_left` | Zoekt de limiet van links in de piecewise functie |\n",
    "| `test_jump_right` | Zoekt de limiet van rechts in de piecewise functie |"
   ]
  },
  {
   "cell_type": "code",
   "execution_count": 7,
   "metadata": {
    "deletable": false,
    "editable": false
   },
   "outputs": [
    {
     "name": "stderr",
     "output_type": "stream",
     "text": [
      "test_holes (ac_tests.test_limit.<locals>.TestLimit) ... ok\n",
      "test_jump (ac_tests.test_limit.<locals>.TestLimit) ... ok\n",
      "test_jump_left (ac_tests.test_limit.<locals>.TestLimit) ... ok\n",
      "test_jump_right (ac_tests.test_limit.<locals>.TestLimit) ... ok\n",
      "test_left_undefined_above (ac_tests.test_limit.<locals>.TestLimit) ... ok\n",
      "test_left_undefined_below (ac_tests.test_limit.<locals>.TestLimit) ... ok\n",
      "test_single_discontinuity (ac_tests.test_limit.<locals>.TestLimit) ... ok\n",
      "\n",
      "----------------------------------------------------------------------\n",
      "Ran 7 tests in 0.021s\n",
      "\n",
      "OK\n"
     ]
    }
   ],
   "source": [
    "def discontinuous_function(x: float) -> float:\n",
    "    if x == 72:\n",
    "        return -10\n",
    "    elif x % 13 == 0:\n",
    "        return None\n",
    "    else:\n",
    "        return 2.5 * x\n",
    "\n",
    "def holes_function(x: float) -> float:\n",
    "    if x % 13 == 0:\n",
    "        return None\n",
    "    else:\n",
    "        return 2.5 * x\n",
    "    \n",
    "def single_discontinuity_function(x: float) -> float:\n",
    "    if x == 72:\n",
    "        return -10\n",
    "    else:\n",
    "        return 2.5 * x\n",
    "    \n",
    "def right_undefined_function(x: float) -> float:\n",
    "    if x >= 10:\n",
    "        return None\n",
    "    else:\n",
    "        return x+3\n",
    "\n",
    "def left_undefined_function(x: float) -> float:\n",
    "    if x <= 10:\n",
    "        return None\n",
    "    else:\n",
    "        return x+3\n",
    "\n",
    "def piecewise_function(x: float) -> float:\n",
    "    if x < -2:\n",
    "        return -1.5*x -2\n",
    "    elif x >= -2 and x <= 1:\n",
    "        return -1/3 * (x-1) + 2\n",
    "    else:\n",
    "        return x-2\n",
    "    \n",
    "test_limit(limit_left, limit_right, limit)"
   ]
  },
  {
   "cell_type": "markdown",
   "metadata": {
    "deletable": false,
    "editable": false
   },
   "source": [
    "## Opdracht 21\n",
    "Schrijf een functie een functie numeriek differentieert. De meegegeven functie wordt twee keer aangeroepen, eenmaal op punt `x` en een keer op `x+delta`; het verschil in `y` wordt gedeeld door het verschil in `x`."
   ]
  },
  {
   "cell_type": "code",
   "execution_count": 40,
   "metadata": {},
   "outputs": [],
   "source": [
    "def get_derivative_at(func: Callable[[float], float], x: float, delta: float = 0.0001) -> float: # TODO\n",
    "    y1 = func(x) \n",
    "    y2 = func(x + delta)\n",
    "    return (y2 - y1) / ((x + delta) - x)"
   ]
  },
  {
   "cell_type": "markdown",
   "metadata": {
    "deletable": false,
    "editable": false
   },
   "source": [
    "### Tests\n",
    "Het blok hieronder bevat een aantal functies waarmee je je code kan testen, en die ook voor de uiteindelijke tests worden gebruikt. Voel je vrij zelf functies toe te voegen!\n",
    "\n",
    "| **Test** | **Betekenis** |\n",
    "|---:|:---|\n",
    "| `test_square` | Zoekt de afgeleide van `square` op $x=2$ |\n",
    "| `test_double` | Zoekt de afgeleide van `double` op $x=2$ |\n",
    "| `test_succ` | Zoekt de afgeleide van `succ` op $x=2$ |"
   ]
  },
  {
   "cell_type": "code",
   "execution_count": 41,
   "metadata": {
    "deletable": false,
    "editable": false
   },
   "outputs": [
    {
     "name": "stderr",
     "output_type": "stream",
     "text": [
      "test_double (ac_tests.test_numeric_derivative.<locals>.TestNumericDerivative) ... ok\n",
      "test_square (ac_tests.test_numeric_derivative.<locals>.TestNumericDerivative) ... ok\n",
      "test_succ (ac_tests.test_numeric_derivative.<locals>.TestNumericDerivative) ... ok\n",
      "\n",
      "----------------------------------------------------------------------\n",
      "Ran 3 tests in 0.009s\n",
      "\n",
      "OK\n"
     ]
    }
   ],
   "source": [
    "def square(x: float) -> float:\n",
    "    return x**2\n",
    "\n",
    "def double(x: float) -> float:\n",
    "    return x*2\n",
    "\n",
    "def succ(x: float) -> float:\n",
    "    return x+1\n",
    "    \n",
    "test_numeric_derivative(get_derivative_at)"
   ]
  },
  {
   "cell_type": "markdown",
   "metadata": {
    "deletable": false,
    "editable": false
   },
   "source": [
    "## Opdracht 22 <a id='opdr22'></a>\n",
    "Het idee van een afgeleide wordt vooral gebruikt waneer we een functie met een formule hebben. Verderop zullen we zien hoe we van een formule de formule voor de afgeleide van een functie op elk punt kunnen berekenen. Zelfs als we geen formule maar een Python functie hebben kunnen we deze gebruiken voor het berekenen van de afgeleide: we roepen de functie aan op $x$ en $x+\\delta$ en kijken wat het verschil is.\n",
    "\n",
    "We kunnen het idee van differentiatie ook gebruiken als we helemaal geen formule hebben, maar enkel data. Als we een tabel hebben van de $x$-waarde van een functie en de bijbehorende $y$ waarde, kunnen we nog steeds zien hoeveel $y$ toeneemt (of afneemt) voor een bepaalde toename in $x$. \n",
    "\n",
    "Het bestand `verkeerssimulatie-rechteweg-posities.csv` bevat een voorbeeld van dit soort data. In het CSV bestand is elke kolom gescheiden door `;` en is de decimal-separator `.` en geeft de eerste rij de huidige positie van een aantal voertuigen. De rijen daarna geven in de eerste kolom de tijd, en in de volgende kolommen de snelheid van de voertuigen. Jullie doel is om de volgende gegevens te bepalen:\n",
    " - Voor elk voertuig de maximum en minimum snelheid en\n",
    " - een grafiek (in python code met matplotlib) van de snelheden van alle voertuigen over de gegeven tijdsperiode (van minimum tijdstip tot maximum tijdstip in het bestand).\n",
    "\n",
    "Daarnaast dient er een uitleg met onderbouwing van de techniek/methode (de achterliggende wiskundige techniek) te zijn hoe je dit doet."
   ]
  },
  {
   "cell_type": "code",
   "execution_count": 8,
   "metadata": {},
   "outputs": [
    {
     "data": {
      "image/png": "[encoded data removed]",
      "text/plain": [
       "<Figure size 432x288 with 1 Axes>"
      ]
     },
     "metadata": {
      "needs_background": "light"
     },
     "output_type": "display_data"
    }
   ],
   "source": [
    "import csv\n",
    "import matplotlib.pyplot as plt\n",
    "\n",
    "def get_data() -> Tuple[np.ndarray, np.ndarray, np.ndarray]:\n",
    "    reader = csv.reader(open(\"verkeerssimulatie-rechteweg-posities.csv\"), delimiter=\";\")\n",
    "    times = []\n",
    "    pos_car1 = []\n",
    "    pos_car2 = []\n",
    "    for row in reader:\n",
    "        times.append(float(row[0]))\n",
    "        pos_car1.append(float(row[1]))\n",
    "        pos_car2.append(float(row[2]))\n",
    "    return (np.array(times), np.array(pos_car1), np.array(pos_car2))\n",
    "\n",
    "def plot_data(ys: np.ndarray, xss: List[np.ndarray]):\n",
    "    plt.ylabel(\"Speed\")\n",
    "    plt.xlabel(\"Time\")\n",
    "    plt.plot(ys, xss[0], 'r')\n",
    "    plt.plot(ys, xss[1], 'g')\n",
    "    plt.show()\n",
    "\n",
    "def bereken_deltas(times: np.ndarray, positions: np.ndarray) -> np.ndarray:\n",
    "    deltas = []\n",
    "    for x in range(len(times) - 1):\n",
    "        deltas.append((float(positions[x + 1]) - float(positions[x])) / (float(times[x + 1]) - float(times[x])))\n",
    "    return np.array(deltas)\n",
    "\n",
    "t, c1, c2 = get_data()\n",
    "s1 = bereken_deltas(t, c1)\n",
    "s2 = bereken_deltas(t, c2)\n",
    "plot_data(np.delete(t, 0), [s1, s2])"
   ]
  },
  {
   "cell_type": "markdown",
   "metadata": {
    "deletable": false,
    "editable": false
   },
   "source": [
    "### Tests\n",
    "| **Test** | **Betekenis** |\n",
    "|---:|:---|\n",
    "| `test_min_1` | De minimale waarde van de berekende snelheden klopt voor voertuig 1 |\n",
    "| `test_max_1` | De maximale waarde van de berekende snelheden klopt voor voertuig 1 |\n",
    "| `test_min_1` | De minimale waarde van de berekende snelheden klopt voor voertuig 2 |\n",
    "| `test_max_1` | De maximale waarde van de berekende snelheden klopt voor voertuig 2 |"
   ]
  },
  {
   "cell_type": "code",
   "execution_count": 9,
   "metadata": {
    "deletable": false,
    "editable": false
   },
   "outputs": [
    {
     "name": "stderr",
     "output_type": "stream",
     "text": [
      "test_max_1 (ac_tests.test_verkeer_snelheden.<locals>.TestVerkeerSnelheden) ... ok\n",
      "test_max_2 (ac_tests.test_verkeer_snelheden.<locals>.TestVerkeerSnelheden) ... ok\n",
      "test_min_1 (ac_tests.test_verkeer_snelheden.<locals>.TestVerkeerSnelheden) ... ok\n",
      "test_min_2 (ac_tests.test_verkeer_snelheden.<locals>.TestVerkeerSnelheden) ... ok\n",
      "\n",
      "----------------------------------------------------------------------\n",
      "Ran 4 tests in 0.020s\n",
      "\n",
      "OK\n"
     ]
    }
   ],
   "source": [
    "test_verkeer_snelheden(get_data, bereken_deltas)"
   ]
  },
  {
   "cell_type": "markdown",
   "metadata": {
    "deletable": false,
    "editable": false
   },
   "source": [
    "## Opdracht 23\n",
    "Nu gaan we algebra gebruiken om afgeleides symbolisch te kunnen vinden. Voor veel wiskundige functies zijn er regels hoe je hier de afgeleide ervan kan vinden, die je kunt achterhalen met een beetje algebra en de definitief van een afgeleide als een limiet. Hierdoor hoeven we, als we de formule weten, niet voor ieder punt waar we de slope willen vinden de berekening opnieuw te doen. We berekenen een functie (die we ook de afgeleide noemen) die we vervolgens kunnen gebruiken om de afgeleide te vinden. De afgeleide van $x^2$ op het punt $x=3$ hebben we bijvoorbeeld tot nu toe zo berekend: \n",
    "\n",
    "$$\\begin{align}\n",
    "\\frac{d}{dx}\\  x^2 \\text{ op } (x = 3) & = \n",
    "\\lim_{\\delta \\to 0}\\quad \\frac{(3+\\delta)^2 - 3^2}{\\delta}\n",
    "\\\\[3mm] & = \n",
    "\\lim_{\\delta \\to 0}\\quad \\frac{9 + 6\\delta + \\delta^2 - 9}{\\delta}\n",
    "\\\\[3mm] & = \n",
    "\\lim_{\\delta \\to 0}\\quad \\frac{6\\delta + \\delta^2}{\\delta}\n",
    "\\\\[3mm] & = \n",
    "\\lim_{\\delta \\to 0}\\quad 6 + \\delta\n",
    "\\\\[3mm] & = \n",
    "6\n",
    "\\end{align}\n",
    "$$ \n",
    "\n",
    "Als we de afgeleide nu ook voor $x=4$ willen weten moeten we de hele berekening over doen. Beter kunnen we de berekening één keer voor een algemen $x$ doen en dit zo ver mogelijk versimpelen om een formule voor de afgeleide functie te vinden.\n",
    "\n",
    "$$\\begin{align}\n",
    "\\frac{d}{dx}\\  x^2 & = \n",
    "\\lim_{\\delta \\to 0}\\quad \\frac{(x+\\delta)^2 - x^2}{\\delta}\n",
    "\\\\[3mm] & = \n",
    "\\lim_{\\delta \\to 0}\\quad \\frac{x^2 + 2x\\delta + \\delta^2 - x^2}{\\delta}\n",
    "\\\\[3mm] & = \n",
    "\\lim_{\\delta \\to 0}\\quad \\frac{2x\\delta + \\delta^2}{\\delta}\n",
    "\\\\[3mm] & = \n",
    "\\lim_{\\delta \\to 0}\\quad 2x + \\delta\n",
    "\\\\[3mm] & = \n",
    "2x\n",
    "\\end{align}\n",
    "$$ \n",
    "\n",
    "Voor een functie $f(x)$ noemen we deze formule voor de afgeleide $f^\\prime(x)$ (zeg: f-prime). Voor $f(x) = x^2$ hebben we hierboven berekend dat $f^\\prime(x) = 2x$. Als we nu de afgeleide van $f(x)$ op $x=3$ willen weten kunnen we die invullen en krijgen we $f^\\prime(3) = 2x = 6$. Eenzelfde soort formule is ook te verzinnen voor $f(x)=x^3$, $f(x)=x^4$, etc., en natuurlijk $x^1$ (oftewel $x$) en $x^0$ oftewel $1$. We kunnen deze regels combineren om polynomen (wiskundige functies van de vorm $x^2 -2x + 3$ te differentiëren. In dit voorbeeld staat $3$ voor het aantal $1$-tallen, oftewel het aantal $x^0$-tallen. \n",
    "\n",
    "Schrijf een functie `get_derivative` die de afgeleide van een polynoom teruggeeft. Een polynoom wordt weergegeven met een `dict` waarbij de keys de exponenten zijn en de values hoe vaak dit exponent in de polynoom voorkomt. De dictionary `{2: 3, 1: 0, 0: 4}` staat bijvoorbeeld voor de polynoom $3x^2 + 0x + 4x^0$ oftewel $3x^2 + 4$. Als een term niet voorkomt, zoals $x$ in het voorbeeld kan deze de waare $0$ hebben, of helemaal niet in de dictionary voorkomen.\n",
    "\n",
    "De dictionary wordt samen met twee strings en een integer `primes` doorgegeven, waar je verder niet zo veel mee hoeft. De variabele `primes` begint bij een polynoom op $0$, en wordt met $1$ opgehoogd iedere keer dat de `get_derivative()` functie is aangeroepen.\n",
    "\n",
    "Je kan een polynoom leesbaar weergeven met de functie `latex_polynomial()`."
   ]
  },
  {
   "cell_type": "code",
   "execution_count": 12,
   "metadata": {},
   "outputs": [],
   "source": [
    "def get_derivative(poly: Polynomial) -> Polynomial:\n",
    "    \"\"\"Bereken de derivative van een simpele polynoom. De argumenten komen binnen via een tuple.\n",
    "       `label`, `var` en `primes` zijn bedoeld voor het printen van de polynoom, en niet van \n",
    "       belang voor de opdracht. Alleen `primes` moet bij differentiëren met 1 worden opgehoogd.\n",
    "       Doel van de opdracht is vooral het aanpassen van `terms`.\n",
    "    \n",
    "    Args:\n",
    "        terms (int): Een dictionary met alle coëfficienten.\n",
    "        label (str): De naam van de functie, bijvoorbeeld f.\n",
    "        var (str): De variabele van de functie, bijvoorbeeld x.\n",
    "        primes (int): Het aantal keer dat de functie gedifferentieerd is; begint op 0\n",
    "                      en wordt elke keer met 1 opgehoogd.\n",
    "\n",
    "    Returns:\n",
    "        Polynomial: (terms_derivative, label, var, primes).\"\"\"\n",
    "    \n",
    "    terms, label, var, primes = poly\n",
    "    term = [key for key in terms if terms[key] != 0][0]\n",
    "    derivative = {term - 1: term}\n",
    "    return (derivative, label, var, primes + 1)"
   ]
  },
  {
   "cell_type": "markdown",
   "metadata": {
    "deletable": false,
    "editable": false
   },
   "source": [
    "### Tests\n",
    "Het blok hieronder bevat een aantal polynomen waarmee je je code kan testen, en die ook voor de uiteindelijke tests worden gebruikt. Voel je vrij zelf functies toe te voegen!\n",
    "\n",
    "We gaan er met het testen vanuit dat je functie ook zal werken voor breuken van de vorm $\\frac{1}{x^n}$ en wortels. Een breuk $\\frac{1}{x^3}$ komt namelijk overeen met de term $x^{-3}$, waarvoor hetzelfde patroon als voro bijvoobeeld $x^2$ geldt. Een wortel $\\sqrt x$ is te schrijven als $x^{\\frac{1}{2}}$ en $\\sqrt[3] x$ is $x^\\frac{1}{3}$, etc., en ook hier kunnen we hetzelfde patroon gebruiken als voor normale machten.\n",
    "\n",
    "| **Test** | **Betekenis** |\n",
    "|---:|:---|\n",
    "| `test_squared` | Zoekt de afgeleide van `x_squared` ($x^2$) |\n",
    "| `test_recip` | Zoekt de afgeleide van `test_recip` ($\\frac{1}{x}$) |\n",
    "| `test_root` | Zoekt de afgeleide van `x_root` ($\\sqrt x$) |\n",
    "| `test_primes` | Checkt of de variabele `primes` opgehoogd is |"
   ]
  },
  {
   "cell_type": "code",
   "execution_count": 13,
   "metadata": {
    "deletable": false,
    "editable": false
   },
   "outputs": [
    {
     "name": "stderr",
     "output_type": "stream",
     "text": [
      "test_primes (ac_tests.test_polynomial_derivative.<locals>.TestNumericDerivative) ... ok\n",
      "test_recip (ac_tests.test_polynomial_derivative.<locals>.TestNumericDerivative) ... ok\n",
      "test_root (ac_tests.test_polynomial_derivative.<locals>.TestNumericDerivative) ... ok\n",
      "test_squared (ac_tests.test_polynomial_derivative.<locals>.TestNumericDerivative) ... ok\n",
      "\n",
      "----------------------------------------------------------------------\n",
      "Ran 4 tests in 0.004s\n",
      "\n",
      "OK\n"
     ]
    }
   ],
   "source": [
    "x_squared = polynomial({1: 0, 2: 1})\n",
    "x_recip = polynomial({1: 0, -1: 1})\n",
    "x_root = polynomial({1/2: 1})\n",
    "\n",
    "test_polynomial_derivative(get_derivative)"
   ]
  },
  {
   "cell_type": "markdown",
   "metadata": {
    "deletable": false,
    "editable": false
   },
   "source": [
    "## Opdracht 24\n",
    "Differentieren van polynomen kan ook eenvoudig in termen van lineaire algebra. Je kunt een vector $\\begin{bmatrix}1\\\\2\\\\3\\end{bmatrix}$ zien als een weergave van de polynoom $1 + 2x + 3x^2$. Daarbij is het ook mogelijk om een matrix te vinden die de derivative berekent. Bijvoorbeeld:\n",
    "\n",
    "$$\\vec{p} = \\begin{bmatrix} 1\\\\ 2\\\\ \\end{bmatrix} \\qquad \\mathbf{D_2} = \\begin{bmatrix} 0 & 1\\\\ 0 & 0\\\\ \\end{bmatrix} \\qquad \\mathbf{D_2}\\cdot \\vec{p} = \\begin{bmatrix} 2\\\\ 0\\\\ \\end{bmatrix}$$\n",
    "\n",
    "$$p(x) = 2x + 1\\qquad\\qquad\\qquad\\qquad p^\\prime(x) = 2$$\n",
    "\n",
    "Deze matrix volgt een speciaal patroon: de getallen gaan van links naar rechts (en boven naar beneden) van groot naar klein. De eerste kolom/rij gaat over $1$-tallen, dan $x$-tallen, dan $x^2$-tallen, etc., waarbij de kolom waarin een getal staat vertelt welke termen in het in het orgineel met de factor vermenigvuldigt moeten worden, om de termen in de afgeleide te vinden waar de rij voor staat.\n",
    "\n",
    "De $1$ rechtsbovenin vertelt dat het $x$-tal van het origineel (want: 2e kolom) vermenigvuldigt wordt met met $1$, en dat het resultaat het $1$-tal van de afgeleide is (want: 1e rij). Verder staan er overal nullen, dus de andere factoren worden niet meegenomen. Bedenk hoe een grotere matrix eruit moet zien, voor grotere polynomen.\n",
    "\n",
    "Teken in het gele vlak hieronder de afgeleide-matrices voor een 3, 4 en 5-dimensionale vectoren, dus voor polynomen van de vormen $ax^2+bx+c$ tot $ax^4+bx^3+cx^2+dx+e$. Schrijf daarna een functie die deze, gegeven een vector, de juiste matrix opbouwt en deze vermenigvuldigt met de vector; het resultaat is daarmee de afgeleide van de input, in vector vorm."
   ]
  },
  {
   "cell_type": "markdown",
   "metadata": {},
   "source": [
    "<div style=\"background:#fffff0;\">\n",
    "\n",
    "$\\mathbf{D_3} = \\frac{d}{dx}(x^2 + x + 1) = 2x + 1 = \\begin{bmatrix} 0 & 1 & 0\\\\ 0 & 0 & 2\\\\ 0 & 0 & 0\\\\ \\end{bmatrix} \\cdot \\begin{bmatrix} 1\\\\ 1\\\\ 1\\\\ \\end{bmatrix} = \\begin{bmatrix} 1\\\\ 2\\\\ 0\\\\ \\end{bmatrix} = 2x + 1$\n",
    "\n",
    "$\\mathbf{D_4} = \\frac{d}{dx}(x^3 + x^2 +x + 1) = 3x^2 + 2x + 1 = \\begin{bmatrix} 0 & 1 & 0 & 0\\\\ 0 & 0 & 2 & 0\\\\ 0 & 0 & 0 & 3\\\\ 0 & 0 & 0 & 0\\\\ \\end{bmatrix} \\cdot \\begin{bmatrix} 1\\\\ 1\\\\ 1\\\\ 1\\\\ \\end{bmatrix} = \\begin{bmatrix} 1\\\\ 2\\\\ 3\\\\ 0\\\\ \\end{bmatrix} = 3x^2 + 2x + 1$\n",
    "    \n",
    "$\\mathbf{D_5} = \\frac{d}{dx}(x^4 + x^3 + x^2 + x + 1) = 4x^3 + 3x^2 + 2x + 1 = \\begin{bmatrix} 0 & 1 & 0 & 0 & 0\\\\ 0 & 0 & 2 & 0 & 0\\\\ 0 & 0 & 0 & 3 & 0\\\\ 0 & 0 & 0 & 0 & 4\\\\ 0 & 0 & 0 & 0 & 0\\\\ \\end{bmatrix} \\cdot \\begin{bmatrix} 1\\\\ 1\\\\ 1\\\\ 1\\\\ 1\\\\ \\end{bmatrix} = \\begin{bmatrix} 1\\\\ 2\\\\ 3\\\\ 4\\\\ 0\\\\ \\end{bmatrix} = 4x^3 + 3x^2 + 2x + 1$\n",
    "\n",
    "</div>"
   ]
  },
  {
   "cell_type": "code",
   "execution_count": 60,
   "metadata": {},
   "outputs": [],
   "source": [
    "def deriv_matrix(polynomial: np.ndarray) -> np.ndarray:\n",
    "    M = np.zeros((len(polynomial), len(polynomial)), dtype=int)\n",
    "    for y in range(len(polynomial)):\n",
    "        for x in range(len(polynomial)):\n",
    "            if x - 1 == y:\n",
    "                M[y][x] = polynomial[-x-1]\n",
    "    result = matrix_product(M, polynomial)\n",
    "    return result"
   ]
  },
  {
   "cell_type": "markdown",
   "metadata": {
    "deletable": false,
    "editable": false
   },
   "source": [
    "### Tests\n",
    "Voor deze functie is er een enkele test, die voor $3x^2 + x + 2$ de matrix test."
   ]
  },
  {
   "cell_type": "code",
   "execution_count": 59,
   "metadata": {
    "deletable": false,
    "editable": false
   },
   "outputs": [
    {
     "name": "stderr",
     "output_type": "stream",
     "text": [
      "test_derivative (ac_tests.test_matrix_derivative.<locals>.TestMatrixDerivative) ... ok\n",
      "\n",
      "----------------------------------------------------------------------\n",
      "Ran 1 test in 0.002s\n",
      "\n",
      "OK\n"
     ]
    }
   ],
   "source": [
    "test_matrix_derivative(deriv_matrix, matrix_product)"
   ]
  },
  {
   "cell_type": "markdown",
   "metadata": {
    "deletable": false,
    "editable": false
   },
   "source": [
    "## Opdracht 25 <a id=\"opdr25\"></a>\n",
    "Nu gaan we echt serieus aan de gang met symbolisch differentiëren. We gaan dit doen op basis van code die ons in staat stelt om wiskundige formules symbolisch weer te geven en te manipuleren. Hiervoor wordt gebruikt gemaakt van Object Oriented Programming. Dit gaat in Python net weer even anders dan in normale OOP-programmeertalen, maar als het goed is heb je hier weinig last van. We gaan vooral per class een methode `deriv()` invullen, waarbij we gebruik kunnen maken van variabelen die in het object zijn opgeslagen. De Python manier hiervoor is `self.variabele` te gebruiken, of `self.functie()` om een methode binnen het object aan te roepen. \n",
    "\n",
    "Voor nu gaan we bezig met de volgende objecten:\n",
    "\n",
    "- `Constant(3)` maakt een constante\n",
    "- `Variable(x)` maakt een variabele\n",
    "- `Sum(left, right)` maakt een som, dus `Sum(Variable(x), Constant(1)` staat voor $x+1$\n",
    "- `Product(left, right)` maakt een product\n",
    "- `Power(base, exponent)`, `Power(Variable(x), 3)` staat voor $x^3$. Hier is geen `Constant` nodig, power werkt alleen met getallen in het exponent.\n",
    "\n",
    "In ieder object is een aantal variabelen beschikbaar, dit wordt per class in de docstring gedocumenteerd. Vergeet niet `self` te gebruiken, dus `self.left` om bijvoorbeeld linkerkant van een product te krijgen. Ook kan je de methodes `deriv()` op subobjecten aanroepen (recursie!) en de functie `simplify()` gebruiken. Deze functie is al geschreven voor ieder object, en probeert de constructie zo simpel mogelijk te houden, bijvoorbeeld door $1 \\times 1$ te vervangen door $1$ en $x \\times x$ door $x^2$. Het is verstandig na `deriv()` `.simplify()` aan te roepen. \n",
    "\n",
    "Negeer verder  de hele `def __init__(...)` handel, dit is helaas nodig omdat Python niet zo mooi objectgeorrienteerd is als Java/C#/C++, maar hier hoeven jullie niets mee. Deze 2 regels code per object zorgen ervoor dat alle andere code die in het object zit hier niet de boel ononverzichtelijk maken. Als je wilt weten hoe de objecten verder opgebouwd zijn kun je in het bestand `ac_formula.py` (ca 500 regels code) kijken.\n",
    "\n",
    "## De opdracht\n",
    "Vul de `deriv` functies in voor onderstaande functies. Voor `Constant` en `Sum` zijn deze al voorgedaan.\n",
    "Je hoeft voor nu nog geen rekening te houden met de power rule bij de exponenten."
   ]
  },
  {
   "cell_type": "code",
   "execution_count": 6,
   "metadata": {},
   "outputs": [],
   "source": [
    "class Constant(ac_formula.Constant):\n",
    "    def __init__(self, *args, **kwargs):\n",
    "        super().__init__(*args, **kwargs)\n",
    "\n",
    "    def deriv(self): # VOORBEELD\n",
    "        \"\"\" Beschikbare instance-variablen:\n",
    "            - value (getal)\n",
    "            \"\"\"\n",
    "        return Constant(0)\n",
    "\n",
    "class Variable(ac_formula.Variable):\n",
    "    def __init__(self, *args, **kwargs):\n",
    "        super().__init__(*args, **kwargs)\n",
    "\n",
    "    def deriv(self):\n",
    "        \"\"\" Beschikbare instance-variablen:\n",
    "            - label (string)\n",
    "            \"\"\"\n",
    "        return Constant(1)\n",
    "\n",
    "class Sum(ac_formula.Sum):\n",
    "    def __init__(self, *args, **kwargs):\n",
    "        super().__init__(*args, **kwargs)\n",
    "\n",
    "    def deriv(self): # VOORBEELD\n",
    "        \"\"\" Beschikbare instance-variablen:\n",
    "            - left (subformule)\n",
    "            - right (subformule)\n",
    "            \"\"\"\n",
    "        return Sum(self.left.deriv(), self.right.deriv()).simplify()\n",
    "\n",
    "class Product(ac_formula.Product):\n",
    "    def __init__(self, *args, **kwargs):\n",
    "        super().__init__(*args, **kwargs)\n",
    "\n",
    "    def deriv(self):\n",
    "        \"\"\" Beschikbare instance-variablen:\n",
    "            - left (subformule)\n",
    "            - right (subformule)\n",
    "            \"\"\"\n",
    "        return Sum(Product(self.left, self.right.deriv()), Product(self.left.deriv(), self.right)).simplify()\n",
    "    \n",
    "class Power(ac_formula.Power):\n",
    "    def __init__(self, *args, **kwargs):\n",
    "        super().__init__(*args, **kwargs)\n",
    "\n",
    "    def deriv(self):\n",
    "        \"\"\" Beschikbare instance-variablen:\n",
    "            - base (subformule)\n",
    "            - exponent (getal)\n",
    "            \"\"\"\n",
    "        return Product(Constant(self.exponent), Power(self.base, self.exponent - 1)).simplify()"
   ]
  },
  {
   "cell_type": "markdown",
   "metadata": {
    "deletable": false,
    "editable": false
   },
   "source": [
    "### Tests\n",
    "| **Test** | **Betekenis** |\n",
    "|---:|:---|\n",
    "| `test_variable` | Zoekt de afgeleide van $x$, test `Variable` |\n",
    "| `test_product` | Zoekt de afgeleide van $x_1 \\cdot x_2$, test `Product` |\n",
    "| `test_recip_x` | Zoekt de afgeleide van $x^{-1}$, test `Power` |\n",
    "| `test_2x_plus_3` | Zoekt de afgeleide van $2x+3$, combineert alles |"
   ]
  },
  {
   "cell_type": "code",
   "execution_count": 7,
   "metadata": {
    "deletable": false,
    "editable": false
   },
   "outputs": [
    {
     "name": "stderr",
     "output_type": "stream",
     "text": [
      "test_2x_plus_3 (ac_tests.test_symbolic_differentiation_alfa.<locals>.TestSymbolicDifferentiationAlfa) ... ok\n",
      "test_product (ac_tests.test_symbolic_differentiation_alfa.<locals>.TestSymbolicDifferentiationAlfa) ... ok\n",
      "test_recip_x (ac_tests.test_symbolic_differentiation_alfa.<locals>.TestSymbolicDifferentiationAlfa) ... ok\n",
      "test_variable (ac_tests.test_symbolic_differentiation_alfa.<locals>.TestSymbolicDifferentiationAlfa) ... ok\n",
      "\n",
      "----------------------------------------------------------------------\n",
      "Ran 4 tests in 0.004s\n",
      "\n",
      "OK\n"
     ]
    }
   ],
   "source": [
    "test_symbolic_differentiation_alfa(Constant, Variable, Sum, Product, Power)"
   ]
  },
  {
   "cell_type": "markdown",
   "metadata": {
    "deletable": false,
    "editable": false
   },
   "source": [
    "## Opdracht 26\n",
    "\n",
    "We gaan onze toolbox verder uitbreiden met een aantal goniometrische functies: $\\text{sin}$, $\\text{cos}$ en $\\text{tan}$. Je kan waar nodig het object `Negative` gebruiken om iets negatief te maken; dit geldt ook voor constanten, je kan beter `Negative(Constant(2))` gebruiken dan `Constant(-2)`, omdat het systeem beter in staat is formules op die manier te versimpelen. `Negative` heeft een enkele variabele, `inverse`. De chain-rule / kettingregel laten we nog even achterwege, dit komt in een latere opdracht."
   ]
  },
  {
   "cell_type": "code",
   "execution_count": 8,
   "metadata": {},
   "outputs": [],
   "source": [
    "class Sin(ac_formula.Sin):\n",
    "    def __init__(self, *args, **kwargs):\n",
    "        super().__init__(*args, **kwargs)\n",
    "\n",
    "    def deriv(self):\n",
    "        \"\"\" Beschikbare instance-variablen:\n",
    "            - argument (subformule)\n",
    "            \"\"\"\n",
    "        return Cos(self.argument)\n",
    "    \n",
    "class Tan(ac_formula.Tan):\n",
    "    def __init__(self, *args, **kwargs):\n",
    "        super().__init__(*args, **kwargs)\n",
    "\n",
    "    def deriv(self):\n",
    "        \"\"\" Beschikbare instance-variablen:\n",
    "            - argument (subformule)\n",
    "            \"\"\"\n",
    "        return Power(Sec(self.argument), 2)\n",
    "\n",
    "class Cos(ac_formula.Cos):\n",
    "    def __init__(self, *args, **kwargs):\n",
    "        super().__init__(*args, **kwargs)\n",
    "\n",
    "    def deriv(self):\n",
    "        \"\"\" Beschikbare instance-variablen:\n",
    "            - argument (subformule)\n",
    "            \"\"\"\n",
    "        return Negative(Sin(self.argument))"
   ]
  },
  {
   "cell_type": "markdown",
   "metadata": {
    "deletable": false,
    "editable": false
   },
   "source": [
    "### Tests\n",
    "| **Test** | **Betekenis** |\n",
    "|---:|:---|\n",
    "| `test_sin` | Zoekt de afgeleide van $\\text{sin}(x)$ |\n",
    "| `test_cos` | Zoekt de afgeleide van $\\text{cos}(x)$ |\n",
    "| `test_tan` | Zoekt de afgeleide van $\\text{tan}(x)$ |"
   ]
  },
  {
   "cell_type": "code",
   "execution_count": 9,
   "metadata": {
    "deletable": false,
    "editable": false
   },
   "outputs": [
    {
     "name": "stderr",
     "output_type": "stream",
     "text": [
      "test_cos (ac_tests.test_symbolic_differentiation_bravo.<locals>.TestSymbolicDifferentiationBravo) ... ok\n",
      "test_sin (ac_tests.test_symbolic_differentiation_bravo.<locals>.TestSymbolicDifferentiationBravo) ... ok\n",
      "test_tan (ac_tests.test_symbolic_differentiation_bravo.<locals>.TestSymbolicDifferentiationBravo) ... ok\n",
      "\n",
      "----------------------------------------------------------------------\n",
      "Ran 3 tests in 0.003s\n",
      "\n",
      "OK\n"
     ]
    }
   ],
   "source": [
    "test_symbolic_differentiation_bravo(Constant, Variable, Sum, Product, Power, Sin, Cos, Tan)"
   ]
  },
  {
   "cell_type": "markdown",
   "metadata": {
    "deletable": false,
    "editable": false
   },
   "source": [
    "## Opdracht 27\n",
    "De laatste objecten die we willen toevoegen zijn exponenten en logaritmen. `Exponent` en `Log` krijgen een `base` mee, `E` en `Ln` hebben geen base nodig, dit is namelijk het getal $e \\approx 2.71828$. Voor `E` en `Ln` gelden speciale regels met afleiden, vandaar dat deze eigen objecten hebben.\n",
    "\n",
    "Exponent is als `Power`, maar hier is het exponent een subformule in plaats van een enkel getal. $x^2$ kan dus `Power(Variable('x'), 2)` of `Exponent(Variable('x'), Constant(2))` zijn. $2^x$ is alleen met `Exponent(Constant(2), Variable('x'))` uit te drukken. De chain-rule / kettingregel laten we nog even achterwege, dit komt in de volgende opdracht."
   ]
  },
  {
   "cell_type": "code",
   "execution_count": 10,
   "metadata": {},
   "outputs": [],
   "source": [
    "class E(ac_formula.E):\n",
    "    def __init__(self, *args, **kwargs):\n",
    "        super().__init__(*args, **kwargs)\n",
    "\n",
    "    def deriv(self):\n",
    "        \"\"\" Beschikbare instance-variablen:\n",
    "            - exponent (subformule)\n",
    "            \"\"\"\n",
    "        return E(self.exponent)\n",
    "    \n",
    "class Exponent(ac_formula.Exponent):\n",
    "    def __init__(self, *args, **kwargs):\n",
    "        super().__init__(*args, **kwargs)\n",
    "\n",
    "    def deriv(self):\n",
    "        \"\"\" Beschikbare instance-variablen:\n",
    "            - base (subformule)\n",
    "            - exponent (subformule)\n",
    "            \"\"\"\n",
    "        return Product(Exponent(self.base, self.exponent), Ln(self.base))\n",
    "    \n",
    "class Ln(ac_formula.Ln):\n",
    "    def __init__(self, *args, **kwargs):\n",
    "        super().__init__(*args, **kwargs)\n",
    "\n",
    "    def deriv(self):\n",
    "        \"\"\" Beschikbare instance-variablen:\n",
    "            - argument (subformule)\n",
    "            \"\"\"\n",
    "        return Power(self.argument, -1)\n",
    "    \n",
    "class Log(ac_formula.Log):\n",
    "    def __init__(self, *args, **kwargs):\n",
    "        super().__init__(*args, **kwargs)\n",
    "\n",
    "    def deriv(self):\n",
    "        \"\"\" Beschikbare instance-variablen:\n",
    "            - base (subformule)\n",
    "            - argument (subformule)\n",
    "            \"\"\"\n",
    "        return Power(Product(self.argument, Ln(self.base)), -1)"
   ]
  },
  {
   "cell_type": "markdown",
   "metadata": {
    "deletable": false,
    "editable": false
   },
   "source": [
    "### Tests\n",
    "\n",
    "Nu we langzaam bij gecompliceerdere functies aankomen kan het soms zijn dat een test faalt, terwijl het antwoord goed is. Het systeem doet z'n uiterste best formules te herschrijven zodat dit niet gebeurt, maar soms zal je ergens misschien net iets andersom hebben staan ($x+y$ in plaats van $y+x$) en rekent de test je werk fout. Soms is dit dus op te lossen door ergens je argumenten om te draaien, maar belangrijker nog: **kijk zelf of je antwoord klopt met je verwachting, of met bijvoorbeeld [Wolfram Alpha](https://www.wolframalpha.com). Je antwoord kan goed zijn zonder dat de test dit kan herkennen!** Bij twijfel: vraag je docent.\n",
    "\n",
    "| **Test** | **Betekenis** |\n",
    "|---:|:---|\n",
    "| `test_exponent` | Zoekt de afgeleide van $a^x$, met $a$ als constante |\n",
    "| `test_log` | Zoekt de afgeleide van $\\text{log}_a(x)$, met $a$ als constante |\n",
    "| `test_e` | Zoekt de afgeleide van $e^x$ |\n",
    "| `test_ln` | Zoekt de afgeleide van $\\text{ln}(x)$ |\n",
    "\n",
    "Om een indicatie te geven of een afgekeurd antwoord toch goed is, is voor elke test een tweede variant beschikbaar, met het achtervoegsel `_equivalent`. Deze test niet of dezelfde formule wordt teruggegeven, maar probeert de formule uit en vergelijkt deze met het verwachte antwoord. Een `ok` hier is geen garantie dat je oplossing helemaal klopt, maar is wel een redelijke indicatie. "
   ]
  },
  {
   "cell_type": "code",
   "execution_count": 11,
   "metadata": {
    "deletable": false,
    "editable": false
   },
   "outputs": [
    {
     "name": "stderr",
     "output_type": "stream",
     "text": [
      "test_e (ac_tests.test_symbolic_differentiation_charlie.<locals>.TestSymbolicDifferentiationCharlie) ... ok\n",
      "test_exponent (ac_tests.test_symbolic_differentiation_charlie.<locals>.TestSymbolicDifferentiationCharlie) ... ok\n",
      "test_ln (ac_tests.test_symbolic_differentiation_charlie.<locals>.TestSymbolicDifferentiationCharlie) ... ok\n",
      "test_log (ac_tests.test_symbolic_differentiation_charlie.<locals>.TestSymbolicDifferentiationCharlie) ... ok\n",
      "\n",
      "----------------------------------------------------------------------\n",
      "Ran 4 tests in 0.004s\n",
      "\n",
      "OK\n",
      "test_e_equivalent (ac_tests.test_symbolic_differentiation_charlie_eq.<locals>.TestSymbolicDifferentiationCharlieEq) ... ok\n",
      "test_exponent_equivalent (ac_tests.test_symbolic_differentiation_charlie_eq.<locals>.TestSymbolicDifferentiationCharlieEq) ... ok\n",
      "test_ln_equivalent (ac_tests.test_symbolic_differentiation_charlie_eq.<locals>.TestSymbolicDifferentiationCharlieEq) ... ok\n",
      "test_log_equivalent (ac_tests.test_symbolic_differentiation_charlie_eq.<locals>.TestSymbolicDifferentiationCharlieEq) ... ok\n",
      "\n",
      "----------------------------------------------------------------------\n",
      "Ran 4 tests in 0.006s\n",
      "\n",
      "OK\n"
     ]
    }
   ],
   "source": [
    "test_symbolic_differentiation_charlie(Constant, Variable, Sum, Product, Power, Sin, Cos, Tan, E, Exponent, Ln, Log)\n",
    "test_symbolic_differentiation_charlie_eq(Constant, Variable, Sum, Product, Power, Sin, Cos, Tan, E, Exponent, Ln, Log)"
   ]
  },
  {
   "cell_type": "markdown",
   "metadata": {
    "deletable": false,
    "editable": false
   },
   "source": [
    "## Opdracht 28\n",
    "Tot slot gaan we `Power`, `Sin`, `Cos`, `Tan`, `E`, `Exponent`, `Ln` en `Log` aanpassen om rekening te houden met de chain rule. De buitenste functie wordt gedifferentieerd met betrekking to de binnenste functie, en het geheel wordt vermenigvuldigd met de afgeleide van de binnenste functie. Bijvoorbeeld $\\text{sin}^2x$ (een fancy manier van schrijven voor $\\sin(x)^2$:\n",
    "\n",
    "Voorheen (fout):\n",
    "$f^{}(x) =\\text{sin}^{2}x, \\quad f^{\\prime}(x) =2 \\  \\text{sin}(x)$\n",
    "\n",
    "Nu (goed):\n",
    "$f^{\\prime}(x) =2 \\  \\text{cos}(x) \\  \\text{sin}(x)$"
   ]
  },
  {
   "cell_type": "code",
   "execution_count": 6,
   "metadata": {},
   "outputs": [],
   "source": [
    "class Power(ac_formula.Power):\n",
    "    def __init__(self, *args, **kwargs):\n",
    "        super().__init__(*args, **kwargs)\n",
    "\n",
    "    def deriv(self):\n",
    "        return Product(Product(Constant(self.exponent), self.base.deriv()), Power(self.base, self.exponent - 1)).simplify()\n",
    "\n",
    "class Sin(ac_formula.Sin):\n",
    "    def __init__(self, *args, **kwargs):\n",
    "        super().__init__(*args, **kwargs)\n",
    "\n",
    "    def deriv(self):\n",
    "        return Cos(self.argument).simplify()\n",
    "    \n",
    "class Tan(ac_formula.Tan):\n",
    "    def __init__(self, *args, **kwargs):\n",
    "        super().__init__(*args, **kwargs)\n",
    "\n",
    "    def deriv(self):\n",
    "        return Power(Sec(self.argument), 2)\n",
    "\n",
    "class Cos(ac_formula.Cos):\n",
    "    def __init__(self, *args, **kwargs):\n",
    "        super().__init__(*args, **kwargs)\n",
    "\n",
    "    def deriv(self):\n",
    "        return Negative(Sin(self.argument))\n",
    "\n",
    "class E(ac_formula.E):\n",
    "    def __init__(self, *args, **kwargs):\n",
    "        super().__init__(*args, **kwargs)\n",
    "\n",
    "    def deriv(self):\n",
    "        return Product(self.exponent.deriv(), E(self.exponent)).simplify()\n",
    "    \n",
    "class Exponent(ac_formula.Exponent):\n",
    "    def __init__(self, *args, **kwargs):\n",
    "        super().__init__(*args, **kwargs)\n",
    "\n",
    "    def deriv(self):\n",
    "        return Product(self.exponent, Product(Exponent(self.base, self.exponent), Ln(self.base))).simplify()\n",
    "    \n",
    "class Ln(ac_formula.Ln):\n",
    "    def __init__(self, *args, **kwargs):\n",
    "        super().__init__(*args, **kwargs)\n",
    "\n",
    "    def deriv(self):\n",
    "        return Product(Constant(self.argument.exponent), Power(self.argument.base, -1)).simplify()\n",
    "    \n",
    "class Log(ac_formula.Log):\n",
    "    def __init__(self, *args, **kwargs):\n",
    "        super().__init__(*args, **kwargs)\n",
    "\n",
    "    def deriv(self):\n",
    "        return Power(Ln(self.base), -1).simplify()"
   ]
  },
  {
   "cell_type": "markdown",
   "metadata": {
    "deletable": false,
    "editable": false
   },
   "source": [
    "### Tests\n",
    "\n",
    "Ook hier geldt dat het soms kan zijn dat een test faalt, terwijl het antwoord goed is. Het systeem doet z'n uiterste best formules te herschrijven zodat dit niet gebeurt, maar soms zal je ergens misschien net iets andersom hebben staan ($x+y$ in plaats van $y+x$) en rekent de test je werk fout. Soms is dit dus op te lossen door ergens je argumenten om te draaien, maar belangrijker nog: **kijk zelf of je antwoord klopt met je verwachting, of met bijvoorbeeld [Wolfram Alpha](https://www.wolframalpha.com). Je antwoord kan goed zijn zonder dat de test dit kan herkennen!** Bij twijfel: vraag je docent.\n",
    "\n",
    "### `test_sin_squared_x`\n",
    "$$f^{}(x) =\\text{sin}^{2}x \\mapsto f^{\\prime}(x) =2 \\  \\text{cos}(x) \\  \\text{sin}(x)$$\n",
    "\n",
    "### `test_e_x_squared`\n",
    "$$f^{}(x) =e^{x^{2}} \\mapsto f^{\\prime}(x) =2x \\  e^{x^{2}}$$\n",
    "\n",
    "### `test_five_to_the_e_x`\n",
    "$$f^{}(x) =5^{e^{x}} \\mapsto f^{\\prime}(x) =e^{x} \\  5^{e^{x}} \\  \\text{ln}(5)$$\n",
    "\n",
    "### `test_ln_x_squared`\n",
    "$$f^{}(x) =\\text{ln}(x^{2}) \\mapsto f^{\\prime}(x) =\\frac{2}{x}$$\n",
    "\n",
    "### `test_five_log_e_x`\n",
    "$$f^{}(x) =\\text{log}_{5}(e^{x}) \\mapsto f^{\\prime} =\\frac{1}{\\text{ln}(5)}$$\n",
    "\n",
    "Om een indicatie te geven of een afgekeurd antwoord toch goed is, is voor elke test een tweede variant beschikbaar, met het achtervoegsel `_equivalent`. Deze test niet of dezelfde formule wordt teruggegeven, maar probeert de formule uit en vergelijkt deze met het verwachte antwoord. Een `ok` hier is geen garantie dat je oplossing helemaal klopt, maar is wel een redelijke indicatie. "
   ]
  },
  {
   "cell_type": "code",
   "execution_count": 7,
   "metadata": {
    "deletable": false,
    "editable": false,
    "scrolled": false
   },
   "outputs": [
    {
     "name": "stderr",
     "output_type": "stream",
     "text": [
      "test_e_x_squared (ac_tests.test_symbolic_differentiation_delta.<locals>.TestSymbolicDifferentiationDelta) ... ok\n",
      "test_five_log_e_x (ac_tests.test_symbolic_differentiation_delta.<locals>.TestSymbolicDifferentiationDelta) ... ok\n",
      "test_five_to_the_e_x (ac_tests.test_symbolic_differentiation_delta.<locals>.TestSymbolicDifferentiationDelta) ... ok\n",
      "test_ln_x_squared (ac_tests.test_symbolic_differentiation_delta.<locals>.TestSymbolicDifferentiationDelta) ... ok\n",
      "test_sin_squared_x (ac_tests.test_symbolic_differentiation_delta.<locals>.TestSymbolicDifferentiationDelta) ... ok\n",
      "\n",
      "----------------------------------------------------------------------\n",
      "Ran 5 tests in 0.011s\n",
      "\n",
      "OK\n",
      "test_e_x_squared_equivalent (ac_tests.test_symbolic_differentiation_delta_eq.<locals>.TestSymbolicDifferentiationDeltaEq) ... ok\n",
      "test_five_log_e_x_equivalent (ac_tests.test_symbolic_differentiation_delta_eq.<locals>.TestSymbolicDifferentiationDeltaEq) ... ok\n",
      "test_five_to_the_e_x_equivalent (ac_tests.test_symbolic_differentiation_delta_eq.<locals>.TestSymbolicDifferentiationDeltaEq) ... ok\n",
      "test_ln_x_squared_equivalent (ac_tests.test_symbolic_differentiation_delta_eq.<locals>.TestSymbolicDifferentiationDeltaEq) ... ok\n",
      "test_sin_squared_x_equivalent (ac_tests.test_symbolic_differentiation_delta_eq.<locals>.TestSymbolicDifferentiationDeltaEq) ... ok\n",
      "\n",
      "----------------------------------------------------------------------\n",
      "Ran 5 tests in 0.008s\n",
      "\n",
      "OK\n"
     ]
    }
   ],
   "source": [
    "test_symbolic_differentiation_delta(Constant, Variable, Sum, Product, Power, Sin, Cos, Tan, E, Exponent, Ln, Log)\n",
    "test_symbolic_differentiation_delta_eq(Constant, Variable, Sum, Product, Power, Sin, Cos, Tan, E, Exponent, Ln, Log)"
   ]
  },
  {
   "cell_type": "markdown",
   "metadata": {
    "deletable": false,
    "editable": false
   },
   "source": [
    "## Opdracht 29\n",
    "\n",
    "Hieronder zie je de code voor een lineair regressie probleem. Op basis van een erg beperkte dataset willen we aan de hand van de kaas-consumptie per persoon (in pond) bepalen hoeveel mensen er overlijden aan het verstrikt raken in hun bedlakens [[bron](http://tylervigen.com/spurious-correlations)]. Veel van de code heeft te meer met statistiek te maken dan met calculus, dus die laten we even liggen, maar dit voorbeeld laat wel zien waarom calculus (in dit geval specifiek differentiëren) belangrijk is."
   ]
  },
  {
   "cell_type": "code",
   "execution_count": 23,
   "metadata": {
    "deletable": false,
    "editable": false
   },
   "outputs": [
    {
     "data": {
      "image/png": "[encoded data removed]",
      "text/plain": [
       "<Figure size 432x288 with 1 Axes>"
      ]
     },
     "metadata": {
      "needs_background": "light"
     },
     "output_type": "display_data"
    }
   ],
   "source": [
    "data = {29.8: 327, 30.1: 456, 30.5: 509, 30.6: 497, 31.3: 596,  # x: Per capita cheese consumption\n",
    "        31.7: 573, 32.6: 661, 33.1: 741, 32.7: 809, 32.8: 717}  # y: Number of people who died by becoming tangled in their bedsheets\n",
    "\n",
    "plot_data29(data)"
   ]
  },
  {
   "cell_type": "markdown",
   "metadata": {
    "deletable": false,
    "editable": false
   },
   "source": [
    "We doen voorspellingen op basis van de aanname dat we een rechte lijn in de data kunnen trekken die redelijk dicht bij alle datapunten in de buurt zal komen. Deze rechte lijn kunnen we uitdrukken als $sx+i$. De variabele $s$ staat voor de slope: deze bepaal de richting die de lijn opgaat. Een lijn met slope 0 is plat, en hoe hoger de slope hoe sneller de lijn stijgt (en hoe lager, hoe sneller de lijn daalt). De variabele $i$ staat voor intercept, het punt waarop de lijn de $y$-as raakt (intercept betekent onderscheppen).\n",
    "\n",
    "We kunnen bepalen hoe goed onze voorspelling werkt door voor elk datapunt de fout te berekenen, hier het kwadraat van de nemen (we willen dat de fout altijd positief is, zodat onderschatten en overschatten elkaar niet teniet doen; denk terug aan het statistiek-gedeelte van ASK). Van al deze gekwadrateerde fouten nemen we het gemiddelde.\n",
    "\n",
    "We willen deze functie minimaliseren, want hoe kleiner de totale fout, hoe beter onze voorspelling. We hebben te maken met twee waardes die we willen optimaliseren, de slope en de intercept. Voor dit subprobleem kunnen we calculus gebruiken. Als we de afgeleide van onze kosten-functie hebben dan weten we of de fout groter of kleiner wordt als we de variabelen aanpassen. Aan jullie de taak de twee variabelen te differntiëren!\n",
    "\n",
    "Het differentiëren van een functie met twee variabelen hebben we nog niet gezien (dat gaat later zeker terugkomen), maar gelukkig is dit niet zo moeilijk. We maken twee afgeleides: eentje waarbij we ervan uitgaan dat de slope $s$ constant is en we alleen maar naar de intercept $i$ kijken (dus waar we normaal $x$ hebben, hebben we nu $i$), en eentje waarbij we juist alleen naar de intercept kijken en de slope als constante beschouwen.\n",
    "\n",
    "De formule die we gaan differentiëren ziet er als volgt uit:\n",
    "\n",
    "$$J(s,i) = \\frac{1}{N} \\sum_{j=0}^N(y_j - (sx_j+i))^2$$\n",
    "\n",
    "De som $\\Sigma$ hebben we nog geen afgeleide van gezien, dus die verklappen we vast: dit is herhaaldelijk optellen, en de afgeleide van formule1 + formule2 is van beide de afgeleide nemen en die bij elkaar optellen. Het delen is vermenigvuldigen met een constante, dus die mogen we ook wegdenken en op het einde toevoegen.\n",
    "\n",
    "$$J(s,i) = y - (sx+i)^2$$\n",
    "\n",
    "Deze moeten we dus twee keer differentiëren, een keer met betrekking tot $s$ (dan zijn $i$, $y$ en $x$ constanten), en een keer met betrekking tot $i$ (dan zijn $i$, $y$ en $x$ constanten). Hint: je zult de ketting-regel / chain rule moeten gebruiken om met de functie binnen het exponent te dealen.\n",
    "\n",
    "Bereken de beide afgeleides, en vul in de code hieronder de twee variabelen `d_cost_wrt_slope` en `d_cost_wrt_intercept` in met de formules die je gevonden hebt. Je kunt `x`, `y` en de functie `error` gebruiken om je afgeleide in uit te drukken."
   ]
  },
  {
   "cell_type": "code",
   "execution_count": 77,
   "metadata": {
    "scrolled": false
   },
   "outputs": [
    {
     "data": {
      "image/png": "[encoded data removed]",
      "text/plain": [
       "<Figure size 432x288 with 1 Axes>"
      ]
     },
     "metadata": {
      "needs_background": "light"
     },
     "output_type": "display_data"
    }
   ],
   "source": [
    "def cost(data, slope, intercept):\n",
    "    def predict(x):\n",
    "        return x * slope + intercept\n",
    "\n",
    "    def error(x, y):\n",
    "        return predict(x) - y\n",
    "    \n",
    "    total_error = 0\n",
    "    for x, y in data.items():\n",
    "        total_error += error(x, y) ** 2\n",
    "    return total_error / len(data)\n",
    "\n",
    "def gradient(data, slope, intercept):\n",
    "    learn_rate_slope = 0.001\n",
    "    learn_rate_intercept = 0.1\n",
    "    \n",
    "    def predict(x):\n",
    "        return x * slope + intercept\n",
    "\n",
    "    def error(x, y):\n",
    "        return predict(x) - y\n",
    "    \n",
    "    total_grad_wrt_slope = 0\n",
    "    total_grad_wrt_intercept = 0\n",
    "    \n",
    "    for x, y in data.items():\n",
    "        err = error(x, y)\n",
    "        d_cost_wrt_slope = err * x\n",
    "        d_cost_wrt_intercept = err\n",
    "        total_grad_wrt_slope += d_cost_wrt_slope * learn_rate_slope\n",
    "        total_grad_wrt_intercept += d_cost_wrt_intercept * learn_rate_intercept\n",
    "        \n",
    "    return total_grad_wrt_slope / len(data), total_grad_wrt_intercept / len(data)\n",
    "\n",
    "def train(data):\n",
    "    guess_slope = 0\n",
    "    guess_intercept = 0\n",
    "\n",
    "    count = 0\n",
    "    previous = 0\n",
    "    \n",
    "    new = cost(data, guess_slope, guess_intercept)\n",
    "    \n",
    "    while abs(previous - new) > 0.01 and count < 10000:\n",
    "        count += 1\n",
    "        previous = new\n",
    "        update_slope, update_intercept = gradient(data, guess_slope, guess_intercept)\n",
    "        guess_slope -= update_slope\n",
    "        guess_intercept -= update_intercept\n",
    "        new = cost(data, guess_slope, guess_intercept)\n",
    "        \n",
    "    return guess_slope, guess_intercept\n",
    "\n",
    "s, i = train(data)\n",
    "plot_data29(data, s, i)"
   ]
  },
  {
   "cell_type": "markdown",
   "metadata": {
    "deletable": false,
    "editable": false
   },
   "source": [
    "### Tests\n",
    "De test voor deze opdracht kijkt of je model goed genoeg getraind is, d.w.z. de lijn redelijk door de punten loopt en de totale `cost` minder is dan 3200. Als je de juiste afgeleides in hebt gevuld en verder niets hebt veranderd zou je op ongeveer 3047 uit moeten komen."
   ]
  },
  {
   "cell_type": "code",
   "execution_count": 78,
   "metadata": {
    "deletable": false,
    "editable": false
   },
   "outputs": [
    {
     "name": "stderr",
     "output_type": "stream",
     "text": [
      "test_convergence (ac_tests.test_regressie.<locals>.TestRegressie) ... ok\n",
      "\n",
      "----------------------------------------------------------------------\n",
      "Ran 1 test in 0.229s\n",
      "\n",
      "OK\n"
     ]
    }
   ],
   "source": [
    "test_regressie(train, gradient, cost, data)"
   ]
  },
  {
   "cell_type": "markdown",
   "metadata": {
    "deletable": false,
    "editable": false
   },
   "source": [
    "## Opdracht 30\n",
    "\n",
    "In de cel hieronder worden een paar sommen gegenereerd met betrekking tot afgeleides. Maak deze in de gele cel daaronder, en laat zien hoe je op je antwoord gekomen bent."
   ]
  },
  {
   "cell_type": "code",
   "execution_count": 76,
   "metadata": {
    "deletable": false,
    "editable": false
   },
   "outputs": [
    {
     "data": {
      "text/markdown": [
       "**(a)** Gegeven $f(x) = (4- 5x)^2$, bepaal $f^\\prime(x)$"
      ],
      "text/plain": [
       "<IPython.core.display.Markdown object>"
      ]
     },
     "metadata": {},
     "output_type": "display_data"
    },
    {
     "data": {
      "text/markdown": [
       "<details><pre>Gegeven $f(x) = (4- 5x)^2$, bepaal $f^\\prime(x)$</pre></details>"
      ],
      "text/plain": [
       "<IPython.core.display.Markdown object>"
      ]
     },
     "metadata": {},
     "output_type": "display_data"
    },
    {
     "data": {
      "text/markdown": [
       "**(b)** Gegeven $g(x) = x^3\\ \\text{tan}(2x^2)$, geef $g^\\prime(x)$"
      ],
      "text/plain": [
       "<IPython.core.display.Markdown object>"
      ]
     },
     "metadata": {},
     "output_type": "display_data"
    },
    {
     "data": {
      "text/markdown": [
       "<details><pre>Gegeven $g(x) = x^3\\ \\text{tan}(2x^2)$, geef $g^\\prime(x)$</pre></details>"
      ],
      "text/plain": [
       "<IPython.core.display.Markdown object>"
      ]
     },
     "metadata": {},
     "output_type": "display_data"
    },
    {
     "data": {
      "text/markdown": [
       "**(c)** Gegeven $h(x) = \\text{log}_2(5x-2x^3)$, geef $h^\\prime(x)$"
      ],
      "text/plain": [
       "<IPython.core.display.Markdown object>"
      ]
     },
     "metadata": {},
     "output_type": "display_data"
    },
    {
     "data": {
      "text/markdown": [
       "<details><pre>Gegeven $h(x) = \\text{log}_2(5x-2x^3)$, geef $h^\\prime(x)$</pre></details>"
      ],
      "text/plain": [
       "<IPython.core.display.Markdown object>"
      ]
     },
     "metadata": {},
     "output_type": "display_data"
    },
    {
     "data": {
      "text/markdown": [
       "**(d)** Gegeven $k(x) = \\frac{5}{x^6}$, geef $k^{\\prime\\prime}(x)$"
      ],
      "text/plain": [
       "<IPython.core.display.Markdown object>"
      ]
     },
     "metadata": {},
     "output_type": "display_data"
    },
    {
     "data": {
      "text/markdown": [
       "<details><pre>Gegeven $k(x) = \\frac{5}{x^6}$, geef $k^{\\prime\\prime}(x)$</pre></details>"
      ],
      "text/plain": [
       "<IPython.core.display.Markdown object>"
      ]
     },
     "metadata": {},
     "output_type": "display_data"
    },
    {
     "data": {
      "text/markdown": [
       "**(e)** Gegeven $\\frac{dy}{dx} = x^4 - 3y$, geef $\\frac{d^2y}{dx^2}$"
      ],
      "text/plain": [
       "<IPython.core.display.Markdown object>"
      ]
     },
     "metadata": {},
     "output_type": "display_data"
    },
    {
     "data": {
      "text/markdown": [
       "<details><pre>Gegeven $\\frac{dy}{dx} = x^4 - 3y$, geef $\\frac{d^2y}{dx^2}$</pre></details>"
      ],
      "text/plain": [
       "<IPython.core.display.Markdown object>"
      ]
     },
     "metadata": {},
     "output_type": "display_data"
    },
    {
     "data": {
      "text/markdown": [
       "**(f)** Gegeven $4x^3y - x^2 + 3y^4 = 10$, geef $\\frac{dy}{dx}$"
      ],
      "text/plain": [
       "<IPython.core.display.Markdown object>"
      ]
     },
     "metadata": {},
     "output_type": "display_data"
    },
    {
     "data": {
      "text/markdown": [
       "<details><pre>Gegeven $4x^3y - x^2 + 3y^4 = 10$, geef $\\frac{dy}{dx}$</pre></details>"
      ],
      "text/plain": [
       "<IPython.core.display.Markdown object>"
      ]
     },
     "metadata": {},
     "output_type": "display_data"
    }
   ],
   "source": [
    "RNG().set(0)\n",
    "random_derivatives()"
   ]
  },
  {
   "cell_type": "markdown",
   "metadata": {},
   "source": [
    "<div style=\"background:#fffff0;\">\n",
    "    \n",
    "**(a)** $f^\\prime(x) =  (4- 5x)^2 = 2(4 - 5x)^1\\cdot\\frac{d}{dx}(4 - 5x) = 2(4 - 5x)-5 = -10(4 - 5x)$\n",
    "\n",
    "<hr />\n",
    "    \n",
    "**(b)** $g^\\prime(x) = x^3\\ \\text{tan}(2x^2) = \\frac{d}{dx}(x^3)\\tan(2x^2) + \\frac{d}{dx}(\\tan(2x^2))x^3 = 3x^2\\tan(2x^2) + 4x^4\\sec(2x^2)^2$\n",
    "\n",
    "<hr />\n",
    "    \n",
    "**(c)** $h^\\prime(x) = \\text{log}_2(5x-2x^3) = \\frac{d}{dx}(\\frac{\\ln(5x-2x^3)}{\\ln(2)}) = \\frac{1}{\\ln(2)}\\frac{d}{dx}(\\ln (5x-2x^3)) = \\frac{1}{\\ln(2)} \\frac{d}{dx}(\\ln(5x-2x^3)) \\frac{d}{dx}(5x-2x^3) = \\frac{1}{\\ln(2)} \\frac{d}{dx}(\\frac{1}{(5x-2x^3)} (5-6x^2) = \\frac{5-6x^2}{\\ln(2)(5x-2x^3)}$\n",
    "<hr />\n",
    "    \n",
    "**(d)** $k^{\\prime\\prime}(x) = \\frac{5}{x^6} = 5\\frac{d}{dx}(x^{-6}) = 5(-6x^{-7}) = -30x^{-7} = \\frac{-30}{x^7} = -30\\frac{d}{dx}(x^{-7}) = -30(-7x^{-8}) = 210x^{-8} = \\frac{210}{x^8}$\n",
    "\n",
    "<hr />\n",
    "    \n",
    "**(e)** $\\frac{d^2y}{dx^2} = \\frac{d}{dx}(x^4) - \\frac{d}{dx}(3y) = 4x^3 - 0 = \\frac{d}{dx}(4x^3) = 12x^2$\n",
    "\n",
    "<hr />\n",
    "   \n",
    "**(f)** $\\frac{dy}{dx} = \n",
    "4x^3y - x^2 + 3y^4 = 10$<br/>\n",
    "$\\frac{d}{dx}(4x^3y - x^2 + 3y^4) = \\frac{d}{dx}(10)$<br/>\n",
    "$\\frac{d}{dx}(4x^3y - x^2 + 3y^4) = 0 $<br/>\n",
    "$4(3x^2y + \\frac{d}{dx}(y)x^3) - 2x + 12y^3\\frac{d}{dx}(y)$<br/>\n",
    "$\\frac{x(-6yx + 1)}{2(3y^3 + x^3)}$\n",
    "    \n",
    "</div>"
   ]
  },
  {
   "cell_type": "markdown",
   "metadata": {
    "deletable": false,
    "editable": false
   },
   "source": [
    "# Checkpoint Charlie  <a id='cp-charlie'></a>\n",
    "Als je alles hierboven hebt gemaakt kun je je werk inleveren. Als de testen aangeven dat er nog fouten in zitten, probeer deze dan te verbeteren, maar schroom ook niet om de docent om hulp te vragen als je er niet uitkomt.\n",
    "\n",
    "Om je werk in te leveren moet je er allereerst voor zorgen dat je Notebook is opgeslagen (ctrl-s of het icoontje in de toolbar). Daarna kun je een Git-commit maken en deze naar je eigen GitHub of GitLab pushen. De link naar je repository is uiteindelijk wat je inlevert op Canvas, om de docent een seintje te geven dat er werk te beoordelen is."
   ]
  },
  {
   "cell_type": "markdown",
   "metadata": {
    "deletable": false,
    "editable": false
   },
   "source": [
    "# Integreren\n",
    "Waar we bij de afgeleide de mate van verandering zoeken bij data of een formule (bijvoorbeeld de snelheid als we de positie weten), zijn we bij integreren juist op zoek naar een totaal dat opgebouwd wordt. Als we bijvoorbeeld de snelheid van een voertuig weten, dan kunnen we de afgelegde afstand ook bepalen. Dat kan heel grof (een auto die een uur lang exact 80 heeft gereden is 80 kilometer opgeschoten) maar meestal is de data niet zo overzichtelijk. De auto begon in stilstand, en tijdens het optrekken is de snelheid constant veranderd. Op een gegeven moment reed de auto misschien langere tijd 80 op een provinciale weg, maar ook dan is de snelheid nooit echt constant. Alleen als we op ieder gegeven moment de snelheid weten kunnen we de totale afstand echt zeker weten."
   ]
  },
  {
   "cell_type": "markdown",
   "metadata": {
    "deletable": false,
    "editable": false
   },
   "source": [
    "## Opdracht 31\n",
    "Deze opdracht heeft te maken met [opdracht 22](#opdr22), en is eigenlijk een soort tegenovergesteld op dezelfde manier dat integreren de tegenovergestelde operatie van differentiëren is. \n",
    "\n",
    "Als we een formule hebben die die snelheid bepaalt, en de formule is continu, dan is het mogelijk tot exacte antwoorden te komen (en hier zullen we later meer van zien). Voor nu hebben we echter weer een CSV-bestand `verkeerssimulatie-rechteweg-snelheden.csv` met data, met een nauwkeurigheid van 0.1 seconde. Het betand is in hetzelfde formaat als bij opdracht 22, maar nu hebben we drie kolommen voor drie voertuigen die op dezelfde rechte weg rijden. We gaan ervan uit dat tussen de meetpunten de snelheid lineair toeneemt en dat een voertuig een lengte van 2 meter heeft.\n",
    "\n",
    "Jullie doel voor deze opdracht is om de volgende gegevens te bepalen:\n",
    " - Het tijdstip van de eerste botsing en welke voertuigen dit zijn en\n",
    " - een grafiek (met behulp van [matplotlib](https://matplotlib.org/3.2.1/api/_as_gen/matplotlib.pyplot.plot.html)) van de posities van de voertuigen over de gegeven tijdsperiode (van minimum tijdstip tot maximum tijdstip in het bestand) en ingezoomd rond de eerste botsing.\n",
    " \n",
    "Daarnaast dient er een uitleg met onderbouwing van de techniek/methode (de achterliggende wiskundige techniek) te zijn hoe je dit doet."
   ]
  },
  {
   "cell_type": "code",
   "execution_count": 21,
   "metadata": {},
   "outputs": [
    {
     "data": {
      "image/png": "[encoded data removed]",
      "text/plain": [
       "<Figure size 432x288 with 1 Axes>"
      ]
     },
     "metadata": {
      "needs_background": "light"
     },
     "output_type": "display_data"
    }
   ],
   "source": [
    "import csv\n",
    "import matplotlib.pyplot as plt\n",
    "\n",
    "def get_data() -> Tuple[np.ndarray, np.ndarray, np.ndarray, np.ndarray]:\n",
    "    reader = csv.reader(open(\"verkeerssimulatie-rechteweg-snelheden.csv\"), delimiter=\";\")\n",
    "    times = []\n",
    "    spd_car1 = []\n",
    "    spd_car2 = []\n",
    "    spd_car3 = []\n",
    "    for row in reader:\n",
    "        times.append(float(row[0]))\n",
    "        spd_car1.append(float(row[1]))\n",
    "        spd_car2.append(float(row[2]))\n",
    "        spd_car3.append(float(row[3]))\n",
    "    return (np.array(times), np.array(spd_car1), np.array(spd_car2), np.array(spd_car3))\n",
    "\n",
    "def plot_data(ys: np.ndarray, xss: List[np.ndarray], xrange: Tuple[int,int] = None, yrange: Tuple[int,int] = None):\n",
    "    \"\"\"Optionele argumenten xrange en yrange om ingezoomde plot te maken op de botsing\"\"\"\n",
    "    plt.ylabel(\"Position\")\n",
    "    plt.xlabel(\"Time\")\n",
    "    plt.plot(ys, xss[0], 'r')\n",
    "    plt.plot(ys, xss[1], 'g')\n",
    "    plt.plot(ys, xss[2], 'b')\n",
    "    plt.show()\n",
    "\n",
    "def bereken_posities(times: np.ndarray, speeds: np.ndarray) -> np.ndarray:\n",
    "    deltas = []\n",
    "    last_pos = speeds[0]\n",
    "    for x in range(len(times)):\n",
    "        deltas.append((last_pos + speeds[x]) / 10) if x > 0 else deltas.append(last_pos)         \n",
    "        last_pos += speeds[x]\n",
    "    return np.array(deltas)\n",
    "\n",
    "def vind_botsing(t, car1, car2, car3) -> Tuple[float, int, float, int, float]: # TODO\n",
    "    \"\"\" Geeft een vijf-tupel terug met de tijd van de botsing, de eerste auto (1,2 of 3),\n",
    "        de positie van de eerste auto, de tweede auto en de positie daarvan.\"\"\"\n",
    "    time = car_a = car_b = pos_car_a = pos_car_b = 0\n",
    "    for i in range(len(t)):\n",
    "        time = t[i]\n",
    "        if abs(car1[i] - car2[i]) <= 0.2:\n",
    "            car_a, car_b = 1, 2\n",
    "            pos_car_a, pos_car_b = car1[i], car2[i]\n",
    "            break\n",
    "        if abs(car1[i] - car3[i]) <= 0.2:\n",
    "            car_a, car_b = 1, 3\n",
    "            pos_car_a, pos_car_b = car1[i], car3[i]\n",
    "            break\n",
    "        if abs(car2[i] - car3[i]) <= 0.2:\n",
    "            car_a, car_b = 2, 3\n",
    "            pos_car_a, pos_car_b = car2[i], car3[i]\n",
    "            break\n",
    "    return (time, car_a, pos_car_a, car_b, pos_car_b) # (botsing_t, botsing_a, botsing_a_pos, botsing_b, botsing_b_pos)\n",
    "\n",
    "t, c1, c2, c3 = get_data()\n",
    "p1 = bereken_posities(t, c1)\n",
    "p2 = bereken_posities(t, c2)\n",
    "p3 = bereken_posities(t, c3)\n",
    "plot_data(t, [p1, p2, p3])"
   ]
  },
  {
   "cell_type": "markdown",
   "metadata": {
    "deletable": false,
    "editable": false
   },
   "source": [
    "### Tests\n",
    "\n",
    "Als je antwoord in de buurt komt, maar niet nauwkeurig genoeg is, dan gebruik je mogelijk left- of right-Riemann sums; probeer je nauwkeurigheid te verbeteren door de trapezoid rule te gebruiken.\n",
    "\n",
    "| **Test** | **Betekenis** |\n",
    "|---:|:---|\n",
    "| `test_time` | Controlleert de tijd van de botsing |\n",
    "| `test_car_a` | Controlleert de identiteit van de eerste auto |\n",
    "| `test_car_a_pos` | Controlleert de positie van de eerste auto |\n",
    "| `test_car_b` | Controlleert de identiteit van de tweede auto |\n",
    "| `test_car_b_pos` | Controlleert de positie van de tweede auto |"
   ]
  },
  {
   "cell_type": "code",
   "execution_count": 22,
   "metadata": {
    "deletable": false,
    "editable": false
   },
   "outputs": [
    {
     "name": "stderr",
     "output_type": "stream",
     "text": [
      "test_car_a (ac_tests.test_verkeer_posities.<locals>.TestVerkeerPosities) ... ok\n",
      "test_car_a_pos (ac_tests.test_verkeer_posities.<locals>.TestVerkeerPosities) ... ok\n",
      "test_car_b (ac_tests.test_verkeer_posities.<locals>.TestVerkeerPosities) ... FAIL\n",
      "test_car_b_pos (ac_tests.test_verkeer_posities.<locals>.TestVerkeerPosities) ... ok\n",
      "test_time (ac_tests.test_verkeer_posities.<locals>.TestVerkeerPosities) ... ok\n",
      "\n",
      "======================================================================\n",
      "FAIL: test_car_b (ac_tests.test_verkeer_posities.<locals>.TestVerkeerPosities)\n",
      "----------------------------------------------------------------------\n",
      "Traceback (most recent call last):\n",
      "  File \"/home/jovyan/work/ac_tests.py\", line 546, in test_car_b\n",
      "    np.testing.assert_almost_equal(self.cap, 2.7, 0.01)\n",
      "  File \"/opt/conda/lib/python3.7/site-packages/numpy/testing/_private/utils.py\", line 601, in assert_almost_equal\n",
      "    raise AssertionError(_build_err_msg())\n",
      "AssertionError: \n",
      "Arrays are not almost equal to 0 decimals\n",
      " ACTUAL: 0.8404903166000001\n",
      " DESIRED: 2.7\n",
      "\n",
      "----------------------------------------------------------------------\n",
      "Ran 5 tests in 0.007s\n",
      "\n",
      "FAILED (failures=1)\n"
     ]
    }
   ],
   "source": [
    "test_verkeer_posities(get_data, bereken_posities, vind_botsing)"
   ]
  },
  {
   "cell_type": "markdown",
   "metadata": {
    "deletable": false,
    "editable": false
   },
   "source": [
    "## Opdracht 32\n",
    "De code die we vanaf [opdracht 25](#opdr25) gezien hebben gaan we uitbreiden voor symbolisch integreren. In deze opdracht gaan we dat doen voor een variabele, sommen, producten met een constante en machten. **Let op: omdat we doorgaan met de objecten van opdracht 25-28 moeten deze cellen uitgevoerd zijn. Als je errors krijgt over `name Constant not defined` dan is dat omdat deze cellen eerst uitgevoerd moeten worden.**\n",
    "\n",
    "De code voor de constante is weer als voorbeeld gegeven. Zoals je ziet wordt integreren altijd met respect tot een bepaalde variabele gedaan; deze variabele wordt als string meegegeven onder de naar `wrt` (with respect to). Om deze in bijvoorbeeld een product te gebruiken moet deze nog wel in een `Variable` verpakt worden.\n",
    "\n",
    "Bij het integreren van een variabele kunnen we twee gevallen onderscheiden: we integreren $x$ met respect to x, in welk geval we eigenlijk de `Power`-regel gebruiken, of we integreren een andere variabele en komen op een product uit.\n",
    "\n",
    "Bij het integreren van een `Product` hoeven we slechts een paar gevallen te ondersteunen: alleen als een van beide argumenten van de som (`left` of `right`) een `Constant` is, of een `Variable` die niet gelijk is aan `wrt`, hoeft onze functie te werken. In deze gevallen kunnen we de constante / variabele negeren, integreren we alleen de andere kant en vermenigvuldigen we dan weer met de constante / variabele.\n",
    "\n",
    "Bijvoorbeeld: als we $\\int xy\\ dx$ hebben dan geldt $y$ als een constante, dus kunnen we dit lezen als $y \\int x\\ dx$. Dit wordt $y \\frac{x^2}{2}$ oftewel $\\frac{x^2y}{2}$. In alle andere gevallen mogen we `None` teruggeven.\n",
    "\n",
    "Om vanuit een het `Product` te kunnen kijken wat voor object we links hebben kunnen we de functie `isinstance` gebruiken: `isinstance(self.left, Constant)` vertelt ons of de linkerkant van ons product een `Constant` is.\n",
    "\n",
    "*De oplettende lezer / doorgewinterde calculist vraagt zich misschien af hoe het zit met de constance $C$ die bij een indefinite integral wordt toegevoegd; deze mogen we hier negeren, en wordt op het einde automatisch toegevoegd door de integraal van een `Function` te nemen. We gaan voorlopig nog niet zo diep dat het zin heeft deze in een deelformule al mee te nemen. Als je je dit niet afvroeg, of hoofdpijn krijgt van deze toevoeging mag je hem negeren.*"
   ]
  },
  {
   "cell_type": "code",
   "execution_count": 23,
   "metadata": {},
   "outputs": [],
   "source": [
    "class Constant(Constant):\n",
    "    def __init__(self, *args, **kwargs):\n",
    "        super().__init__(*args, **kwargs)\n",
    "\n",
    "    def integrate(self, wrt: str): # VOORBEELD\n",
    "        return Product(self, Variable(wrt))\n",
    "\n",
    "class Variable(Variable):\n",
    "    def __init__(self, *args, **kwargs):\n",
    "        super().__init__(*args, **kwargs)\n",
    "        \n",
    "    def integrate(self, wrt: str):\n",
    "        if self.label == wrt:\n",
    "            return Sum(Product(Constant(0.5), Power(self, 2)), Variable('C'))\n",
    "        else:\n",
    "            return Sum(Product(self, Variable('x')), Variable('C'))\n",
    "\n",
    "class Sum(Sum):\n",
    "    def __init__(self, *args, **kwargs):\n",
    "        super().__init__(*args, **kwargs)\n",
    "\n",
    "    def integrate(self, wrt: str):\n",
    "        return Sum(Sum(Product(Constant(0.5), Power(self.left, 2)), Product(self.left, self.right)), Variable('C'))\n",
    "\n",
    "class Product(Product):\n",
    "    def __init__(self, *args, **kwargs):\n",
    "        super().__init__(*args, **kwargs)\n",
    "\n",
    "    def integrate(self, wrt: str):\n",
    "        return Sum(Product(self.right, Product(Constant(0.5), Power(self.left, 2))), Variable('C'))\n",
    "    \n",
    "class Power(Power):\n",
    "    def __init__(self, *args, **kwargs):\n",
    "        super().__init__(*args, **kwargs)\n",
    "\n",
    "    def integrate(self, wrt: str):\n",
    "        return Sum(Product(Constant(1 / (self.exponent + 1)), Power(self.base, self.exponent + 1)), Variable('C'))"
   ]
  },
  {
   "cell_type": "markdown",
   "metadata": {
    "deletable": false,
    "editable": false
   },
   "source": [
    "### Tests\n",
    "\n",
    "Ook hier geldt weer dat er voor de meeste gevallen meerdere goede antwoorden zijn, d.w.z. meerde manieren om dezelfde formule op te schrijven. Vertrouw dus niet blind op de test, maar controlleer je antwoord zelf! Een `ok` uit de test betekent dat je ervan uit kan gaan dat je werk klopt, maar als je geen OK krijgt kan je antwoord nog steeds goed zijn. Dit is helaas een limitatie van het Numpy test-systeem.\n",
    "\n",
    "| **Test** | **Betekenis** |\n",
    "|---:|:---|\n",
    "| `test_variable_x` | Zoekt $\\int x\\ dx$, test `Variable` |\n",
    "| `test_variable_y` | Zoekt $\\int y\\ dx$, test `Variable` |\n",
    "| `test_sum` | Zoekt $\\int (x + y)\\ dx$, test `Sum` |\n",
    "| `test_product` | Zoekt de $\\int xy \\ dx$, test `Product` |\n",
    "| `test_power` | Zoekt $\\int x^3\\ dx$, test `Power` |\n",
    "\n",
    "Om een indicatie te geven of een afgekeurd antwoord toch goed is, is voor elke test een tweede variant beschikbaar, met het achtervoegsel `_equivalent`. Deze test niet of dezelfde formule wordt teruggegeven, maar probeert de formule uit en vergelijkt deze met het verwachte antwoord. Een `ok` hier is geen garantie dat je oplossing helemaal klopt, maar is wel een redelijke indicatie."
   ]
  },
  {
   "cell_type": "code",
   "execution_count": 24,
   "metadata": {
    "deletable": false,
    "editable": false
   },
   "outputs": [
    {
     "name": "stderr",
     "output_type": "stream",
     "text": [
      "test_power (ac_tests.test_symbolic_integration_alfa.<locals>.TestSymbolicIntegrationAlfa) ... FAIL\n",
      "test_product (ac_tests.test_symbolic_integration_alfa.<locals>.TestSymbolicIntegrationAlfa) ... ERROR\n",
      "test_sum (ac_tests.test_symbolic_integration_alfa.<locals>.TestSymbolicIntegrationAlfa) ... ERROR\n",
      "test_variable_x (ac_tests.test_symbolic_integration_alfa.<locals>.TestSymbolicIntegrationAlfa) ... FAIL\n",
      "test_variable_y (ac_tests.test_symbolic_integration_alfa.<locals>.TestSymbolicIntegrationAlfa) ... FAIL\n",
      "\n",
      "======================================================================\n",
      "ERROR: test_product (ac_tests.test_symbolic_integration_alfa.<locals>.TestSymbolicIntegrationAlfa)\n",
      "----------------------------------------------------------------------\n",
      "Traceback (most recent call last):\n",
      "  File \"/home/jovyan/work/ac_tests.py\", line 572, in test_product\n",
      "    np.testing.assert_equal(form.integrate('x'), integral, integrate_message(form, integral))\n",
      "  File \"/home/jovyan/work/ac_tests.py\", line 553, in integrate_message\n",
      "    if src.deriv() and src.deriv().body:\n",
      "  File \"/home/jovyan/work/ac_formula.py\", line 42, in deriv\n",
      "    return Function(self.label, self.body.deriv().simplify(), self.deriv_order + 1)\n",
      "AttributeError: 'Product' object has no attribute 'deriv'\n",
      "\n",
      "======================================================================\n",
      "ERROR: test_sum (ac_tests.test_symbolic_integration_alfa.<locals>.TestSymbolicIntegrationAlfa)\n",
      "----------------------------------------------------------------------\n",
      "Traceback (most recent call last):\n",
      "  File \"/home/jovyan/work/ac_tests.py\", line 576, in test_sum\n",
      "    np.testing.assert_equal(form.integrate('x'), integral, integrate_message(form, integral))\n",
      "  File \"/home/jovyan/work/ac_tests.py\", line 553, in integrate_message\n",
      "    if src.deriv() and src.deriv().body:\n",
      "  File \"/home/jovyan/work/ac_formula.py\", line 42, in deriv\n",
      "    return Function(self.label, self.body.deriv().simplify(), self.deriv_order + 1)\n",
      "AttributeError: 'Sum' object has no attribute 'deriv'\n",
      "\n",
      "======================================================================\n",
      "FAIL: test_power (ac_tests.test_symbolic_integration_alfa.<locals>.TestSymbolicIntegrationAlfa)\n",
      "----------------------------------------------------------------------\n",
      "Traceback (most recent call last):\n",
      "  File \"/home/jovyan/work/ac_tests.py\", line 580, in test_power\n",
      "    np.testing.assert_equal(form.integrate('x'), integral, integrate_message(form, integral))\n",
      "  File \"/opt/conda/lib/python3.7/site-packages/numpy/testing/_private/utils.py\", line 428, in assert_equal\n",
      "    raise AssertionError(msg)\n",
      "AssertionError: \n",
      "Items are not equal:\n",
      "Integrating Function(label='f',body=Power(base=Variable(label='x'),exponent=3),deriv_order=0), I was expecting Sum(left=Product(left=Constant(value=0.25),right=Power(base=Variable(label='x'),exponent=4)),right=Variable(label='C')), but got Function(label='f',body=Sum(left=Sum(left=Product(left=Constant(value=0.25),right=Power(base=Variable(label='x'),exponent=4)),right=Variable(label='C')),right=Variable(label='C')),deriv_order=-1) 😕\n",
      " ACTUAL: <ac_formula.Function object at 0x7fc47c703910>\n",
      " DESIRED: <ac_formula.Function object at 0x7fc47a2b5190>\n",
      "\n",
      "======================================================================\n",
      "FAIL: test_variable_x (ac_tests.test_symbolic_integration_alfa.<locals>.TestSymbolicIntegrationAlfa)\n",
      "----------------------------------------------------------------------\n",
      "Traceback (most recent call last):\n",
      "  File \"/home/jovyan/work/ac_tests.py\", line 564, in test_variable_x\n",
      "    np.testing.assert_equal(form.integrate('x'), integral, integrate_message(form, integral))\n",
      "  File \"/opt/conda/lib/python3.7/site-packages/numpy/testing/_private/utils.py\", line 428, in assert_equal\n",
      "    raise AssertionError(msg)\n",
      "AssertionError: \n",
      "Items are not equal:\n",
      "Integrating Function(label='f',body=Variable(label='x'),deriv_order=0), I was expecting Sum(left=Product(left=Constant(value=0.5),right=Power(base=Variable(label='x'),exponent=2)),right=Variable(label='C')), but got Function(label='f',body=Sum(left=Sum(left=Product(left=Constant(value=0.5),right=Power(base=Variable(label='x'),exponent=2)),right=Variable(label='C')),right=Variable(label='C')),deriv_order=-1) 😕\n",
      " ACTUAL: <ac_formula.Function object at 0x7fc47a2b5550>\n",
      " DESIRED: <ac_formula.Function object at 0x7fc47a2b5050>\n",
      "\n",
      "======================================================================\n",
      "FAIL: test_variable_y (ac_tests.test_symbolic_integration_alfa.<locals>.TestSymbolicIntegrationAlfa)\n",
      "----------------------------------------------------------------------\n",
      "Traceback (most recent call last):\n",
      "  File \"/home/jovyan/work/ac_tests.py\", line 568, in test_variable_y\n",
      "    np.testing.assert_equal(form.integrate('x'), integral, integrate_message(form, integral))\n",
      "  File \"/opt/conda/lib/python3.7/site-packages/numpy/testing/_private/utils.py\", line 428, in assert_equal\n",
      "    raise AssertionError(msg)\n",
      "AssertionError: \n",
      "Items are not equal:\n",
      "Integrating Function(label='f',body=Variable(label='y'),deriv_order=0), I was expecting Sum(left=Product(left=Variable(label='x'),right=Variable(label='y')),right=Variable(label='C')), but got Function(label='f',body=Sum(left=Sum(left=Product(left=Variable(label='y'),right=Variable(label='x')),right=Variable(label='C')),right=Variable(label='C')),deriv_order=-1) 😕\n",
      " ACTUAL: <ac_formula.Function object at 0x7fc47a2a31d0>\n",
      " DESIRED: <ac_formula.Function object at 0x7fc47a2b5b90>\n",
      "\n",
      "----------------------------------------------------------------------\n",
      "Ran 5 tests in 0.122s\n",
      "\n",
      "FAILED (failures=3, errors=2)\n",
      "test_power_equivalent (ac_tests.test_symbolic_integration_alfa_eq.<locals>.TestSymbolicIntegrationAlfaEq) ... ok\n",
      "test_product_equivalent (ac_tests.test_symbolic_integration_alfa_eq.<locals>.TestSymbolicIntegrationAlfaEq) ... ok\n",
      "test_sum_equivalent (ac_tests.test_symbolic_integration_alfa_eq.<locals>.TestSymbolicIntegrationAlfaEq) ... ok\n",
      "test_variable_x_equivalent (ac_tests.test_symbolic_integration_alfa_eq.<locals>.TestSymbolicIntegrationAlfaEq) ... ok\n",
      "test_variable_y_equivalent (ac_tests.test_symbolic_integration_alfa_eq.<locals>.TestSymbolicIntegrationAlfaEq) ... ok\n",
      "\n",
      "----------------------------------------------------------------------\n",
      "Ran 5 tests in 0.015s\n",
      "\n",
      "OK\n"
     ]
    }
   ],
   "source": [
    "test_symbolic_integration_alfa(Constant, Variable, Sum, Product, Power)\n",
    "test_symbolic_integration_alfa_eq(Constant, Variable, Sum, Product, Power)"
   ]
  },
  {
   "cell_type": "markdown",
   "metadata": {
    "deletable": false,
    "editable": false
   },
   "source": [
    "## Opdracht 33\n",
    "Breid de mogelijkheid tot integreren uit naar de goniometrische functies, de exponenten en de logaritmen. Je mag ervan uit gaan dat deze met enkel een variabele (zoals $x$) worden gebruikt, en ook met respect tot diezelfde $x$ worden geïntegreerd."
   ]
  },
  {
   "cell_type": "code",
   "execution_count": 25,
   "metadata": {},
   "outputs": [],
   "source": [
    "class Sin(Sin):\n",
    "    def __init__(self, *args, **kwargs):\n",
    "        super().__init__(*args, **kwargs)\n",
    "\n",
    "    def integrate(self, wrt: str): # TODO\n",
    "        return Sum(Negative(Cos(self.argument)), Variable('C'))\n",
    "\n",
    "class Cos(Cos):\n",
    "    def __init__(self, *args, **kwargs):\n",
    "        super().__init__(*args, **kwargs)\n",
    "\n",
    "    def integrate(self, wrt: str): # TODO\n",
    "        return Sum(Sin(self.argument), Variable('C'))\n",
    "    \n",
    "class Tan(Tan):\n",
    "    def __init__(self, *args, **kwargs):\n",
    "        super().__init__(*args, **kwargs)\n",
    "\n",
    "    def integrate(self, wrt: str): # TODO\n",
    "        return Sum(Negative(Ln(Cos(self.argument))), Variable('C'))\n",
    "\n",
    "class E(E):\n",
    "    def __init__(self, *args, **kwargs):\n",
    "        super().__init__(*args, **kwargs)\n",
    "\n",
    "    def integrate(self, wrt: str): # TODO\n",
    "        return Sum(self, Variable('C'))\n",
    "    \n",
    "class Exponent(Exponent):\n",
    "    def __init__(self, *args, **kwargs):\n",
    "        super().__init__(*args, **kwargs)\n",
    "\n",
    "    def integrate(self, wrt: str): # TODO\n",
    "        return Sum(Product(Exponent(self.base, self.exponent), Power(Ln(self.base), -1)), Variable('C'))\n",
    "    \n",
    "class Ln(Ln):\n",
    "    def __init__(self, *args, **kwargs):\n",
    "        super().__init__(*args, **kwargs)\n",
    "\n",
    "    def integrate(self, wrt: str): # TODO\n",
    "        return Sum(Product(self.argument, self), Sum(Negative(self.argument), Variable('C')))\n",
    "    \n",
    "class Log(Log):\n",
    "    def __init__(self, *args, **kwargs):\n",
    "        super().__init__(*args, **kwargs)\n",
    "\n",
    "    def integrate(self, wrt: str): # TODO\n",
    "        return Sum(Product(Product(self.argument, Sum(Ln(self.argument), Negative(Constant(1)))), Power(Ln(self.base), -1)), Variable('C'))"
   ]
  },
  {
   "cell_type": "markdown",
   "metadata": {
    "deletable": false,
    "editable": false
   },
   "source": [
    "### Tests\n",
    "\n",
    "Ook hier geldt weer dat er voor de meeste gevallen meerdere goede antwoorden zijn, d.w.z. meerde manieren om dezelfde formule op te schrijven. Vertrouw dus niet blind op de test, maar controlleer je antwoord zelf! Een `ok` uit de test betekent dat je ervan uit kan gaan dat je werk klopt, maar als je geen OK krijgt kan je antwoord nog steeds goed zijn. Dit is helaas een limitatie van het Numpy test-systeem.\n",
    "\n",
    "| **Test** | **Betekenis** |\n",
    "|---:|:---|\n",
    "| `test_sin` | Zoekt $\\int \\text{sin}(x)\\ dx$, test `Sin` |\n",
    "| `test_cos` | Zoekt $\\int \\text{cos}(x)\\ dx$, test `Cos` |\n",
    "| `test_tan` | Zoekt $\\int \\text{tan}(x)\\ dx$, test `Tan` |\n",
    "| `test_e` | Zoekt $\\int e^x\\ dx$, test `E` |\n",
    "| `test_exponent` | Zoekt $\\int 3^x\\ dx$, test `Exponent` |\n",
    "| `test_ln` | Zoekt $\\int \\text{ln}(x)\\ dx$, test `Ln` |\n",
    "| `test_log` | Zoekt $\\int \\text{log}_3(x)\\ dx$, test `Log` |\n",
    "\n",
    "Om een indicatie te geven of een afgekeurd antwoord toch goed is, is voor elke test een tweede variant beschikbaar, met het achtervoegsel `_equivalent`. Deze test niet of dezelfde formule wordt teruggegeven, maar probeert de formule uit en vergelijkt deze met het verwachte antwoord. Een `ok` hier is geen garantie dat je oplossing helemaal klopt, maar is wel een redelijke indicatie. "
   ]
  },
  {
   "cell_type": "code",
   "execution_count": 26,
   "metadata": {
    "deletable": false,
    "editable": false,
    "scrolled": false
   },
   "outputs": [
    {
     "name": "stderr",
     "output_type": "stream",
     "text": [
      "test_cos (ac_tests.test_symbolic_integration_bravo.<locals>.TestSymbolicIntegrationBravo) ... FAIL\n",
      "test_e (ac_tests.test_symbolic_integration_bravo.<locals>.TestSymbolicIntegrationBravo) ... FAIL\n",
      "test_exponent (ac_tests.test_symbolic_integration_bravo.<locals>.TestSymbolicIntegrationBravo) ... FAIL\n",
      "test_ln (ac_tests.test_symbolic_integration_bravo.<locals>.TestSymbolicIntegrationBravo) ... ERROR\n",
      "test_log (ac_tests.test_symbolic_integration_bravo.<locals>.TestSymbolicIntegrationBravo) ... FAIL\n",
      "test_sin (ac_tests.test_symbolic_integration_bravo.<locals>.TestSymbolicIntegrationBravo) ... FAIL\n",
      "test_tan (ac_tests.test_symbolic_integration_bravo.<locals>.TestSymbolicIntegrationBravo) ... FAIL\n",
      "\n",
      "======================================================================\n",
      "ERROR: test_ln (ac_tests.test_symbolic_integration_bravo.<locals>.TestSymbolicIntegrationBravo)\n",
      "----------------------------------------------------------------------\n",
      "Traceback (most recent call last):\n",
      "  File \"/home/jovyan/work/ac_tests.py\", line 633, in test_ln\n",
      "    np.testing.assert_equal(form.integrate('x'), integral, integrate_message(form, integral))\n",
      "  File \"/home/jovyan/work/ac_tests.py\", line 553, in integrate_message\n",
      "    if src.deriv() and src.deriv().body:\n",
      "  File \"/home/jovyan/work/ac_formula.py\", line 42, in deriv\n",
      "    return Function(self.label, self.body.deriv().simplify(), self.deriv_order + 1)\n",
      "  File \"<ipython-input-6-0714b2bfbb9c>\", line 48, in deriv\n",
      "    return Product(Constant(self.argument.exponent), Power(self.argument.base, -1)).simplify()\n",
      "AttributeError: 'Variable' object has no attribute 'exponent'\n",
      "\n",
      "======================================================================\n",
      "FAIL: test_cos (ac_tests.test_symbolic_integration_bravo.<locals>.TestSymbolicIntegrationBravo)\n",
      "----------------------------------------------------------------------\n",
      "Traceback (most recent call last):\n",
      "  File \"/home/jovyan/work/ac_tests.py\", line 615, in test_cos\n",
      "    np.testing.assert_equal(form.integrate('x'), integral, integrate_message(form, integral))\n",
      "  File \"/opt/conda/lib/python3.7/site-packages/numpy/testing/_private/utils.py\", line 428, in assert_equal\n",
      "    raise AssertionError(msg)\n",
      "AssertionError: \n",
      "Items are not equal:\n",
      "Integrating Function(label='f',body=Cos(argument=Variable(label='x')),deriv_order=0), I was expecting Sum(left=Sin(argument=Variable(label='x')),right=Variable(label='C')), but got Function(label='f',body=Sum(left=Sum(left=Sin(argument=Variable(label='x')),right=Variable(label='C')),right=Variable(label='C')),deriv_order=-1) 😕\n",
      " ACTUAL: <ac_formula.Function object at 0x7fc47a2a3f50>\n",
      " DESIRED: <ac_formula.Function object at 0x7fc47c68b210>\n",
      "\n",
      "======================================================================\n",
      "FAIL: test_e (ac_tests.test_symbolic_integration_bravo.<locals>.TestSymbolicIntegrationBravo)\n",
      "----------------------------------------------------------------------\n",
      "Traceback (most recent call last):\n",
      "  File \"/home/jovyan/work/ac_tests.py\", line 623, in test_e\n",
      "    np.testing.assert_equal(form.integrate('x'), integral, integrate_message(form, integral))\n",
      "  File \"/opt/conda/lib/python3.7/site-packages/numpy/testing/_private/utils.py\", line 428, in assert_equal\n",
      "    raise AssertionError(msg)\n",
      "AssertionError: \n",
      "Items are not equal:\n",
      "Integrating Function(label='f',body=E(exponent=Variable(label='x')),deriv_order=0), I was expecting Sum(left=E(exponent=Variable(label='x')),right=Variable(label='C')), but got Function(label='f',body=Sum(left=Sum(left=E(exponent=Variable(label='x')),right=Variable(label='C')),right=Variable(label='C')),deriv_order=-1) 😕\n",
      " ACTUAL: <ac_formula.Function object at 0x7fc47a2a3d90>\n",
      " DESIRED: <ac_formula.Function object at 0x7fc47a2a3550>\n",
      "\n",
      "======================================================================\n",
      "FAIL: test_exponent (ac_tests.test_symbolic_integration_bravo.<locals>.TestSymbolicIntegrationBravo)\n",
      "----------------------------------------------------------------------\n",
      "Traceback (most recent call last):\n",
      "  File \"/home/jovyan/work/ac_tests.py\", line 628, in test_exponent\n",
      "    np.testing.assert_equal(form.integrate('x'), integral, integrate_message(form, integral))\n",
      "  File \"/opt/conda/lib/python3.7/site-packages/numpy/testing/_private/utils.py\", line 428, in assert_equal\n",
      "    raise AssertionError(msg)\n",
      "AssertionError: \n",
      "Items are not equal:\n",
      "Integrating Function(label='f',body=Exponent(base=Constant(value=3),exponent=Variable(label='x')),deriv_order=0), I was expecting Sum(left=Product(left=Exponent(base=Constant(value=3),exponent=Variable(label='x')),right=Power(base=Ln(argument=Constant(value=3)),exponent=-1)),right=Variable(label='C')), but got Function(label='f',body=Sum(left=Sum(left=Product(left=Exponent(base=Constant(value=3),exponent=Variable(label='x')),right=Power(base=Ln(argument=Constant(value=3)),exponent=-1)),right=Variable(label='C')),right=Variable(label='C')),deriv_order=-1) 😕\n",
      " ACTUAL: <ac_formula.Function object at 0x7fc47a2a34d0>\n",
      " DESIRED: <ac_formula.Function object at 0x7fc47a2a3d90>\n",
      "\n",
      "======================================================================\n",
      "FAIL: test_log (ac_tests.test_symbolic_integration_bravo.<locals>.TestSymbolicIntegrationBravo)\n",
      "----------------------------------------------------------------------\n",
      "Traceback (most recent call last):\n",
      "  File \"/home/jovyan/work/ac_tests.py\", line 638, in test_log\n",
      "    np.testing.assert_equal(form.integrate('x'), integral, integrate_message(form, integral))\n",
      "  File \"/opt/conda/lib/python3.7/site-packages/numpy/testing/_private/utils.py\", line 428, in assert_equal\n",
      "    raise AssertionError(msg)\n",
      "AssertionError: \n",
      "Items are not equal:\n",
      "Integrating Function(label='f',body=Log(base=Constant(value=3),exponent=Variable(label='x')),deriv_order=0), I was expecting Sum(left=Product(left=Product(left=Variable(label='x'),right=Sum(left=Ln(argument=Variable(label='x')),right=Negative(inverse=Constant(value=1)))),right=Power(base=Ln(argument=Constant(value=3)),exponent=-1)),right=Variable(label='C')), but got Function(label='f',body=Sum(left=Sum(left=Product(left=Product(left=Variable(label='x'),right=Sum(left=Ln(argument=Variable(label='x')),right=Negative(inverse=Constant(value=1)))),right=Power(base=Ln(argument=Constant(value=3)),exponent=-1)),right=Variable(label='C')),right=Variable(label='C')),deriv_order=-1) 😕\n",
      " ACTUAL: <ac_formula.Function object at 0x7fc47a2a3f90>\n",
      " DESIRED: <ac_formula.Function object at 0x7fc47a2a3a90>\n",
      "\n",
      "======================================================================\n",
      "FAIL: test_sin (ac_tests.test_symbolic_integration_bravo.<locals>.TestSymbolicIntegrationBravo)\n",
      "----------------------------------------------------------------------\n",
      "Traceback (most recent call last):\n",
      "  File \"/home/jovyan/work/ac_tests.py\", line 611, in test_sin\n",
      "    np.testing.assert_equal(form.integrate('x'), integral, integrate_message(form, integral))\n",
      "  File \"/opt/conda/lib/python3.7/site-packages/numpy/testing/_private/utils.py\", line 428, in assert_equal\n",
      "    raise AssertionError(msg)\n",
      "AssertionError: \n",
      "Items are not equal:\n",
      "Integrating Function(label='f',body=Sin(argument=Variable(label='x')),deriv_order=0), I was expecting Sum(left=Negative(inverse=Cos(argument=Variable(label='x'))),right=Variable(label='C')), but got Function(label='f',body=Sum(left=Sum(left=Negative(inverse=Cos(argument=Variable(label='x'))),right=Variable(label='C')),right=Variable(label='C')),deriv_order=-1) 😕\n",
      " ACTUAL: <ac_formula.Function object at 0x7fc47a2a34d0>\n",
      " DESIRED: <ac_formula.Function object at 0x7fc47a2a3d90>\n",
      "\n",
      "======================================================================\n",
      "FAIL: test_tan (ac_tests.test_symbolic_integration_bravo.<locals>.TestSymbolicIntegrationBravo)\n",
      "----------------------------------------------------------------------\n",
      "Traceback (most recent call last):\n",
      "  File \"/home/jovyan/work/ac_tests.py\", line 619, in test_tan\n",
      "    np.testing.assert_equal(form.integrate('x'), integral, integrate_message(form, integral))\n",
      "  File \"/opt/conda/lib/python3.7/site-packages/numpy/testing/_private/utils.py\", line 428, in assert_equal\n",
      "    raise AssertionError(msg)\n",
      "AssertionError: \n",
      "Items are not equal:\n",
      "Integrating Function(label='f',body=Tan(argument=Variable(label='x')),deriv_order=0), I was expecting Sum(left=Negative(inverse=Ln(argument=Cos(argument=Variable(label='x')))),right=Variable(label='C')), but got Function(label='f',body=Sum(left=Sum(left=Negative(inverse=Ln(argument=Cos(argument=Variable(label='x')))),right=Variable(label='C')),right=Variable(label='C')),deriv_order=-1) 😕\n",
      " ACTUAL: <ac_formula.Function object at 0x7fc47a2a3050>\n",
      " DESIRED: <ac_formula.Function object at 0x7fc47a2a3a90>\n",
      "\n",
      "----------------------------------------------------------------------\n",
      "Ran 7 tests in 0.010s\n",
      "\n",
      "FAILED (failures=6, errors=1)\n"
     ]
    },
    {
     "name": "stderr",
     "output_type": "stream",
     "text": [
      "test_cos_equivalent (ac_tests.test_symbolic_integration_bravo_eq.<locals>.TestSymbolicIntegrationBravoEq) ... ok\n",
      "test_e_equivalent (ac_tests.test_symbolic_integration_bravo_eq.<locals>.TestSymbolicIntegrationBravoEq) ... ok\n",
      "test_exponent_equivalent (ac_tests.test_symbolic_integration_bravo_eq.<locals>.TestSymbolicIntegrationBravoEq) ... ok\n",
      "test_ln_equivalent (ac_tests.test_symbolic_integration_bravo_eq.<locals>.TestSymbolicIntegrationBravoEq) ... ok\n",
      "test_log_equivalent (ac_tests.test_symbolic_integration_bravo_eq.<locals>.TestSymbolicIntegrationBravoEq) ... ok\n",
      "test_sin_equivalent (ac_tests.test_symbolic_integration_bravo_eq.<locals>.TestSymbolicIntegrationBravoEq) ... ok\n",
      "test_tan_equivalent (ac_tests.test_symbolic_integration_bravo_eq.<locals>.TestSymbolicIntegrationBravoEq) ... ok\n",
      "\n",
      "----------------------------------------------------------------------\n",
      "Ran 7 tests in 0.006s\n",
      "\n",
      "OK\n"
     ]
    }
   ],
   "source": [
    "test_symbolic_integration_bravo(Constant, Variable, Sum, Product, Power, Sin, Cos, Tan, E, Exponent, Ln, Log)\n",
    "test_symbolic_integration_bravo_eq(Constant, Variable, Sum, Product, Power, Sin, Cos, Tan, E, Exponent, Ln, Log)"
   ]
  },
  {
   "cell_type": "markdown",
   "metadata": {
    "deletable": false,
    "editable": false
   },
   "source": [
    "## Opdracht 34\n",
    "In de cel hieronder worden een paar sommen gegenereerd met betrekking tot integralen. Maak deze in de gele cel daaronder, en laat zien hoe je op je antwoord gekomen bent."
   ]
  },
  {
   "cell_type": "code",
   "execution_count": 51,
   "metadata": {
    "deletable": false,
    "editable": false
   },
   "outputs": [
    {
     "data": {
      "text/markdown": [
       "**(a)** Bereken $$\\int \\sqrt[6]x^6\\ dx$$"
      ],
      "text/plain": [
       "<IPython.core.display.Markdown object>"
      ]
     },
     "metadata": {},
     "output_type": "display_data"
    },
    {
     "data": {
      "text/markdown": [
       "<details><pre>$$\\int \\sqrt[6]x^6\\ dx$$</pre></details>"
      ],
      "text/plain": [
       "<IPython.core.display.Markdown object>"
      ]
     },
     "metadata": {},
     "output_type": "display_data"
    },
    {
     "data": {
      "text/markdown": [
       "**(b)** Bereken $$\\int_2^7 5e^x\\ dx$$"
      ],
      "text/plain": [
       "<IPython.core.display.Markdown object>"
      ]
     },
     "metadata": {},
     "output_type": "display_data"
    },
    {
     "data": {
      "text/markdown": [
       "<details><pre>$$\\int_2^7 5e^x\\ dx$$</pre></details>"
      ],
      "text/plain": [
       "<IPython.core.display.Markdown object>"
      ]
     },
     "metadata": {},
     "output_type": "display_data"
    },
    {
     "data": {
      "text/markdown": [
       "**(c)** Bereken $$\\int_{\\frac{3}{2}\\pi}^{\\frac{6}{2}\\pi} -3 \\text{sin}(x)\\ dx$$"
      ],
      "text/plain": [
       "<IPython.core.display.Markdown object>"
      ]
     },
     "metadata": {},
     "output_type": "display_data"
    },
    {
     "data": {
      "text/markdown": [
       "<details><pre>$$\\int_{\\frac{3}{2}\\pi}^{\\frac{6}{2}\\pi} -3 \\text{sin}(x)\\ dx$$</pre></details>"
      ],
      "text/plain": [
       "<IPython.core.display.Markdown object>"
      ]
     },
     "metadata": {},
     "output_type": "display_data"
    },
    {
     "data": {
      "text/markdown": [
       "**(d)** Bereken $$\\int (35x^6)(5x^7+6)^8\\ dx$$"
      ],
      "text/plain": [
       "<IPython.core.display.Markdown object>"
      ]
     },
     "metadata": {},
     "output_type": "display_data"
    },
    {
     "data": {
      "text/markdown": [
       "<details><pre>$$\\int (35x^6)(5x^7+6)^8\\ dx$$</pre></details>"
      ],
      "text/plain": [
       "<IPython.core.display.Markdown object>"
      ]
     },
     "metadata": {},
     "output_type": "display_data"
    },
    {
     "data": {
      "text/markdown": [
       "**(e)** Bereken $$\\int (5x^6)\\text{log}_4(x)\\ dx$$"
      ],
      "text/plain": [
       "<IPython.core.display.Markdown object>"
      ]
     },
     "metadata": {},
     "output_type": "display_data"
    },
    {
     "data": {
      "text/markdown": [
       "<details><pre>$$\\int (5x^6)\\text{log}_4(x)\\ dx$$</pre></details>"
      ],
      "text/plain": [
       "<IPython.core.display.Markdown object>"
      ]
     },
     "metadata": {},
     "output_type": "display_data"
    }
   ],
   "source": [
    "RNG().set(1)\n",
    "random_integrals()"
   ]
  },
  {
   "cell_type": "markdown",
   "metadata": {},
   "source": [
    "<div style=\"background:#fffff0;\">\n",
    "    \n",
    "**(a)** $\\int \\sqrt[6]x^6\\ dx = x^\\frac{6}{6} dx = x dx = \\frac{x^2}{2} + C$\n",
    "\n",
    "<hr />\n",
    "    \n",
    "**(b)** $\\int_2^7 5e^x\\ dx = 5 \\cdot \\int_2^7 e^x\\ dx = 5 \\cdot (e^7 - e^2)$\n",
    "\n",
    "<hr />\n",
    "    \n",
    "**(c)** $\\int_{\\frac{3}{2}\\pi}^{\\frac{6}{2}\\pi} -3 \\text{sin}(x)\\ dx = -3 \\cdot \\int_{\\frac{3}{2}\\pi}^{\\frac{6}{2}\\pi} \\text{sin}(x)\\ dx = -3 \\cdot (-\\cos(\\frac{6}{2}\\pi) - -\\cos(\\frac{3}{2}\\pi)) = -3 \\cdot 1 = -3$\n",
    "\n",
    "<hr />\n",
    "    \n",
    "**(d)** $\\int (35x^6)(5x^7+6)^8\\ dx = 35 \\cdot \\int (x^6)(5x^7+6)^8\\ dx = \\frac{1}{9}(5x^7+6)^9+C $\n",
    "\n",
    "<hr />\n",
    "    \n",
    "**(e)** $\\int (5x^6)\\text{log}_4(x)\\ dx = 5 \\cdot \\int (x^6)\\text{log}_4(x)\\ dx = 5(\\frac{1}{7}x^7\\log _4(x)-\\frac{x^7}{98\\ln (2)}) + C$\n",
    "\n",
    "</div>"
   ]
  },
  {
   "cell_type": "markdown",
   "metadata": {
    "deletable": false,
    "editable": false
   },
   "source": [
    "## Opdracht 35\n",
    "In sommige gevallen hebben we een formule om een verandering te bepalen, maar niet om de waarde op een bepaald tijdstip te bepalen. We hebben de afgeleide van een formule, en kunnen misschien een enkele meting doen, en moeten hiermee proberen de niet-afgeleide formule te bepalen. Dit noemen we differentiaal-vergelijkingen. We weten hoe we met de indefinite integral een een soort anti-afgeleide kunnen vinden, maar hiermee vinden we eigenlijk een oneindige set van mogelijke formules: de onbekende constante $C$ die we aan het einde bij de integraal optellen kan namelijk alles zijn. We hebben de waarde van de originele formule op een enkel punt nodig om deze $C$ te bepalen en de originele formule te vinden.\n",
    "\n",
    "Hieronder staat een random differentiaal-vergelijking. Je krijgt de afgeleide van een formule, in combinatie met de waarde van de originele formule op een bepaalde waarde. Bereken de originele formule en pas deze toe op de gevraagde waarde."
   ]
  },
  {
   "cell_type": "code",
   "execution_count": 4,
   "metadata": {
    "deletable": false,
    "editable": false
   },
   "outputs": [
    {
     "data": {
      "text/markdown": [
       "Vind $f(13)$ gegeven de volgende afgeleidde en waarde:\n",
       "\n",
       "$$f^\\prime(x) = 6x^1+20e^x,\\ f(-2) = -114+20e^{-2}$$"
      ],
      "text/plain": [
       "<IPython.core.display.Markdown object>"
      ]
     },
     "metadata": {},
     "output_type": "display_data"
    },
    {
     "data": {
      "text/markdown": [
       "LaTeX-code van de afgeleide: <details><pre>f^\\prime(x) = 6x^1+20e^x</pre></details>"
      ],
      "text/plain": [
       "<IPython.core.display.Markdown object>"
      ]
     },
     "metadata": {},
     "output_type": "display_data"
    },
    {
     "data": {
      "text/markdown": [
       "LaTeX-code van de functie op -2: <details><pre>f(-2) = -114+20e^{-2}</pre></details>"
      ],
      "text/plain": [
       "<IPython.core.display.Markdown object>"
      ]
     },
     "metadata": {},
     "output_type": "display_data"
    }
   ],
   "source": [
    "RNG().set(2)\n",
    "random_de()"
   ]
  },
  {
   "cell_type": "markdown",
   "metadata": {},
   "source": [
    "<div style=\"background:#fffff0;\">\n",
    "    \n",
    "$f(x) = 3x^2 + 20e^x - 102$\n",
    "    \n",
    "De uitkomst van de formule op de gevraagde waarde is $405 + 20e^{13}$\n",
    "\n",
    "</div>"
   ]
  },
  {
   "cell_type": "markdown",
   "metadata": {
    "deletable": false,
    "editable": false
   },
   "source": [
    "## Opdracht 36\n",
    "Als afsluiter hebben we nog een differentiaalvergelijking: Gegeven\n",
    "\n",
    "$$f^\\prime = x^2 + xy + y^2, \\quad f(0) = 1$$\n",
    "\n",
    "bepaal $f(0.95)$.\n",
    "\n",
    "Deze formule is wat lastiger met de kennis die we nu van calculus hebben (kudos als het je lukt met de hand), dus we nemen een shortcut en gaan deze numeriek oplossen. Dit doen we met Euler's method, waarbij we een stapgrootte $\\delta_x = 0.025$ hanteren. Dit komt neer op 38 stappen nieuwe $x$- en $y$-waardes berekenen, en hier heeft niemand zin in. Gelukkig zijn we programmeurs!\n",
    "\n",
    "Schrijf een functie `euler()` die, gegeven een afgeleide van een functie (de Python-functie `afgeleide_functie()`), een start $x$ (in dit geval $0$), een start $y$ (in dit geval $1$), een $\\delta_x$ (in dit geval $0.025$) en een $\\text{target}_x$ (in dit geval $0.9$) de waarde van $f(0.9)$ bepaalt."
   ]
  },
  {
   "cell_type": "code",
   "execution_count": 27,
   "metadata": {},
   "outputs": [],
   "source": [
    "def afgeleide_functie(x,y):\n",
    "    return x**2 + x*y + y**2\n",
    "\n",
    "def euler(f_prime, initial_x, initial_y, delta_x, target_x): \n",
    "    x, y = initial_x, initial_y\n",
    "    while x < target_x: \n",
    "        y += delta_x * f_prime(x, y) \n",
    "        x += delta_x \n",
    "    return y"
   ]
  },
  {
   "cell_type": "markdown",
   "metadata": {
    "deletable": false,
    "editable": false
   },
   "source": [
    "### Tests\n",
    "De enige test voor deze functie is of de uiteindelijke waarde voor $f(0.9)$ klopt met de gegeven startcondities en stapgrootte."
   ]
  },
  {
   "cell_type": "code",
   "execution_count": 28,
   "metadata": {
    "deletable": false,
    "editable": false
   },
   "outputs": [
    {
     "name": "stderr",
     "output_type": "stream",
     "text": [
      "test_result (ac_tests.test_euler.<locals>.TestEuler) ... ok\n",
      "\n",
      "----------------------------------------------------------------------\n",
      "Ran 1 test in 0.002s\n",
      "\n",
      "OK\n"
     ]
    }
   ],
   "source": [
    "test_euler(afgeleide_functie, euler)"
   ]
  },
  {
   "cell_type": "markdown",
   "metadata": {
    "deletable": false,
    "editable": false
   },
   "source": [
    "# Checkpoint Delta  <a id='cp-delta'></a>\n",
    "Als je alles hierboven hebt gemaakt kun je je werk inleveren. Als de testen aangeven dat er nog fouten in zitten, probeer deze dan te verbeteren, maar schroom ook niet om de docent om hulp te vragen als je er niet uitkomt.\n",
    "\n",
    "Om je werk in te leveren moet je er allereerst voor zorgen dat je Notebook is opgeslagen (ctrl-s of het icoontje in de toolbar). Daarna kun je een Git-commit maken en deze naar je eigen GitHub of GitLab pushen. De link naar je repository is uiteindelijk wat je inlevert op Canvas, om de docent een seintje te geven dat er werk te beoordelen is."
   ]
  }
 ],
 "metadata": {
  "celltoolbar": "Edit Metadata",
  "kernelspec": {
   "display_name": "Python 3",
   "language": "python",
   "name": "python3"
  },
  "language_info": {
   "codemirror_mode": {
    "name": "ipython",
    "version": 3
   },
   "file_extension": ".py",
   "mimetype": "text/x-python",
   "name": "python",
   "nbconvert_exporter": "python",
   "pygments_lexer": "ipython3",
   "version": "3.7.6"
  }
 },
 "nbformat": 4,
 "nbformat_minor": 2
}
